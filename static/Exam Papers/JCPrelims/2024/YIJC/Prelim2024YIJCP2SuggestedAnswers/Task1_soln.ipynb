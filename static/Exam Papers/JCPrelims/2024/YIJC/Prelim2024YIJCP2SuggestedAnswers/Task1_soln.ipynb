{
 "cells": [
  {
   "cell_type": "code",
   "execution_count": 1,
   "metadata": {},
   "outputs": [
    {
     "data": {
      "text/plain": [
       "201"
      ]
     },
     "execution_count": 1,
     "metadata": {},
     "output_type": "execute_result"
    }
   ],
   "source": [
    "#Task 1.1\n",
    "def hash(string):\n",
    "    hash_value = 9619                               #[1m] hash_value\n",
    "    for char in string:\n",
    "        hash_value = hash_value * 37 + ord(char)    #[1m] iteration + calc\n",
    "\n",
    "    return hash_value % 250                         #[1m] modulo and return\n",
    "\n",
    "\n",
    "hash('ABC')"
   ]
  },
  {
   "cell_type": "code",
   "execution_count": 5,
   "metadata": {},
   "outputs": [
    {
     "name": "stdout",
     "output_type": "stream",
     "text": [
      "['117,Jurong East Avenue 1,S228488', '210,Tampines Street 82,S759371', '162,Toa Payoh Lorong 1,S889216', '', '', '', '965,Clementi Avenue 3,S577719', '', '627,Thomson Road,S716999', '']\n",
      "51\n"
     ]
    }
   ],
   "source": [
    "#Task 1.2\n",
    "\n",
    "hash_table = [''] * 250                     #[1m] initialise 250 hash table\n",
    "uninserted_addresses = []\n",
    "file = open('ADDRESSES.TXT')                #[1m] open and close file\n",
    "for line in file:\n",
    "    line = line.strip()                     \n",
    "    hash_val = hash(line)                   #[1m] strip and hash\n",
    "    if hash_table[hash_val] == '':\n",
    "        hash_table[hash_val] = line         #[1m] insert into table\n",
    "    else:\n",
    "        uninserted_addresses.append(line)   \n",
    "\n",
    "file.close()\n",
    "\n",
    "print(hash_table[-10:])\n",
    "print(len(uninserted_addresses))            #[1m] print first 10 entries and len of uninserted_addresses\n",
    "\n",
    "\n"
   ]
  },
  {
   "cell_type": "code",
   "execution_count": 6,
   "metadata": {},
   "outputs": [
    {
     "name": "stdout",
     "output_type": "stream",
     "text": [
      "['117,Jurong East Avenue 1,S228488', '210,Tampines Street 82,S759371', '162,Toa Payoh Lorong 1,S889216', '914,Braddell Heights,17-009,S605735', '756,Marine Parade Road,S180752', '', '965,Clementi Avenue 3,S577719', '', '627,Thomson Road,S716999', '']\n"
     ]
    },
    {
     "data": {
      "text/plain": [
       "0"
      ]
     },
     "execution_count": 6,
     "metadata": {},
     "output_type": "execute_result"
    }
   ],
   "source": [
    "#Task 1.3\n",
    "\n",
    "hash_table = [''] * 250                     \n",
    "uninserted_addresses = []\n",
    "file = open('ADDRESSES.TXT')                \n",
    "for line in file:\n",
    "    line = line.strip()                     \n",
    "    hash_val = hash(line)                   \n",
    "    if hash_table[hash_val] == '':\n",
    "        hash_table[hash_val] = line         \n",
    "    else:\n",
    "        added = False\n",
    "        for i in range(hash_val + 1, len(hash_table)): #[1m] prob bottom half\n",
    "            if hash_table[i] == '':\n",
    "                hash_table[i] = line\n",
    "                added = True\n",
    "                break\n",
    "        if added == False:                              #[1m] probe top half\n",
    "            for i in range(hash_val):\n",
    "                if hash_table[i] == '':\n",
    "                    hash_table[i] = line\n",
    "                    added = True\n",
    "                    break\n",
    "        if added == False:\n",
    "            uninserted_addresses.append(line)\n",
    "           \n",
    "file.close()\n",
    "\n",
    "print(hash_table[-10:])    \n",
    "len(uninserted_addresses)                        "
   ]
  },
  {
   "cell_type": "code",
   "execution_count": 10,
   "metadata": {},
   "outputs": [
    {
     "name": "stdout",
     "output_type": "stream",
     "text": [
      "True\n",
      "False\n"
     ]
    }
   ],
   "source": [
    "#Task 1.4\n",
    "\n",
    "def hash_search(table, address):\n",
    "    hash_val = hash(address)                        #[1m] hashing search address\n",
    "    if table[hash_val] == address:\n",
    "        return True\n",
    "    else:\n",
    "        for i in range(hash_val + 1, len(table)):   \n",
    "            if table[i] == address:\n",
    "                return True\n",
    "        for i in range(hash_val):                   #[1m] correct search top + bottom\n",
    "            if table[i] == address:\n",
    "                return True                         #[1m] correct True and False returns\n",
    "                return True                         #[1m] correct True and False returns\n",
    "        return False\n",
    "\n",
    "\n",
    "\n",
    "print(hash_search(hash_table, '756,Marine Parade Road,S180752'))    #[1m] 2 test cases (1 True 1 False)\n",
    "print(hash_search(hash_table, '39,Pasir Ris Drive 6,S535337'))      "
   ]
  }
 ],
 "metadata": {
  "kernelspec": {
   "display_name": ".venv",
   "language": "python",
   "name": "python3"
  },
  "language_info": {
   "codemirror_mode": {
    "name": "ipython",
    "version": 3
   },
   "file_extension": ".py",
   "mimetype": "text/x-python",
   "name": "python",
   "nbconvert_exporter": "python",
   "pygments_lexer": "ipython3",
   "version": "3.9.6"
  }
 },
 "nbformat": 4,
 "nbformat_minor": 2
}
