{
 "cells": [
  {
   "cell_type": "markdown",
   "metadata": {},
   "source": [
    "# Question 3: Game Scenario template"
   ]
  },
  {
   "cell_type": "markdown",
   "metadata": {},
   "source": [
    "# Task 3.8"
   ]
  },
  {
   "cell_type": "code",
   "execution_count": 1,
   "metadata": {},
   "outputs": [],
   "source": [
    "def checkdiagonal(array):\n",
    "    for row in range(3):\n",
    "        for col in range(4):\n",
    "            \n",
    "            diagonal1 = []\n",
    "            diagonal2 = []\n",
    "            for i in range(4):\n",
    "                diagonal1.append(array[row+i][col+i])\n",
    "                diagonal2.append(array[row+3-i][col+i])\n",
    "\n",
    "            string = ''.join(diagonal1)\n",
    "            if 'OOOO' in string or 'XXXX' in string:\n",
    "                return True\n",
    "            else:\n",
    "                string = ''.join(diagonal2)\n",
    "                if 'OOOO' in string or 'XXXX' in string:\n",
    "                    return True\n",
    "    return False\n"
   ]
  }
 ],
 "metadata": {
  "kernelspec": {
   "display_name": "Python 3",
   "language": "python",
   "name": "python3"
  },
  "language_info": {
   "codemirror_mode": {
    "name": "ipython",
    "version": 3
   },
   "file_extension": ".py",
   "mimetype": "text/x-python",
   "name": "python",
   "nbconvert_exporter": "python",
   "pygments_lexer": "ipython3",
   "version": "3.6.4"
  }
 },
 "nbformat": 4,
 "nbformat_minor": 2
}
