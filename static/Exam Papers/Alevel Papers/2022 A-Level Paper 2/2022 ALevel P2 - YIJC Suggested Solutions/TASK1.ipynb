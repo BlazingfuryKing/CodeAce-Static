{
 "cells": [
  {
   "cell_type": "markdown",
   "metadata": {},
   "source": [
    "# 2022 ALevel Paper 2 Question 1"
   ]
  },
  {
   "cell_type": "code",
   "execution_count": 27,
   "metadata": {},
   "outputs": [
    {
     "name": "stdout",
     "output_type": "stream",
     "text": [
      "75\n",
      "107\n",
      "-1\n",
      "33\n"
     ]
    }
   ],
   "source": [
    "#Task 1.1 [5m]\n",
    "\n",
    "def Task1_1(char):\n",
    "    if char == ' ':\n",
    "        return 33                                           #[1]\n",
    "    \n",
    "    elif 'A' <= char <= 'Z':                                #[1]\n",
    "        value = ord(char) + 10\n",
    "        if value > 90:\n",
    "            value = value - 90 + 64    #to return to 'A'    #[1]\n",
    "        return value\n",
    "    \n",
    "    elif 'a' <= char <= 'z':                                #[1]\n",
    "        value = ord(char) + 10\n",
    "        if value > 122:\n",
    "            value = value - 122 + 96   #to return to 'a'\n",
    "        return value\n",
    "    \n",
    "    else:\n",
    "        return -1                                           #[1]\n",
    "    \n",
    "print(Task1_1('A'))\n",
    "print(Task1_1('a'))\n",
    "print(Task1_1('#'))\n",
    "print(Task1_1(' '))"
   ]
  },
  {
   "cell_type": "markdown",
   "metadata": {},
   "source": [
    "Although Task 1.2 do not require a function to be written, but in order to run it 4 times, it will be easier to have it as a function."
   ]
  },
  {
   "cell_type": "code",
   "execution_count": 29,
   "metadata": {},
   "outputs": [],
   "source": [
    "#Task 1.2  [3m]\n",
    "\n",
    "def Task1_2():\n",
    "\n",
    "    userinput = input(\"Enter a single character from 'A' to 'Z', 'a' to 'z' or '!': \")  #[1]\n",
    "\n",
    "    if Task1_1(userinput) == -1:\n",
    "        print('Invalid character entered.')                                             #[1]\n",
    "    else:\n",
    "        print(chr(Task1_1(userinput)))                                                  #[1]\n"
   ]
  },
  {
   "cell_type": "code",
   "execution_count": 30,
   "metadata": {},
   "outputs": [
    {
     "name": "stdout",
     "output_type": "stream",
     "text": [
      "Enter a single character from 'A' to 'Z', 'a' to 'z' or '!': A\n",
      "K\n"
     ]
    }
   ],
   "source": [
    "#Test Task1_2() 4 times [2m]\n",
    "Task1_2()"
   ]
  },
  {
   "cell_type": "code",
   "execution_count": 31,
   "metadata": {},
   "outputs": [
    {
     "name": "stdout",
     "output_type": "stream",
     "text": [
      "Enter a single character from 'A' to 'Z', 'a' to 'z' or '!': a\n",
      "k\n"
     ]
    }
   ],
   "source": [
    "Task1_2()"
   ]
  },
  {
   "cell_type": "code",
   "execution_count": 32,
   "metadata": {},
   "outputs": [
    {
     "name": "stdout",
     "output_type": "stream",
     "text": [
      "Enter a single character from 'A' to 'Z', 'a' to 'z' or '!': #\n",
      "Invalid character entered.\n"
     ]
    }
   ],
   "source": [
    "Task1_2()"
   ]
  },
  {
   "cell_type": "code",
   "execution_count": 33,
   "metadata": {},
   "outputs": [
    {
     "name": "stdout",
     "output_type": "stream",
     "text": [
      "Enter a single character from 'A' to 'Z', 'a' to 'z' or '!':  \n",
      "!\n"
     ]
    }
   ],
   "source": [
    "Task1_2()"
   ]
  },
  {
   "cell_type": "code",
   "execution_count": 46,
   "metadata": {},
   "outputs": [
    {
     "name": "stdout",
     "output_type": "stream",
     "text": [
      "Drsc!sc!wi!combod!wocckqo!drkd!S!xoon!dy!oxmbizd\n"
     ]
    }
   ],
   "source": [
    "#Task 1.3   [7m + 1m]\n",
    "\n",
    "#read from given text file\n",
    "file = open('DATATOENCRYPT.txt')                 #[1]\n",
    "line = file.readlines()\n",
    "\n",
    "encrypted_string = ''\n",
    "\n",
    "for char in line[0]:                             #[1]\n",
    "    if Task1_1(char) != -1:                      #[1]\n",
    "        encrypted_string += chr(Task1_1(char))   #[1]\n",
    "\n",
    "file.close()                                     #[1]\n",
    "\n",
    "\n",
    "#write encrypted message to text file\n",
    "file = open('ENCRYPTEDMESSAGE.txt', 'w')         #[1]\n",
    "file.write(encrypted_string)                     #[1]\n",
    "file.close()\n",
    "\n",
    "\n",
    "#read from encrypted text file\n",
    "file = open('ENCRYPTEDMESSAGE.txt')\n",
    "line = file.readlines()\n",
    "print(line[0])                                   #[1]\n",
    "file.close()\n"
   ]
  },
  {
   "cell_type": "code",
   "execution_count": null,
   "metadata": {},
   "outputs": [],
   "source": []
  },
  {
   "cell_type": "code",
   "execution_count": null,
   "metadata": {},
   "outputs": [],
   "source": []
  },
  {
   "cell_type": "code",
   "execution_count": null,
   "metadata": {},
   "outputs": [],
   "source": []
  },
  {
   "cell_type": "code",
   "execution_count": null,
   "metadata": {},
   "outputs": [],
   "source": []
  }
 ],
 "metadata": {
  "kernelspec": {
   "display_name": "Python 3",
   "language": "python",
   "name": "python3"
  },
  "language_info": {
   "codemirror_mode": {
    "name": "ipython",
    "version": 3
   },
   "file_extension": ".py",
   "mimetype": "text/x-python",
   "name": "python",
   "nbconvert_exporter": "python",
   "pygments_lexer": "ipython3",
   "version": "3.6.4"
  }
 },
 "nbformat": 4,
 "nbformat_minor": 2
}
