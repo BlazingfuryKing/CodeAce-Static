{
 "cells": [
  {
   "cell_type": "markdown",
   "metadata": {},
   "source": [
    "# Question 3"
   ]
  },
  {
   "cell_type": "markdown",
   "metadata": {},
   "source": [
    "# Task 3.1 (2m)"
   ]
  },
  {
   "cell_type": "raw",
   "metadata": {},
   "source": [
    "#GRID1.TXT\n",
    "\n",
    ",,,O,,,\n",
    ",,,O,,,\n",
    ",,,O,,,\n",
    ",,X,O,,,\n",
    ",,O,X,O,,\n",
    ",,X,O,O,O,"
   ]
  },
  {
   "cell_type": "raw",
   "metadata": {},
   "source": [
    "#GRID2.TXT\n",
    "\n",
    ",,,,,,\n",
    ",,,,,,\n",
    ",,,,,,\n",
    ",,,,,,\n",
    ",,,,,,\n",
    ",,,,,,"
   ]
  },
  {
   "cell_type": "code",
   "execution_count": null,
   "metadata": {},
   "outputs": [
    {
     "data": {
      "text/plain": [
       "[['', '', '', 'O', '', '', ''],\n",
       " ['', '', '', 'O', '', '', ''],\n",
       " ['', '', '', 'O', '', '', ''],\n",
       " ['', '', 'X', 'O', '', '', ''],\n",
       " ['', '', 'O', 'X', 'O', '', ''],\n",
       " ['', '', 'X', 'O', 'O', 'O', '']]"
      ]
     },
     "metadata": {},
     "output_type": "display_data"
    }
   ],
   "source": [
    "file = open('GRID1.TXT')\n",
    "lines = file.readlines()\n",
    "\n",
    "grid1 = []\n",
    "for line in lines:                      #[1] file reading\n",
    "    line = line.strip().split(',')\n",
    "    grid1.append(line)                  #[1] store in a data structure\n",
    "\n",
    "file.close()\n",
    "    \n",
    "grid1"
   ]
  },
  {
   "cell_type": "code",
   "execution_count": null,
   "metadata": {},
   "outputs": [],
   "source": [
    "grid1 = [['', '', '', 'O', '', '', ''],\n",
    "         ['', '', '', 'O', '', '', ''],\n",
    "         ['', '', '', 'O', '', '', ''],\n",
    "         ['', '', 'X', 'O', '', '', ''],\n",
    "         ['', '', 'O', 'X', 'O', '', ''],\n",
    "         ['', '', 'X', 'O', 'O', 'O', '']]\n",
    "\n",
    "grid2 = [['', '', '', '', '', '', ''],\n",
    "         ['', '', '', '', '', '', ''],\n",
    "         ['', '', '', '', '', '', ''],\n",
    "         ['', '', '', '', '', '', ''],\n",
    "         ['', '', '', '', '', '', ''],\n",
    "         ['', '', '', '', '', '', '']]\n",
    "\n"
   ]
  },
  {
   "cell_type": "markdown",
   "metadata": {},
   "source": [
    "# Task 3.2 (2m)"
   ]
  },
  {
   "cell_type": "code",
   "execution_count": null,
   "metadata": {},
   "outputs": [
    {
     "name": "stdout",
     "output_type": "stream",
     "text": [
      " . . . O . . .\n",
      " . . . O . . .\n",
      " . . . O . . .\n",
      " . . X O . . .\n",
      " . . O X O . .\n",
      " . . X O O O .\n"
     ]
    }
   ],
   "source": [
    "def print_it(array):\n",
    "    for row in range(6):\n",
    "        string = ''\n",
    "        for col in range(7):              #[1] iterate thru the data structure\n",
    "            if array[row][col] == '':\n",
    "                string += ' .' \n",
    "            else:\n",
    "                string += ' ' + array[row][col]\n",
    "        print(string)\n",
    "\n",
    "print_it(grid1)                           #[1] successfully display the grid"
   ]
  },
  {
   "cell_type": "markdown",
   "metadata": {},
   "source": [
    "# Task 3.3 (2m)"
   ]
  },
  {
   "cell_type": "code",
   "execution_count": null,
   "metadata": {},
   "outputs": [],
   "source": [
    "def user_input():\n",
    "    c = ''\n",
    "    valid = False\n",
    "    while not valid:\n",
    "        c = input('Enter the column <1 to 7> : ')    #[1] accept and return user input\n",
    "        if c.isnumeric():                            #[1] validation\n",
    "            if 0<int(c)<8:\n",
    "                valid = True\n",
    "    return int(c)\n",
    "\n",
    "#user_input()"
   ]
  },
  {
   "cell_type": "markdown",
   "metadata": {},
   "source": [
    "# Task 3.4 (4m)"
   ]
  },
  {
   "cell_type": "code",
   "execution_count": null,
   "metadata": {},
   "outputs": [
    {
     "name": "stdout",
     "output_type": "stream",
     "text": [
      "Player (O) missed a turn.\n",
      " . . . O . . .\n",
      " . . . O . . .\n",
      " . . O O . . .\n",
      " . . X O . . .\n",
      " . . O X O . .\n",
      " . O X O O O .\n"
     ]
    }
   ],
   "source": [
    "def insertO(array,col):         #col: column no.\n",
    "    for i in range(5,-1,-1):\n",
    "        #print(i)         #5,4,3,2,1,0\n",
    "        if array[i][col-1] == '':         #[1] insert to 'lowest position' in column\n",
    "            array[i][col-1] = 'O'         #[1] mutate content in data structure\n",
    "            return array                  #[1] return the array\n",
    "    print('Player (O) missed a turn.')    #[1] display missed turn msg\n",
    "\n",
    "\n",
    "\n",
    "insertO(grid1,4)\n",
    "print_it(grid1)\n"
   ]
  },
  {
   "cell_type": "code",
   "execution_count": null,
   "metadata": {},
   "outputs": [
    {
     "name": "stdout",
     "output_type": "stream",
     "text": [
      " . . . O . . .\n",
      " . . . O . . .\n",
      " . . . O . . .\n",
      " . . X O . . .\n",
      " . O O X O . .\n",
      " . O X O O O .\n"
     ]
    }
   ],
   "source": [
    "#Alternative soluton for Task 3.4\n",
    "\n",
    "def insertO(array,col):         #col: column no.\n",
    "    for row in range(6):\n",
    "        if array[row][col-1] != '' and row==0:\n",
    "            print('Player (O) missed a turn.')\n",
    "            break\n",
    "        elif array[row][col-1] != '':\n",
    "            array[row-1][col-1] = 'O'\n",
    "            break\n",
    "        if row == 5 and array[row][col-1]=='':\n",
    "            array[row][col-1] = 'O' \n",
    "    return array\n",
    "\n",
    "insertO(grid1,2)\n",
    "# insertO(grid1,3)\n",
    "# insertO(grid1,4)\n",
    "# insertO(grid1,7)\n",
    "print_it(grid1)"
   ]
  },
  {
   "cell_type": "markdown",
   "metadata": {},
   "source": [
    "# Task 3.5 (1m)"
   ]
  },
  {
   "cell_type": "code",
   "execution_count": null,
   "metadata": {},
   "outputs": [
    {
     "name": "stdout",
     "output_type": "stream",
     "text": [
      "Player (O) missed a turn.\n",
      " . . . O . . .\n",
      " . . . O . . .\n",
      " . . O O . . .\n",
      " . . X O . . .\n",
      " . . O X O . .\n",
      " . O X O O O .\n"
     ]
    }
   ],
   "source": [
    "def insertO(array,col):         #col: column no.\n",
    "    for i in range(5,-1,-1):\n",
    "        #print(i)         #5,4,3,2,1,0\n",
    "        if array[i][col-1] == '':         #[1] replaced with 'X'\n",
    "            array[i][col-1] = 'X'         \n",
    "            return array                  \n",
    "    print('Player (X) missed a turn.')    \n",
    "\n",
    "\n",
    "\n",
    "insertO(grid1,4)\n",
    "print_it(grid1)\n"
   ]
  },
  {
   "cell_type": "code",
   "execution_count": null,
   "metadata": {},
   "outputs": [
    {
     "name": "stdout",
     "output_type": "stream",
     "text": [
      "Player (X) missed a turn.\n",
      " . . . O . . .\n",
      " . . . O . . .\n",
      " . . . O . . .\n",
      " . . X O . . .\n",
      " . O O X O . .\n",
      " . O X O O O .\n"
     ]
    }
   ],
   "source": [
    "#Alternative soluton for Task 3.5\n",
    "\n",
    "def insertX(array,col):         #col: column no.\n",
    "    for row in range(6):\n",
    "        if array[row][col-1] != '' and row==0:\n",
    "            print('Player (X) missed a turn.')\n",
    "            break\n",
    "        elif array[row][col-1] != '':\n",
    "            array[row-1][col-1] = 'X'\n",
    "            break\n",
    "        if row == 5 and array[row][col-1]=='':\n",
    "            array[row][col-1] = 'X'\n",
    "    return array\n",
    "\n",
    "#insertX(grid1,1)\n",
    "#insertX(grid1,2)\n",
    "insertX(grid1,4)\n",
    "print_it(grid1)"
   ]
  },
  {
   "cell_type": "markdown",
   "metadata": {},
   "source": [
    "# Task 3.6 (3m)"
   ]
  },
  {
   "cell_type": "code",
   "execution_count": null,
   "metadata": {},
   "outputs": [
    {
     "name": "stdout",
     "output_type": "stream",
     "text": [
      " . . . O . . .\n",
      " . . . O . . .\n",
      " . . . O . . .\n",
      " . . X O . . .\n",
      " . O O X O . .\n",
      " . O X O O O O\n",
      "Row: ['', 'O', 'X', 'O', 'O', 'O', 'O']\n"
     ]
    },
    {
     "data": {
      "text/plain": [
       "True"
      ]
     },
     "metadata": {},
     "output_type": "display_data"
    }
   ],
   "source": [
    "def connect4(seq):             #seq: a list of strings\n",
    "    string = ''.join(seq)\n",
    "    #print(string)\n",
    "    if 'OOOO' in string or 'XXXX' in string:     #[1] check for 'OOOO', 'XXXX'\n",
    "        return True                              #    and return True\n",
    "    else:\n",
    "        return False\n",
    "\n",
    "def checkrow(array):\n",
    "    for row in array:                            #[1] iterate thru all rows\n",
    "        if connect4(row):\n",
    "            print('Row:', row)                   #[1] print ele in row\n",
    "            return True\n",
    "    return False\n",
    "\n",
    "insertO(grid1, 7)\n",
    "print_it(grid1)\n",
    "checkrow(grid1)"
   ]
  },
  {
   "cell_type": "markdown",
   "metadata": {},
   "source": [
    "# Task 3.7 (3m)"
   ]
  },
  {
   "cell_type": "code",
   "execution_count": null,
   "metadata": {},
   "outputs": [
    {
     "name": "stdout",
     "output_type": "stream",
     "text": [
      " . . . O . . .\n",
      " . . . O . . .\n",
      " . . . O . . .\n",
      " . . X O . . .\n",
      " . O O X O . .\n",
      " . O X O O O O\n",
      "Column: ['O', 'O', 'O', 'O', 'X', 'O']\n"
     ]
    },
    {
     "data": {
      "text/plain": [
       "True"
      ]
     },
     "metadata": {},
     "output_type": "display_data"
    }
   ],
   "source": [
    "def checkcolumn(array):\n",
    "    for col in range(7):\n",
    "        column = []\n",
    "        for row in range(6):\n",
    "            column.append(array[row][col])     #[1] check all columns\n",
    "\n",
    "        if connect4(column):                   #[1] check for 'OOOO', 'XXXX'\n",
    "            print('Column:', column)           #[1] print ele in column\n",
    "            return True\n",
    "    return False\n",
    "\n",
    "print_it(grid1)\n",
    "checkcolumn(grid1)"
   ]
  },
  {
   "cell_type": "markdown",
   "metadata": {},
   "source": [
    "# Given in template"
   ]
  },
  {
   "cell_type": "code",
   "execution_count": null,
   "metadata": {},
   "outputs": [
    {
     "name": "stdout",
     "output_type": "stream",
     "text": [
      " . . . O . . .\n",
      " . . O O . . .\n",
      " . . O O . . .\n",
      " . . X O . . .\n",
      " . . O X O . .\n",
      " . . X O O O .\n"
     ]
    },
    {
     "data": {
      "text/plain": [
       "True"
      ]
     },
     "metadata": {},
     "output_type": "display_data"
    }
   ],
   "source": [
    "def checkdiagonal(array):\n",
    "    for row in range(3):\n",
    "        for col in range(4):\n",
    "            \n",
    "            diagonal1 = []\n",
    "            diagonal2 = []\n",
    "            for i in range(4):\n",
    "                diagonal1.append(array[row+i][col+i])\n",
    "                diagonal2.append(array[row+3-i][col+i])\n",
    "\n",
    "            string = ''.join(diagonal1)\n",
    "            if 'OOOO' in string or 'XXXX' in string:\n",
    "                return True\n",
    "            else:\n",
    "                string = ''.join(diagonal2)\n",
    "                if 'OOOO' in string or 'XXXX' in string:\n",
    "                    return True\n",
    "    return False\n",
    "            \n",
    "insertO(grid1, 3)\n",
    "print_it(grid1)\n",
    "checkdiagonal(grid1)"
   ]
  },
  {
   "cell_type": "markdown",
   "metadata": {},
   "source": [
    "# Task 3.8 (8m)"
   ]
  },
  {
   "cell_type": "code",
   "execution_count": null,
   "metadata": {},
   "outputs": [
    {
     "name": "stdout",
     "output_type": "stream",
     "text": [
      " . . . . . . .\n",
      " . . . . . . .\n",
      " . . . . . . .\n",
      " . . . . . . .\n",
      " . . . . . . .\n",
      " . X . . . . .\n",
      "Enter the column <1 to 7> : 2\n",
      "\n",
      " . . . . . . .\n",
      " . . . . . . .\n",
      " . . . . . . .\n",
      " . . . . . . .\n",
      " . O . . . . .\n",
      " . X . . . . .\n",
      " . . . . . . .\n",
      " . . . . . . .\n",
      " . . . . . . .\n",
      " . . . . . . .\n",
      " . O . . . . .\n",
      " X X . . . . .\n",
      "Enter the column <1 to 7> : 3\n",
      "\n",
      " . . . . . . .\n",
      " . . . . . . .\n",
      " . . . . . . .\n",
      " . . . . . . .\n",
      " . O . . . . .\n",
      " X X O . . . .\n",
      " . . . . . . .\n",
      " . . . . . . .\n",
      " . . . . . . .\n",
      " . . . . . . .\n",
      " X O . . . . .\n",
      " X X O . . . .\n",
      "Enter the column <1 to 7> : 5\n",
      "\n",
      " . . . . . . .\n",
      " . . . . . . .\n",
      " . . . . . . .\n",
      " . . . . . . .\n",
      " X O . . . . .\n",
      " X X O . O . .\n",
      " . . . . . . .\n",
      " . . . . . . .\n",
      " . . . . . . .\n",
      " . X . . . . .\n",
      " X O . . . . .\n",
      " X X O . O . .\n",
      "Enter the column <1 to 7> : 7\n",
      "\n",
      " . . . . . . .\n",
      " . . . . . . .\n",
      " . . . . . . .\n",
      " . X . . . . .\n",
      " X O . . . . .\n",
      " X X O . O . O\n",
      " . . . . . . .\n",
      " . . . . . . .\n",
      " . . . . . . .\n",
      " . X . . . . .\n",
      " X O . . . . .\n",
      " X X O . O X O\n",
      "Enter the column <1 to 7> : 7\n",
      "\n",
      " . . . . . . .\n",
      " . . . . . . .\n",
      " . . . . . . .\n",
      " . X . . . . .\n",
      " X O . . . . O\n",
      " X X O . O X O\n",
      " . . . . . . .\n",
      " . . . . . . .\n",
      " . X . . . . .\n",
      " . X . . . . .\n",
      " X O . . . . O\n",
      " X X O . O X O\n",
      "Enter the column <1 to 7> : 2\n",
      "\n",
      " . . . . . . .\n",
      " . O . . . . .\n",
      " . X . . . . .\n",
      " . X . . . . .\n",
      " X O . . . . O\n",
      " X X O . O X O\n",
      " . . . . . . .\n",
      " . O . . . . .\n",
      " . X . . . . .\n",
      " . X . . . . .\n",
      " X O X . . . O\n",
      " X X O . O X O\n",
      "Enter the column <1 to 7> : 1\n",
      "\n",
      " . . . . . . .\n",
      " . O . . . . .\n",
      " . X . . . . .\n",
      " O X . . . . .\n",
      " X O X . . . O\n",
      " X X O . O X O\n",
      " . . . . . . .\n",
      " . O . . . . .\n",
      " X X . . . . .\n",
      " O X . . . . .\n",
      " X O X . . . O\n",
      " X X O . O X O\n",
      "Enter the column <1 to 7> : 4\n",
      "\n",
      " . . . . . . .\n",
      " . O . . . . .\n",
      " X X . . . . .\n",
      " O X . . . . .\n",
      " X O X . . . O\n",
      " X X O O O X O\n",
      " . . . . . . .\n",
      " . O . . . . .\n",
      " X X . . . . .\n",
      " O X X . . . .\n",
      " X O X . . . O\n",
      " X X O O O X O\n",
      "Enter the column <1 to 7> : 6\n",
      "\n",
      " . . . . . . .\n",
      " . O . . . . .\n",
      " X X . . . . .\n",
      " O X X . . . .\n",
      " X O X . . O O\n",
      " X X O O O X O\n",
      " . . . . . . .\n",
      " . O . . . . .\n",
      " X X . . . . .\n",
      " O X X . . . .\n",
      " X O X X . O O\n",
      " X X O O O X O\n",
      "Enter the column <1 to 7> : 1\n",
      "\n",
      " . . . . . . .\n",
      " O O . . . . .\n",
      " X X . . . . .\n",
      " O X X . . . .\n",
      " X O X X . O O\n",
      " X X O O O X O\n",
      " X . . . . . .\n",
      " O O . . . . .\n",
      " X X . . . . .\n",
      " O X X . . . .\n",
      " X O X X . O O\n",
      " X X O O O X O\n",
      "Enter the column <1 to 7> : 4\n",
      "\n",
      " X . . . . . .\n",
      " O O . . . . .\n",
      " X X . . . . .\n",
      " O X X O . . .\n",
      " X O X X . O O\n",
      " X X O O O X O\n",
      " X . . . . . .\n",
      " O O . . . . .\n",
      " X X . . . . .\n",
      " O X X O . . .\n",
      " X O X X X O O\n",
      " X X O O O X O\n",
      "Enter the column <1 to 7> : 2\n",
      "\n",
      " X O . . . . .\n",
      " O O . . . . .\n",
      " X X . . . . .\n",
      " O X X O . . .\n",
      " X O X X X O O\n",
      " X X O O O X O\n",
      " X O . . . . .\n",
      " O O . . . . .\n",
      " X X X . . . .\n",
      " O X X O . . .\n",
      " X O X X X O O\n",
      " X X O O O X O\n",
      "Enter the column <1 to 7> : 3\n",
      "\n",
      " X O . . . . .\n",
      " O O O . . . .\n",
      " X X X . . . .\n",
      " O X X O . . .\n",
      " X O X X X O O\n",
      " X X O O O X O\n",
      " X O . . . . .\n",
      " O O O . . . .\n",
      " X X X X . . .\n",
      " O X X O . . .\n",
      " X O X X X O O\n",
      " X X O O O X O\n",
      "Row: ['X', 'X', 'X', 'X', '', '', '']\n",
      "Player (X) won !!!\n"
     ]
    }
   ],
   "source": [
    "grid2 = [['', '', '', '', '', '', ''],\n",
    "         ['', '', '', '', '', '', ''],\n",
    "         ['', '', '', '', '', '', ''],\n",
    "         ['', '', '', '', '', '', ''],\n",
    "         ['', '', '', '', '', '', ''],\n",
    "         ['', '', '', '', '', '', '']]\n",
    "\n",
    "def print_it(array):\n",
    "    for row in range(6):\n",
    "        string = ''\n",
    "        for col in range(7):\n",
    "            if array[row][col] == '':\n",
    "                string += ' .' \n",
    "            else:\n",
    "                string += ' ' + array[row][col]\n",
    "        print(string)\n",
    "\n",
    "def user_input():\n",
    "    c = ''\n",
    "    valid = False\n",
    "    while not valid:\n",
    "        c = input('Enter the column <1 to 7> : ')\n",
    "        if c.isnumeric():\n",
    "            if 0<int(c)<8:\n",
    "                valid = True\n",
    "    return int(c)\n",
    "\n",
    "def check(array):\n",
    "    if checkrow(array) or checkcolumn(array) or checkdiagonal(array):\n",
    "        return True\n",
    "    else:\n",
    "        return False \n",
    "\n",
    "def insertO(array,col):         #col: column no.\n",
    "    for row in range(6):\n",
    "        if array[row][col-1] != '' and row==0:\n",
    "            print('Player (O) missed a turn.')\n",
    "            break\n",
    "        elif array[row][col-1] != '':\n",
    "            array[row-1][col-1] = 'O'\n",
    "            break\n",
    "        if row == 5 and array[row][col-1]=='':\n",
    "            array[row][col-1] = 'O' \n",
    "    return array\n",
    "\n",
    "def insertX(array,col):         #col: column no.\n",
    "    for row in range(6):\n",
    "        if array[row][col-1] != '' and row==0:\n",
    "            print('Player (X) missed a turn.')\n",
    "            break\n",
    "        elif array[row][col-1] != '':\n",
    "            array[row-1][col-1] = 'X'\n",
    "            break\n",
    "        if row == 5 and array[row][col-1]=='':\n",
    "            array[row][col-1] = 'X'\n",
    "    return array\n",
    "\n",
    "\n",
    "def isFull(array):\n",
    "    for row in array:\n",
    "        if '' in row:\n",
    "            return False\n",
    "    return True\n",
    "        \n",
    "    \n",
    "\n",
    "from random import *\n",
    "\n",
    "while True:                                       #[1] repeat for X and O\n",
    "    insertX(grid2,randint(1,7))                   #[1] random col for X\n",
    "    print_it(grid2)                               #[1] print grid after each insert\n",
    "    print()\n",
    "    if check(grid2):                              #[1] check for connect4 \n",
    "        print('Player (X) won !!!')               #[1] declare winner\n",
    "        break\n",
    "    if isFull(grid2):                             #[1] check for full grid\n",
    "        print('The game has ended with a draw.')  #[1] No winner\n",
    "        break\n",
    "                                                \n",
    "    insertO(grid2,user_input())                   #[1] accept player O input\n",
    "    print_it(grid2)\n",
    "    print()\n",
    "    if check(grid2):\n",
    "        print('Player (O) won !!!')\n",
    "        break\n",
    "    if isFull(grid2):\n",
    "        print('The game has ended with a draw.')     \n",
    "        break\n",
    "\n"
   ]
  }
 ],
 "metadata": {
  "language_info": {
   "name": "python"
  }
 },
 "nbformat": 4,
 "nbformat_minor": 2
}
