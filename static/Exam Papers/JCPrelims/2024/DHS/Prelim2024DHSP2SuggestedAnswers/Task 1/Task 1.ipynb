{
 "cells": [
  {
   "cell_type": "code",
   "execution_count": 39,
   "metadata": {},
   "outputs": [
    {
     "name": "stdout",
     "output_type": "stream",
     "text": [
      "['61', '61', '62', '62', '62', '62', '62', '63', '64', '85', '6F', '2A', '6F', '65', '65', '65', '65', '65', '65', '65', '65', '65', '6A', '6B', '72', '74', '74', '74', '83', '85', '86', '87', '88', '83', '85', '86', '87', '88', '83', '85', '86', '87', '88', '92', '95', '9B', '9E', '9E', '9E', '9E', '9E', '9E', '9E', '9D', '9E', '9E', '9E', '9E', '9E', '63', '64', '85', '6F', '2A', '6F', '63', '64', '85', '6F', '2A', '6F']\n"
     ]
    }
   ],
   "source": [
    "#Task 1.1\n",
    "def readfile(filename):\n",
    "    infile = open(filename, \"r\") #1 mark for opening and closing file\n",
    "    lines =  infile.readlines()\n",
    "\n",
    "    bytes_lst = []\n",
    "    for line in lines:\n",
    "        bytes_lst.append(line.strip('\\n')) #1 mark for adding all data into a list correctly and returning the list\n",
    "\n",
    "    infile.close()\n",
    "    return bytes_lst\n",
    "\n",
    "print(readfile(\"Audio.txt\"))"
   ]
  },
  {
   "cell_type": "code",
   "execution_count": 40,
   "metadata": {},
   "outputs": [
    {
     "name": "stdout",
     "output_type": "stream",
     "text": [
      "['61', '61', '62', '62', '62', '62', '62', '63', '64', '85', '6F', '2A', '6F', '65', '65', '65', '65', '65', '65', '65', '65', '65', '6A', '6B', '72', '74', '74', '74', '83', '85', '86', '87', '88', '83', '85', '86', '87', '88', '83', '85', '86', '87', '88', '92', '95', '9B', '9E', '9E', '9E', '9E', '9E', '9E', '9E', '9D', '9E', '9E', '9E', '9E', '9E', '63', '64', '85', '6F', '2A', '6F', '63', '64', '85', '6F', '2A', '6F']\n",
      "['61', '61', '62', '62', '62', '62', '62', 'C0', '6F', '2A', '6F', '65', '65', '65', '65', '65', '65', '65', '65', '65', '6A', '6B', '72', '74', '74', '74', '83', '85', '86', '87', '88', '83', '85', '86', '87', '88', '83', '85', '86', '87', '88', '92', '95', '9B', '9E', '9E', '9E', '9E', '9E', '9E', '9E', '9D', '9E', '9E', '9E', '9E', '9E', 'C0', '6F', '2A', '6F', 'C0', '6F', '2A', '6F']\n"
     ]
    }
   ],
   "source": [
    "#Task 1.2\n",
    "def compress(bytes_list, bytes_pattern, byte_rep): #Total 6 marks: 4 marks for searching the bytes pattern in bytes_list correctly & 2 marks for replacing the bytes_pattern with the byte_rep correctly when needed\n",
    "    compressed_bytes = []\n",
    "    num_of_bytes_in_pattern = int(len(bytes_pattern)/2) #1 mark - to calculate how many bytes in the bytes pattern\n",
    "    i = 0\n",
    "    while i < len(bytes_list): #1 mark - ensure going through every single byte to compare with the bytes pattern \n",
    "        compare_bytes = \"\"\n",
    "        j = 0\n",
    "        while j < num_of_bytes_in_pattern and (i+j) < len(bytes_list): #2 marks - to form the compare_bytes of the same byte length to compare with bytes pattern but also to ensure do not go out of range of the list\n",
    "            compare_bytes = compare_bytes + bytes_list[i + j]\n",
    "            j = j + 1\n",
    "        #print(compare_bytes)\n",
    "        if compare_bytes == bytes_pattern: #1 mark - for the processing when a byte_pattern is found\n",
    "            compressed_bytes.append(byte_rep)\n",
    "            i = i + num_of_bytes_in_pattern\n",
    "        else: #1 mark - if no byte pattern is found\n",
    "            compressed_bytes.append(bytes_list[i])\n",
    "            i = i + 1\n",
    "    return compressed_bytes\n",
    "\n",
    "original_lst = readfile(\"Audio.txt\") #1 mark for calling readfile function and for calling compress function and showing the output\n",
    "print(original_lst)\n",
    "first_compression = compress(original_lst,\"636485\", \"C0\") \n",
    "print(first_compression)\n",
    "#second_compression = compress(first_compression,\"6F2A6F\", \"C1\")\n",
    "#print(second_compression)\n",
    "#third_compression = compress(second_compression,\"8385868788\", \"C2\")\n",
    "#print(third_compression)\n",
    "#print(''.join(third_compression))"
   ]
  },
  {
   "cell_type": "code",
   "execution_count": 41,
   "metadata": {},
   "outputs": [
    {
     "name": "stdout",
     "output_type": "stream",
     "text": [
      "['61', '61', '62', '62', '62', '62', '62', 'C0', '6F', '2A', '6F', '65', '65', '65', '65', '65', '65', '65', '65', '65', '6A', '6B', '72', '74', '74', '74', '83', '85', '86', '87', '88', '83', '85', '86', '87', '88', '83', '85', '86', '87', '88', '92', '95', '9B', '9E', '9E', '9E', '9E', '9E', '9E', '9E', '9D', '9E', '9E', '9E', '9E', '9E', 'C0', '6F', '2A', '6F', 'C0', '6F', '2A', '6F']\n",
      "['61', '61', '62', '62', '62', '62', '62', '63', '64', '85', '6F', '2A', '6F', '65', '65', '65', '65', '65', '65', '65', '65', '65', '6A', '6B', '72', '74', '74', '74', '83', '85', '86', '87', '88', '83', '85', '86', '87', '88', '83', '85', '86', '87', '88', '92', '95', '9B', '9E', '9E', '9E', '9E', '9E', '9E', '9E', '9D', '9E', '9E', '9E', '9E', '9E', '63', '64', '85', '6F', '2A', '6F', '63', '64', '85', '6F', '2A', '6F']\n"
     ]
    },
    {
     "data": {
      "text/plain": [
       "'\\nprint(third_compression)\\nfirst_decompression = decompress(third_compression,\"C0\", \"636485\")\\nprint(first_decompression)\\nsecond_decompression = decompress(first_decompression, \"C1\", \"6F2A6F\")\\nprint(second_decompression)\\nthird_decompression = decompress(second_decompression,\"C2\", \"8385868788\")\\nprint(third_decompression)\\n'"
      ]
     },
     "execution_count": 41,
     "metadata": {},
     "output_type": "execute_result"
    }
   ],
   "source": [
    "#Task 1.3\n",
    "def decompress(compressed_list, byte_rep, bytes_pattern):\n",
    "    decompressed_bytes = []\n",
    "    for byte in compressed_list:\n",
    "        if byte == byte_rep: #1 mark for going through every single byte\n",
    "            num_of_bytes_to_insert = int(len(bytes_pattern)/2) #1 mark - calculate how many bytes in the bytes pattern\n",
    "            #print(num_of_bytes_to_insert)\n",
    "            for i in range(num_of_bytes_to_insert): #2 mark - inserting the bytes pattern in correctly\n",
    "                decompressed_bytes.append(bytes_pattern[i*2: (i*2) + 2])\n",
    "        else:\n",
    "            decompressed_bytes.append(byte)\n",
    "    return decompressed_bytes\n",
    "\n",
    "\n",
    "print(first_compression)\n",
    "first_decompression = decompress(first_compression,\"C0\", \"636485\")\n",
    "print(first_decompression)\n",
    "'''\n",
    "print(third_compression)\n",
    "first_decompression = decompress(third_compression,\"C0\", \"636485\")\n",
    "print(first_decompression)\n",
    "second_decompression = decompress(first_decompression, \"C1\", \"6F2A6F\")\n",
    "print(second_decompression)\n",
    "third_decompression = decompress(second_decompression,\"C2\", \"8385868788\")\n",
    "print(third_decompression)\n",
    "'''"
   ]
  },
  {
   "cell_type": "code",
   "execution_count": null,
   "metadata": {},
   "outputs": [],
   "source": []
  }
 ],
 "metadata": {
  "kernelspec": {
   "display_name": "Python 3",
   "language": "python",
   "name": "python3"
  },
  "language_info": {
   "codemirror_mode": {
    "name": "ipython",
    "version": 3
   },
   "file_extension": ".py",
   "mimetype": "text/x-python",
   "name": "python",
   "nbconvert_exporter": "python",
   "pygments_lexer": "ipython3",
   "version": "3.6.4"
  }
 },
 "nbformat": 4,
 "nbformat_minor": 2
}
