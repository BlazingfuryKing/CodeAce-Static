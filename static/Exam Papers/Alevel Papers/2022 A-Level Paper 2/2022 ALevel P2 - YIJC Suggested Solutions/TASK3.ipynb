{
 "cells": [
  {
   "cell_type": "markdown",
   "metadata": {},
   "source": [
    "# 2022 ALevel Paper 2 Question 3"
   ]
  },
  {
   "cell_type": "markdown",
   "metadata": {},
   "source": [
    "Comments for the entire Q3: This question could have been split into Task 3.1, 3.2, 3.3, 3.4, 3.5 but it wasn't."
   ]
  },
  {
   "cell_type": "markdown",
   "metadata": {},
   "source": [
    "Comments for Task 3.1: It was a common practice for past-year OOP questions to provide the class definition or method names and input arguments. But for this years paper, it was not provided. Will candidates be penalised for not writing code for getters and setters (is this not as important as before?), if the specifications were not provided?"
   ]
  },
  {
   "cell_type": "code",
   "execution_count": 30,
   "metadata": {},
   "outputs": [],
   "source": [
    "#Task 3.1 (part 1)\n",
    "#Write program code to declare the class Tree and its constructor. [4m]\n",
    "\n",
    "class Tree:   # Declare class Tree\n",
    "   def __init__(self, data = None):  # and its constructor\n",
    "      self.data = data\n",
    "      self.left_pointer = None\n",
    "      self.right_pointer = None      # the 3 properties\n"
   ]
  },
  {
   "cell_type": "code",
   "execution_count": 1,
   "metadata": {},
   "outputs": [],
   "source": [
    "#Alternative solution for Task 3.1 \n",
    "\n",
    "\n",
    "#Task 3.1 (part 1)\n",
    "#Write program code to declare the class Tree and its constructor. [4m]\n",
    "\n",
    "class Tree:   \n",
    "    def __init__(self, data):  #constructor\n",
    "        self.data = data\n",
    "        self.left_pointer = None\n",
    "        self.right_pointer = None     \n",
    "        \n",
    "    def getData(self):\n",
    "        return self.data\n",
    "    \n",
    "    def getLeft(self):\n",
    "        return self.left_pointer\n",
    "        \n",
    "    def getRight(self):\n",
    "        return self.right_pointer\n",
    "\n",
    "    def setData(self, newdata):\n",
    "        self.data = newdata\n",
    "    \n",
    "    def setLeft(self, newleft):\n",
    "        self.left_pointer = newleft\n",
    "        \n",
    "    def setRight(self, newright):\n",
    "        self.right_pointer = newright \n",
    "        "
   ]
  },
  {
   "cell_type": "code",
   "execution_count": 6,
   "metadata": {},
   "outputs": [],
   "source": [
    "tree = Tree(100)   # create a tree that stores 100\n"
   ]
  },
  {
   "cell_type": "markdown",
   "metadata": {},
   "source": [
    "Comments for part 2: Question can be clearer by phrasing as \"insert an integer value into the tree\" instead of inserting a new node into the tree. There was no mention of a node class."
   ]
  },
  {
   "cell_type": "code",
   "execution_count": 32,
   "metadata": {},
   "outputs": [],
   "source": [
    "#Task 3 (part 2)\n",
    "#Write the recursive method to insert a new node into the tree. [6m]\n",
    "\n",
    "class Tree: \n",
    "   def __init__(self, data = None): # copied from part 1\n",
    "      self.data = data\n",
    "      self.left_pointer = None\n",
    "      self.right_pointer = None\n",
    "\n",
    "   ####################################################################     \n",
    "        \n",
    "   def insert(self, newdata):  # insert a new node [6m]\n",
    "      if newdata < self.data:\n",
    "         if self.left_pointer == None:\n",
    "            self.left_pointer = Tree(newdata)\n",
    "         else:\n",
    "            self.left_pointer.insert(newdata)\n",
    "      else:\n",
    "         if self.right_pointer == None:\n",
    "            self.right_pointer = Tree(newdata)\n",
    "         else:\n",
    "            self.right_pointer.insert(newdata)"
   ]
  },
  {
   "cell_type": "code",
   "execution_count": 7,
   "metadata": {},
   "outputs": [],
   "source": [
    "#Alternative solution for Task 3.1 \n",
    "\n",
    "\n",
    "#Task 3.1 (part 1)\n",
    "#Write program code to declare the class Tree and its constructor. [4m]\n",
    "\n",
    "class Tree:   \n",
    "    def __init__(self, data):  #constructor\n",
    "        self.data = data\n",
    "        self.left_pointer = None\n",
    "        self.right_pointer = None     \n",
    "        \n",
    "    def getData(self):\n",
    "        return self.data\n",
    "    \n",
    "    def getLeft(self):\n",
    "        return self.left_pointer\n",
    "        \n",
    "    def getRight(self):\n",
    "        return self.right_pointer\n",
    "\n",
    "    def setData(self, newdata):\n",
    "        self.data = newdata\n",
    "    \n",
    "    def setLeft(self, newleft):\n",
    "        self.left_pointer = newleft\n",
    "        \n",
    "    def setRight(self, newright):\n",
    "        self.right_pointer = newright \n",
    "\n",
    "    #Task 3.1 (part 2)\n",
    "    #Write the recursive method to insert a new node into the tree. [6m]\n",
    "    \n",
    "    def insert(self, newdata):  # insert a new node [6m]\n",
    "        if newdata < self.data:\n",
    "            if self.getLeft() == None:\n",
    "                self.setLeft(Tree(newdata))\n",
    "            else:\n",
    "                self.getLeft().insert(newdata)\n",
    "        else:\n",
    "            if self.getRight() == None:\n",
    "                self.setRight(Tree(newdata))\n",
    "            else:\n",
    "                self.getRight().insert(newdata)        \n",
    "        \n",
    "        "
   ]
  },
  {
   "cell_type": "code",
   "execution_count": 14,
   "metadata": {},
   "outputs": [
    {
     "name": "stdout",
     "output_type": "stream",
     "text": [
      "100 None None\n",
      "100 None 101\n",
      "100 99 101\n"
     ]
    }
   ],
   "source": [
    "tree = Tree(100)\n",
    "print(tree.data, tree.left_pointer, tree.right_pointer)\n",
    "\n",
    "tree.insert(101)\n",
    "print(tree.data, tree.left_pointer, tree.right_pointer.data)\n",
    "\n",
    "tree.insert(99)\n",
    "print(tree.data, tree.left_pointer.data, tree.right_pointer.data)"
   ]
  },
  {
   "cell_type": "markdown",
   "metadata": {},
   "source": [
    "Comment for part 3: Nil. But candidate has to make the tree global, or return the tree, to test it."
   ]
  },
  {
   "cell_type": "code",
   "execution_count": 34,
   "metadata": {},
   "outputs": [],
   "source": [
    "#Task 3 (part 3)\n",
    "#Write the main program to store 10 unique integers [5m]\n",
    "\n",
    "from random import randint\n",
    "\n",
    "def main():\n",
    "    numbers = []\n",
    "    for i in range(10):  #generate 10 unique integers\n",
    "       num = randint(0,999)\n",
    "       while num in numbers:\n",
    "          num = randint(0,999)\n",
    "       numbers.append(num)\n",
    "    global tree\n",
    "    tree = Tree(numbers[0])    # create a tree with the first number\n",
    "    for i in range(1,10):      # insert the other 9 numbers\n",
    "       tree.insert(numbers[i])"
   ]
  },
  {
   "cell_type": "code",
   "execution_count": 35,
   "metadata": {},
   "outputs": [
    {
     "name": "stdout",
     "output_type": "stream",
     "text": [
      "555 292 884\n"
     ]
    }
   ],
   "source": [
    "main()\n",
    "print(tree.data, tree.left_pointer.data, tree.right_pointer.data)"
   ]
  },
  {
   "cell_type": "code",
   "execution_count": 21,
   "metadata": {},
   "outputs": [],
   "source": [
    "#Alternative solution for Task 3.1 \n",
    "\n",
    "\n",
    "#Task 3.1 (part 1)\n",
    "#Write program code to declare the class Tree and its constructor. [4m]\n",
    "\n",
    "class Tree:   \n",
    "    def __init__(self, data):  #constructor\n",
    "        self.data = data\n",
    "        self.left_pointer = None\n",
    "        self.right_pointer = None     \n",
    "        \n",
    "    def getData(self):\n",
    "        return self.data\n",
    "    \n",
    "    def getLeft(self):\n",
    "        return self.left_pointer\n",
    "        \n",
    "    def getRight(self):\n",
    "        return self.right_pointer\n",
    "\n",
    "    def setData(self, newdata):\n",
    "        self.data = newdata\n",
    "    \n",
    "    def setLeft(self, newleft):\n",
    "        self.left_pointer = newleft\n",
    "        \n",
    "    def setRight(self, newright):\n",
    "        self.right_pointer = newright \n",
    "\n",
    "    #Task 3.1 (part 2)\n",
    "    #Write the recursive method to insert a new node into the tree. [6m]\n",
    "    \n",
    "    def insert(self, newdata):  # insert a new node [6m]\n",
    "        if newdata < self.data:\n",
    "            if self.getLeft() == None:\n",
    "                self.setLeft(Tree(newdata))\n",
    "            else:\n",
    "                self.getLeft().insert(newdata)\n",
    "        else:\n",
    "            if self.getRight() == None:\n",
    "                self.setRight(Tree(newdata))\n",
    "            else:\n",
    "                self.getRight().insert(newdata)        \n",
    "        \n",
    "\n",
    "\n",
    "#Task 3.1 (part 3)\n",
    "#Write the main program to store 10 unique integers [5m]\n",
    "\n",
    "from random import randint\n",
    "\n",
    "numbers = []\n",
    "while len(numbers) < 10:         #generate 10 unique numbers\n",
    "    num = randint(0,999)\n",
    "    if num not in numbers:\n",
    "        numbers.append(num)\n",
    "\n",
    "\n",
    "tree = Tree(numbers[0])          # create a tree with the first number\n",
    "for i in range(1,10):            # insert the other 9 numbers\n",
    "    tree.insert(numbers[i])        \n",
    "        "
   ]
  },
  {
   "cell_type": "markdown",
   "metadata": {},
   "source": [
    "Comments for part 4: I felt that \"Call the in-order and post-order methods using your tree structure.\" was confusing and could have been removed. It's presence seemed ambiguous: was it meant to clarify that it was supposed to be called from within the structure (recursive)? Or was it an instruction for the candidate to write some code to call it, to test it (which overlaps with the next part)?"
   ]
  },
  {
   "cell_type": "code",
   "execution_count": 36,
   "metadata": {},
   "outputs": [],
   "source": [
    "#Task 3 (part 4)\n",
    "#Declare and call the in-order and post-order methods using your tree structure.  [7]\n",
    "\n",
    "class Tree: \n",
    "   def __init__(self, data = None): # copied from part 1\n",
    "      self.data = data\n",
    "      self.left_pointer = None\n",
    "      self.right_pointer = None    \n",
    "        \n",
    "   def insert(self, newdata):  # copied from part 2\n",
    "      if newdata < self.data:\n",
    "         if self.left_pointer == None:\n",
    "            self.left_pointer = Tree(newdata)\n",
    "         else:\n",
    "            self.left_pointer.insert(newdata)\n",
    "      else:\n",
    "         if self.right_pointer == None:\n",
    "            self.right_pointer = Tree(newdata)\n",
    "         else:\n",
    "            self.right_pointer.insert(newdata)\n",
    "\n",
    "   #Declare and call the in-order and post-order methods using your tree structure.  [7]\n",
    "\n",
    "   def inorder(self):                   # method to output in-order traversal\n",
    "      if self.left_pointer:\n",
    "         self.left_pointer.inorder()    # calls the methods using tree structure\n",
    "      print(self.data)\n",
    "      if self.right_pointer:\n",
    "         self.right_pointer.inorder()   # calls the methods using tree structure\n",
    "\n",
    "   def postorder(self):                 # method to output post-order traversal\n",
    "      if self.left_pointer:\n",
    "         self.left_pointer.postorder()  # calls the methods using tree structure\n",
    "      if self.right_pointer:\n",
    "         self.right_pointer.postorder() # calls the methods using tree structure\n",
    "      print(self.data)\n",
    "    "
   ]
  },
  {
   "cell_type": "code",
   "execution_count": 23,
   "metadata": {},
   "outputs": [
    {
     "name": "stdout",
     "output_type": "stream",
     "text": [
      "Output for in-order Traveral:\n",
      "83\n",
      "139\n",
      "468\n",
      "548\n",
      "600\n",
      "611\n",
      "708\n",
      "722\n",
      "753\n",
      "937\n",
      "Output for post-order Traveral:\n",
      "83\n",
      "548\n",
      "468\n",
      "139\n",
      "708\n",
      "722\n",
      "611\n",
      "937\n",
      "753\n",
      "600\n"
     ]
    }
   ],
   "source": [
    "#Alternative solution for Task 3.1 \n",
    "\n",
    "\n",
    "#Task 3.1 (part 1)\n",
    "#Write program code to declare the class Tree and its constructor. [4m]\n",
    "\n",
    "class Tree:   \n",
    "    def __init__(self, data):  #constructor\n",
    "        self.data = data\n",
    "        self.left_pointer = None\n",
    "        self.right_pointer = None     \n",
    "        \n",
    "    def getData(self):\n",
    "        return self.data\n",
    "    \n",
    "    def getLeft(self):\n",
    "        return self.left_pointer\n",
    "        \n",
    "    def getRight(self):\n",
    "        return self.right_pointer\n",
    "\n",
    "    def setData(self, newdata):\n",
    "        self.data = newdata\n",
    "    \n",
    "    def setLeft(self, newleft):\n",
    "        self.left_pointer = newleft\n",
    "        \n",
    "    def setRight(self, newright):\n",
    "        self.right_pointer = newright \n",
    "\n",
    "    #Task 3.1 (part 2)\n",
    "    #Write the recursive method to insert a new node into the tree. [6m]\n",
    "    \n",
    "    def insert(self, newdata):  # insert a new node [6m]\n",
    "        if newdata < self.data:\n",
    "            if self.getLeft() == None:\n",
    "                self.setLeft(Tree(newdata))\n",
    "            else:\n",
    "                self.getLeft().insert(newdata)\n",
    "        else:\n",
    "            if self.getRight() == None:\n",
    "                self.setRight(Tree(newdata))\n",
    "            else:\n",
    "                self.getRight().insert(newdata)        \n",
    "        \n",
    "\n",
    "    #Task 3.1 (part 4a and 4b)\n",
    "    #Declare the methods to output the in-order and post-order traversal of the binary tree. [7m]\n",
    "    \n",
    "\n",
    "    def inorder(self):                   # method to output in-order traversal\n",
    "        if self.getLeft() != None:\n",
    "            self.getLeft().inorder()\n",
    "        print(self.getData())\n",
    "        if self.getRight() != None:\n",
    "            self.getRight().inorder()\n",
    "\n",
    "    def postorder(self):                 # method to output post-order traversal\n",
    "        if self.getLeft() != None:\n",
    "            self.getLeft().postorder()\n",
    "        if self.getRight() != None:\n",
    "            self.getRight().postorder()\n",
    "        print(self.getData())\n",
    "    \n",
    "        \n",
    "        \n",
    "        \n",
    "        \n",
    "\n",
    "#Task 3.1 (part 3)\n",
    "#Write the main program to store 10 unique integers [5m]\n",
    "\n",
    "from random import randint\n",
    "\n",
    "numbers = []\n",
    "while len(numbers) < 10:         #generate 10 unique numbers\n",
    "    num = randint(0,999)\n",
    "    if num not in numbers:\n",
    "        numbers.append(num)\n",
    "\n",
    "tree = Tree(numbers[0])          # create a tree with the first number\n",
    "for i in range(1,10):            # insert the other 9 numbers\n",
    "    tree.insert(numbers[i])        \n",
    "\n",
    "   \n",
    "\n",
    "    \n",
    "#Task 3.1 (part 5)\n",
    "#Show the outputs of in-order and post-order traversals  [2m]\n",
    "\n",
    "print('Output for in-order Traveral:')\n",
    "tree.inorder()\n",
    "\n",
    "print('Output for post-order Traveral:')\n",
    "tree.postorder()\n"
   ]
  },
  {
   "cell_type": "markdown",
   "metadata": {},
   "source": [
    "Comments for part 5: Nil"
   ]
  },
  {
   "cell_type": "code",
   "execution_count": 37,
   "metadata": {},
   "outputs": [
    {
     "name": "stdout",
     "output_type": "stream",
     "text": [
      "116\n",
      "177\n",
      "195\n",
      "322\n",
      "602\n",
      "615\n",
      "735\n",
      "748\n",
      "805\n",
      "843\n"
     ]
    }
   ],
   "source": [
    "#Task 3 (part 5)\n",
    "#Test your program and show the output from each traversal. [2]\n",
    "main()          # required to construct a new tree that has the new methods\n",
    "tree.inorder()"
   ]
  },
  {
   "cell_type": "code",
   "execution_count": 38,
   "metadata": {},
   "outputs": [
    {
     "name": "stdout",
     "output_type": "stream",
     "text": [
      "116\n",
      "602\n",
      "322\n",
      "195\n",
      "177\n",
      "735\n",
      "843\n",
      "805\n",
      "748\n",
      "615\n"
     ]
    }
   ],
   "source": [
    "tree.postorder()"
   ]
  },
  {
   "cell_type": "code",
   "execution_count": null,
   "metadata": {},
   "outputs": [],
   "source": []
  }
 ],
 "metadata": {
  "kernelspec": {
   "display_name": "Python 3",
   "language": "python",
   "name": "python3"
  },
  "language_info": {
   "codemirror_mode": {
    "name": "ipython",
    "version": 3
   },
   "file_extension": ".py",
   "mimetype": "text/x-python",
   "name": "python",
   "nbconvert_exporter": "python",
   "pygments_lexer": "ipython3",
   "version": "3.6.4"
  }
 },
 "nbformat": 4,
 "nbformat_minor": 2
}
