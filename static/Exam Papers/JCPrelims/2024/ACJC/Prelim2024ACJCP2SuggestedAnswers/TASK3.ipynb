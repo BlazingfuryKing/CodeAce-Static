{
 "cells": [
  {
   "cell_type": "code",
   "execution_count": 49,
   "metadata": {},
   "outputs": [],
   "source": [
    "class Node: #1\n",
    "    def __init__(self,data):\n",
    "        self.pointer = None\n",
    "        self.data = data\n",
    "\n",
    "class LinkedList:\n",
    "    def __init__(self): #1\n",
    "        self.headpointer = None\n",
    "    \n",
    "    def insert_head(self, data): #1\n",
    "        new = Node(data)\n",
    "        new.pointer = self.headpointer\n",
    "        self.headpointer = new\n",
    "        \n",
    "#     def insert_tail(self, data): #2\n",
    "#         cur = self.headpointer\n",
    "#         while cur.pointer != None:\n",
    "#             cur = cur.pointer\n",
    "#         new = Node(data)\n",
    "#         cur.pointer = new\n",
    "        \n",
    "    def display(self): #1\n",
    "        cur = self.headpointer\n",
    "        while cur != None:\n",
    "            print(cur.data)\n",
    "            cur = cur.pointer\n",
    "            \n",
    "    def search(self, target): #2\n",
    "        cur = self.headpointer\n",
    "        while cur != None:\n",
    "            if cur.data[0] == target:\n",
    "                return True\n",
    "            cur = cur.pointer\n",
    "        return False\n",
    "    \n",
    "    def remove(self, target): \n",
    "        #remove target from head, 1\n",
    "        prev = None\n",
    "        cur = self.headpointer\n",
    "        found = False\n",
    "        #if target found at head\n",
    "        if cur.data[0] == target:\n",
    "            self.headpointer = cur.pointer\n",
    "            return True\n",
    "        #if not at head\n",
    "        #remove target from elsewhere, 1\n",
    "        while cur != None:\n",
    "            if cur.data[0] == target:\n",
    "                found = True\n",
    "                break\n",
    "            prev = cur\n",
    "            cur = cur.pointer\n",
    "        if found:\n",
    "            prev.pointer = cur.pointer\n",
    "            return True\n",
    "        else:\n",
    "            return False\n",
    "        \n",
    "    def reverse_list(self): \n",
    "        #put nodes into helper list, 1\n",
    "        lst = []\n",
    "        cur = self.headpointer\n",
    "        while cur != None:\n",
    "            lst.append(cur)\n",
    "            cur = cur.pointer\n",
    "        lst.reverse()\n",
    "        \n",
    "        #linking back to linked list in reverse, 1\n",
    "        self.headpointer = lst[0]\n",
    "        cur = self.headpointer\n",
    "        for item in lst[1:]:\n",
    "            cur.pointer = item\n",
    "            cur = cur.pointer\n",
    "        cur.pointer = None #ensure last node points to None\n",
    "            \n",
    "        "
   ]
  },
  {
   "cell_type": "code",
   "execution_count": 50,
   "metadata": {},
   "outputs": [
    {
     "name": "stdout",
     "output_type": "stream",
     "text": [
      "('James', '96')\n",
      "('John', '58')\n",
      "('Mary', '77')\n",
      "('Percy', '89')\n",
      "('Lindy', '94')\n",
      "('Sally', '48')\n"
     ]
    }
   ],
   "source": [
    "#1 to create linkedlist object\n",
    "l1 = LinkedList()\n",
    "#1 open file, and insert into linked list\n",
    "f1 = open('names.txt')\n",
    "for line in f1:\n",
    "    l1.insert_head(tuple(line.strip().split(',')))\n",
    "#1 successfully reverse and display list\n",
    "l1.reverse_list()\n",
    "l1.display()"
   ]
  },
  {
   "cell_type": "code",
   "execution_count": 54,
   "metadata": {},
   "outputs": [
    {
     "name": "stdout",
     "output_type": "stream",
     "text": [
      "('James', '96')\n",
      "('John', '58')\n",
      "('Mary', '77')\n",
      "('Lindy', '94')\n",
      "('Sally', '48')\n"
     ]
    }
   ],
   "source": [
    "l1.remove(\"Percy\")\n",
    "l1.display()"
   ]
  },
  {
   "cell_type": "code",
   "execution_count": 68,
   "metadata": {},
   "outputs": [],
   "source": [
    "class HashTable:\n",
    "    def __init__(self):\n",
    "        #1\n",
    "        self.max_size = 97\n",
    "        self.table = []\n",
    "        for i in range(97):\n",
    "            self.table.append(LinkedList())\n",
    "            \n",
    "    def hash_name(self,name):\n",
    "        #1 #add up all ascii values\n",
    "        total = 0\n",
    "        for item in name:\n",
    "            total += ord(item)\n",
    "        #able to return total % 97\n",
    "        return total % 97\n",
    "    \n",
    "    def add(self, tup):\n",
    "        #1\n",
    "        index = self.hash_name(tup[0])\n",
    "        self.table[index].insert_head(tup)\n",
    "        \n",
    "    def retrieve(self, name):\n",
    "        #1 able to return False when not present\n",
    "        index = self.hash_name(name)\n",
    "        l1 = self.table[index]\n",
    "        if l1.search(name) == False:\n",
    "            return False\n",
    "        else:\n",
    "            #1, able to return score if name is present\n",
    "            cur = l1.headpointer\n",
    "            while cur != None:\n",
    "                if cur.data[0] == Name:\n",
    "                    return cur.data[1]\n",
    "                else:\n",
    "                    cur = cur.pointer\n",
    "                    \n",
    "    def show(self):\n",
    "        #1 able to skip through empty linked lists\n",
    "        #1 able to use display() or otherwise to display data in all the linked lists\n",
    "        for item in self.table:\n",
    "            if item.headpointer != None:\n",
    "                print(\"a list\")\n",
    "                item.display()"
   ]
  },
  {
   "cell_type": "code",
   "execution_count": 69,
   "metadata": {},
   "outputs": [],
   "source": [
    "ht1 = HashTable()"
   ]
  },
  {
   "cell_type": "code",
   "execution_count": 70,
   "metadata": {},
   "outputs": [
    {
     "name": "stdout",
     "output_type": "stream",
     "text": [
      "a list\n",
      "('Jasem', ' 89')\n",
      "('John', '58')\n",
      "('James', '96')\n",
      "a list\n",
      "('Mayr', ' 47')\n",
      "('Mary', '77')\n",
      "a list\n",
      "('Lindy', '94')\n",
      "a list\n",
      "('Percy', '89')\n",
      "a list\n",
      "('Sally', '48')\n"
     ]
    }
   ],
   "source": [
    "#1\n",
    "ht1 = HashTable()\n",
    "\n",
    "f1 = open('names.txt')\n",
    "for line in f1:\n",
    "    ht1.add(tuple(line.strip().split(',')))\n",
    "\n",
    "ht1.show()"
   ]
  },
  {
   "cell_type": "code",
   "execution_count": null,
   "metadata": {},
   "outputs": [],
   "source": []
  }
 ],
 "metadata": {
  "kernelspec": {
   "display_name": "Python 3",
   "language": "python",
   "name": "python3"
  },
  "language_info": {
   "codemirror_mode": {
    "name": "ipython",
    "version": 3
   },
   "file_extension": ".py",
   "mimetype": "text/x-python",
   "name": "python",
   "nbconvert_exporter": "python",
   "pygments_lexer": "ipython3",
   "version": "3.6.4"
  }
 },
 "nbformat": 4,
 "nbformat_minor": 5
}
