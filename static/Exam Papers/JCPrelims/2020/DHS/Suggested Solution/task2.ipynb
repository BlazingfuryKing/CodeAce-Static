{
  "nbformat": 4,
  "nbformat_minor": 0,
  "metadata": {
    "colab": {
      "name": "task2.ipynb",
      "provenance": []
    },
    "kernelspec": {
      "name": "python3",
      "display_name": "Python 3"
    }
  },
  "cells": [
    {
      "cell_type": "code",
      "metadata": {
        "id": "OqE8xOtBaROV",
        "colab_type": "code",
        "colab": {
          "base_uri": "https://localhost:8080/",
          "height": 188
        },
        "outputId": "66ed2043-4134-40e9-e73d-36fc447a79e0"
      },
      "source": [
        "# stable bubble sort\n",
        "# credit: Mr Alex\n",
        "\n",
        "def stable_bubblesort(arr):\n",
        "    num = len(arr) - 1\n",
        "    swap = True\n",
        "    \n",
        "    while swap:\n",
        "        swap = False # early termination if no swap happens / assume sorted\n",
        "        for i in range(num):\n",
        "            # only swap when > instead of >= to maintain stable order\n",
        "            if arr[i][:2] > arr[i+1][:2]: # compare first 2 chars\n",
        "                arr[i], arr[i+1] = arr[i+1], arr[i]\n",
        "                swap = True     \n",
        "        num -= 1 # reduce size by 1 as last item already sorted\n",
        "    return arr\n",
        "\n",
        "\n",
        "# main\n",
        "name_file = open('LASTNAMES.txt', 'r')\n",
        "n = int(name_file.readline().strip())\n",
        "while n != 0:\n",
        "    names = []\n",
        "    for i in range(n):\n",
        "        names.append(name_file.readline().strip())\n",
        "    names = stable_bubblesort(names)\n",
        "    for name in names:\n",
        "        print(name)\n",
        "    print() # separator between data sets\n",
        "    n = int(name_file.readline().strip())\n",
        "name_file.close()"
      ],
      "execution_count": null,
      "outputs": [
        {
          "output_type": "stream",
          "text": [
            "Bach\n",
            "Beethoven\n",
            "Mozart\n",
            "\n",
            "Godel\n",
            "Hilbert\n",
            "Poincare\n",
            "Pochhammmer\n",
            "Ramanujan\n",
            "\n"
          ],
          "name": "stdout"
        }
      ]
    }
  ]
}