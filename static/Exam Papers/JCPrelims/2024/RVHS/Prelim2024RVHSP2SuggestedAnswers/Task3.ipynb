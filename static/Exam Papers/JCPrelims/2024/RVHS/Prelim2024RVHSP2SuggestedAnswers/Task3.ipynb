{
 "cells": [
  {
   "cell_type": "code",
   "execution_count": 1,
   "id": "b8140bf2",
   "metadata": {},
   "outputs": [
    {
     "name": "stdout",
     "output_type": "stream",
     "text": [
      "Coordinate of space: (1,2)\n",
      "Puzzle: [[6, 8, 5], [2, 7, 0], [1, 4, 3]]\n",
      "\n",
      "Coordinate of space: (3,3)\n",
      "Puzzle: [[11, 7, 2, 3], [8, 6, 1, 4], [9, 13, 10, 5], [15, 14, 12, 0]]\n",
      "\n",
      "Coordinate of space: (3,2)\n",
      "Puzzle: [[13, 22, 1, 15, 5], [19, 17, 6, 20, 12], [16, 18, 7, 11, 8], [10, 3, 0, 2, 24], [4, 14, 21, 9, 23]]\n",
      "\n"
     ]
    }
   ],
   "source": [
    "import random, datetime\n",
    "# Task 3.1 [5]\n",
    "def create_puzzle(n):\n",
    "    num_lst = list(range(0, n**2))\n",
    "    random.shuffle(num_lst)\n",
    "    k = 0\n",
    "    space = [-1,-1]\n",
    "    result = []\n",
    "    for i in range(n):\n",
    "        temp = []\n",
    "        for j in range(n):\n",
    "            temp.append(num_lst[k])\n",
    "            if num_lst[k] == 0:\n",
    "                space = [i, j]\n",
    "            k += 1\n",
    "        result.append(temp)\n",
    "    return result, space[0], space[1]\n",
    "\n",
    "for i in range(3,6):\n",
    "    puzzle, r, c = create_puzzle(i)\n",
    "    print(\"Coordinate of space: ({},{})\".format(r,c))\n",
    "    print(\"Puzzle: \" + str(puzzle))\n",
    "    print()"
   ]
  },
  {
   "cell_type": "code",
   "execution_count": 2,
   "id": "daaeb4da",
   "metadata": {},
   "outputs": [
    {
     "name": "stdout",
     "output_type": "stream",
     "text": [
      "        0   1   2   3   4\n",
      "\n",
      "   0    2   7  16   #   3\n",
      "   1   22   5  24  20  10\n",
      "   2   15  13   8   4  14\n",
      "   3   11  17  18  23   1\n",
      "   4    6  19  12  21   9\n",
      "\n",
      "        0   1   2\n",
      "\n",
      "   0    3   6   1\n",
      "   1    4   8   5\n",
      "   2    #   7   2\n",
      "        0   1   2   3\n",
      "\n",
      "   0   14  10   9   3\n",
      "   1    2   4   5  12\n",
      "   2   13   #  15   8\n",
      "   3    7   1   6  11\n"
     ]
    }
   ],
   "source": [
    "# Task 3.2 [3]\n",
    "def display_puzzle(puzzle):\n",
    "    print(\"{:>4} \".format(\"\"), end = \"\")\n",
    "    for i in range(len(puzzle)):\n",
    "        print(\"{:>4}\".format(i), end = \"\")\n",
    "    print()\n",
    "    print()\n",
    "    for i in range(len(puzzle)):\n",
    "        print(\"{:>4} \".format(i), end = \"\")\n",
    "        for col in puzzle[i]:\n",
    "            if col == 0:\n",
    "                print(\"{:>4}\".format('#'), end = \"\")\n",
    "            else:\n",
    "                print(\"{:>4}\".format(col), end = \"\")\n",
    "        print()\n",
    "\n",
    "puzzle, x, y = create_puzzle(5)\n",
    "display_puzzle(puzzle)\n",
    "print()\n",
    "puzzle, x, y = create_puzzle(3)\n",
    "display_puzzle(puzzle)\n",
    "\n",
    "puzzle = [[14, 10, 9, 3], [2, 4, 5, 12], [13, 0, 15, 8], [7, 1, 6, 11]]\n",
    "display_puzzle(puzzle)"
   ]
  },
  {
   "cell_type": "code",
   "execution_count": 3,
   "id": "04f4969f",
   "metadata": {},
   "outputs": [
    {
     "name": "stdout",
     "output_type": "stream",
     "text": [
      "['U', 'R', 'D', 'L']\n"
     ]
    }
   ],
   "source": [
    "# Task 3.3 [4]\n",
    "def find_available_move(puzzle, r, c):\n",
    "    def out_of_bound(r, c, size):\n",
    "        return r < 0 or r >= size or c < 0 or c >= size\n",
    "    available_moves = []\n",
    "    if not out_of_bound(r-1, c, len(puzzle)):\n",
    "        available_moves.append(\"U\")\n",
    "    if not out_of_bound(r, c+1, len(puzzle)):\n",
    "        available_moves.append(\"R\")    \n",
    "    if not out_of_bound(r+1, c, len(puzzle)):\n",
    "        available_moves.append(\"D\")        \n",
    "    if not out_of_bound(r, c-1, len(puzzle)):\n",
    "        available_moves.append(\"L\")\n",
    "    return available_moves\n",
    "\n",
    "print(find_available_move(puzzle, 2, 1))"
   ]
  },
  {
   "cell_type": "code",
   "execution_count": 4,
   "id": "68b25e61",
   "metadata": {},
   "outputs": [
    {
     "name": "stdout",
     "output_type": "stream",
     "text": [
      "[[14, 10, 9, 3], [2, 4, 5, 12], [13, 1, 15, 8], [7, 0, 6, 11]]\n"
     ]
    }
   ],
   "source": [
    "# Task 3.4\n",
    "def make_move(move, puzzle, r, c): # Assume alwacs valid move.\n",
    "    # print(\"make_move\", move, r, c)\n",
    "    if move == \"U\":\n",
    "        puzzle[r][c], puzzle[r-1][c] = puzzle[r-1][c], puzzle[r][c]\n",
    "        return r-1, c\n",
    "    if move == \"R\":\n",
    "        puzzle[r][c], puzzle[r][c+1] = puzzle[r][c+1], puzzle[r][c]\n",
    "        return r, c+1\n",
    "    if move == \"D\":\n",
    "        puzzle[r][c], puzzle[r+1][c] = puzzle[r+1][c], puzzle[r][c]\n",
    "        return r+1, c\n",
    "    if move == \"L\":\n",
    "        puzzle[r][c], puzzle[r][c-1] = puzzle[r][c-1], puzzle[r][c]\n",
    "        return r, c-1\n",
    "\n",
    "puzzle = [[14, 10, 9, 3], [2, 4, 5, 12], [13, 0, 15, 8], [7, 1, 6, 11]]\n",
    "make_move('D', puzzle, 2, 1)\n",
    "print(puzzle)"
   ]
  },
  {
   "cell_type": "code",
   "execution_count": 5,
   "id": "e14d1512",
   "metadata": {},
   "outputs": [],
   "source": [
    "# Task 3.5\n",
    "def win(puzzle): # Assume valid puzzle\n",
    "    one_d_array = []\n",
    "    for row in puzzle:\n",
    "        one_d_array.extend(row)\n",
    "    for i in range(len(one_d_array)-1):\n",
    "        if one_d_array[i] != i+1:\n",
    "            return False\n",
    "    return True"
   ]
  },
  {
   "cell_type": "code",
   "execution_count": 6,
   "id": "e8241169",
   "metadata": {},
   "outputs": [
    {
     "name": "stdout",
     "output_type": "stream",
     "text": [
      "        0   1   2\n",
      "\n",
      "   0    2   3   5\n",
      "   1    1   #   4\n",
      "   2    7   8   6\n",
      "1) New Game.\n",
      "2) Make one Move.\n",
      "3) Make many moves.\n",
      "4) Quit.\n",
      "Your option: 4\n",
      "Game over.\n",
      "You took 2s to give up.\n",
      "\n"
     ]
    }
   ],
   "source": [
    "# Task 3.6\n",
    "def validate(your_moves):\n",
    "    for move in your_moves:\n",
    "        if move not in \"URDL\":\n",
    "            return False\n",
    "    return True\n",
    "    \n",
    "def game_menu():\n",
    "    start_time = datetime.datetime.now()\n",
    "    puzzle, x, y = [[2,3,5],[1,0,4],[7,8,6]], 1, 1 # solution to this puzzle RULLDRRD\n",
    "    done = False    \n",
    "    while not done:\n",
    "        display_puzzle(puzzle)\n",
    "        option = input(\"1) New Game.\\n2) Make one Move.\\n3) Make many moves.\\n4) Quit.\\nYour option: \")\n",
    "        while option not in [\"1\", \"2\", \"3\", \"4\"]:\n",
    "            option = input(\"Please key 1, 2, 3 or 4: \")\n",
    "            \n",
    "        if option == \"4\":\n",
    "            print(\"Game over.\")\n",
    "            time_taken = (datetime.datetime.now() - start_time).total_seconds()\n",
    "            print(\"You took \" + str(int(time_taken)) + \"s to give up.\")\n",
    "            done = True\n",
    "        \n",
    "        elif option == \"3\":\n",
    "            your_moves = input(\"Your series of moves (no spaces): \")\n",
    "            while not validate(your_moves):\n",
    "                your_moves = input(\"Please use only U, R, D or L: \")\n",
    "            \n",
    "            invalid_move = False\n",
    "            stop_at = 0\n",
    "            for i in range(len(your_moves)):\n",
    "                if your_moves[i] in find_available_move(puzzle, x, y):\n",
    "                    x, y = make_move(your_moves[i], puzzle, x, y)\n",
    "                else:\n",
    "                    invalid_move = True\n",
    "                    stop_at = i\n",
    "                    break\n",
    "            \n",
    "            if invalid_move: # Reverse the moves to initial state if there is invalid moves\n",
    "                print(your_moves[stop_at-1::-1])\n",
    "                for move in your_moves[stop_at-1::-1]:\n",
    "                    reverse_move = {\"U\":\"D\", \"R\":\"L\", \"D\":\"U\", \"L\":\"R\"}\n",
    "                    x, y = make_move(reverse_move[move], puzzle, x, y)\n",
    "                print(\"Your moves contains invlaid move.\")\n",
    "            else:\n",
    "                if win(puzzle):\n",
    "                    time_taken = (datetime.datetime.now() - start_time).total_seconds()\n",
    "                    print(\"You took \" + str(int(time_taken)) + \"s to win.\")\n",
    "                    done = True\n",
    "        \n",
    "        elif option == \"2\":\n",
    "            moves = find_available_move(puzzle, x, y)\n",
    "            move = input(\"Please choose your move \" + str(moves) + \": \")\n",
    "            while move not in moves:\n",
    "                move = input(\"Please key \" + str(moves) + \": \")\n",
    "            \n",
    "            x, y = make_move(move, puzzle, x, y)\n",
    "            if win(puzzle):\n",
    "                time_taken = (datetime.datetime.now() - start_time).total_seconds()\n",
    "                print(\"You took \" + str(int(time_taken)) + \"s to win.\")\n",
    "                done = True\n",
    "       \n",
    "        elif option == \"1\":\n",
    "            size = input(\"Key in size of puzzle: \")\n",
    "            while not size.isdigit() or int(size) < 2 or int(size) > 6:\n",
    "                size = input(\"Please key a number from 3 to 5: \")\n",
    "            puzzle, x, y = create_puzzle(int(size))\n",
    "            # display_puzzle(puzzle)\n",
    "            start_time = datetime.datetime.now()\n",
    "        print()\n",
    "\n",
    "game_menu()"
   ]
  },
  {
   "cell_type": "code",
   "execution_count": null,
   "id": "f1fff9e1",
   "metadata": {},
   "outputs": [],
   "source": [
    "#RULLDRRD"
   ]
  },
  {
   "cell_type": "code",
   "execution_count": null,
   "id": "02137dee",
   "metadata": {},
   "outputs": [],
   "source": []
  }
 ],
 "metadata": {
  "kernelspec": {
   "display_name": "Python 3 (ipykernel)",
   "language": "python",
   "name": "python3"
  },
  "language_info": {
   "codemirror_mode": {
    "name": "ipython",
    "version": 3
   },
   "file_extension": ".py",
   "mimetype": "text/x-python",
   "name": "python",
   "nbconvert_exporter": "python",
   "pygments_lexer": "ipython3",
   "version": "3.7.7"
  }
 },
 "nbformat": 4,
 "nbformat_minor": 5
}
