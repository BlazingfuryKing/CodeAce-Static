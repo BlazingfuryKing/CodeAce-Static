{
 "cells": [
  {
   "cell_type": "code",
   "execution_count": 8,
   "id": "2164663c",
   "metadata": {},
   "outputs": [],
   "source": [
    "import sqlite3, csv, os\n",
    "from sqlite3 import Error\n",
    "db_filename = \"cu_booking.db\""
   ]
  },
  {
   "cell_type": "code",
   "execution_count": 9,
   "id": "45b48d03",
   "metadata": {},
   "outputs": [],
   "source": [
    "os.remove(db_filename)"
   ]
  },
  {
   "cell_type": "code",
   "execution_count": 10,
   "id": "032fa726",
   "metadata": {},
   "outputs": [],
   "source": [
    "def connect_db(db_filename):\n",
    "    try:\n",
    "        conn = sqlite3.connect(db_filename)\n",
    "        return conn\n",
    "    except Error as e:\n",
    "        print (e)"
   ]
  },
  {
   "cell_type": "code",
   "execution_count": 11,
   "id": "ff5d3b4c",
   "metadata": {},
   "outputs": [],
   "source": [
    "conn = connect_db(db_filename)\n",
    "conn.close()"
   ]
  },
  {
   "cell_type": "code",
   "execution_count": 12,
   "id": "6f2f3b67",
   "metadata": {},
   "outputs": [],
   "source": [
    "## Task 1.1\n",
    "##8\n",
    "def create_tables(conn):\n",
    "    ##1\n",
    "    sql_student = '''\n",
    "                    CREATE TABLE student (\n",
    "                        id TEXT NOT NULL,\n",
    "                        name TEXT NOT NULL,\n",
    "                        contact INTEGER NOT NULL,\n",
    "                        PRIMARY KEY (id)\n",
    "                    );\n",
    "                '''\n",
    "    ##3\n",
    "    sql_cubicle = '''\n",
    "                    CREATE TABLE cubicle (\n",
    "                        cubicle_no TEXT NOT NULL,\n",
    "                        maintenance INTEGER DEFAULT 0,\n",
    "                        PRIMARY KEY (cubicle_no),\n",
    "                        CHECK (maintenance in (1,0))\n",
    "                    )\n",
    "                '''\n",
    "    ##3\n",
    "    sql_booking = '''\n",
    "                    CREATE TABLE booking (\n",
    "                        cubicle_no TEXT NOT NULL,\n",
    "                        date TEXT NOT NULL,\n",
    "                        student_id TEXT NOT NULL,\n",
    "                        PRIMARY KEY (cubicle_no, date),\n",
    "                        FOREIGN KEY (cubicle_no) REFERENCES cubicle (cubicle_no),\n",
    "                        FOREIGN KEY (student_id) REFERENCES student (id)\n",
    "                    )\n",
    "                '''\n",
    "    for table in [sql_student,sql_cubicle,sql_booking]:\n",
    "        try:\n",
    "            conn.execute(table) ##1\n",
    "        except Error as e:\n",
    "            print(e)\n"
   ]
  },
  {
   "cell_type": "code",
   "execution_count": 13,
   "id": "425b97b5",
   "metadata": {},
   "outputs": [],
   "source": [
    "conn = connect_db(db_filename)\n",
    "create_tables(conn)\n",
    "conn.close()"
   ]
  },
  {
   "cell_type": "code",
   "execution_count": 14,
   "id": "7d2fa104",
   "metadata": {},
   "outputs": [],
   "source": [
    "## Task 1.2\n",
    "##5\n",
    "def import_csv(conn, csv_file):\n",
    "    with open (csv_file,'r') as csvfile:\n",
    "        table = csv_file[:-4]\n",
    "        csvreader = csv.reader(csvfile)\n",
    "        header = tuple(next(csvreader)) #1\n",
    "        for row in csvreader:\n",
    "            sql = f\"INSERT INTO {table} {header} VALUES {tuple(row)}\" # 3\n",
    "            try:\n",
    "                conn.execute(sql) \n",
    "                conn.commit() #1\n",
    "            except Error as e:\n",
    "                print(e)\n",
    "    csvfile.close()\n",
    "       "
   ]
  },
  {
   "cell_type": "code",
   "execution_count": 15,
   "id": "153df8fc",
   "metadata": {
    "scrolled": true
   },
   "outputs": [],
   "source": [
    "conn = connect_db(db_filename)\n",
    "\n",
    "csv_files = [\"student.csv\", \"cubicle.csv\", \"booking.csv\"]\n",
    "for csv_file in csv_files:\n",
    "    import_csv(conn,csv_file)\n",
    "conn.close()"
   ]
  },
  {
   "cell_type": "code",
   "execution_count": 16,
   "id": "38c52bb6",
   "metadata": {},
   "outputs": [],
   "source": [
    "## Task 1.3\n",
    "##2\n",
    "def update_maintenance(conn, cu, new):\n",
    "    sql = \"UPDATE cubicle SET maintenance = ? WHERE cubicle_no = ?\" #1\n",
    "    try:\n",
    "        conn.execute(sql,(new,cu))#1\n",
    "        conn.commit()\n",
    "    except Error as e:\n",
    "        print(e)"
   ]
  },
  {
   "cell_type": "code",
   "execution_count": 17,
   "id": "61f254a3",
   "metadata": {},
   "outputs": [],
   "source": [
    "conn = connect_db(db_filename)\n",
    "update_maintenance(conn, \"c01\", 0)\n",
    "conn.close()"
   ]
  },
  {
   "cell_type": "code",
   "execution_count": 18,
   "id": "551fd2e0",
   "metadata": {},
   "outputs": [],
   "source": [
    "## Task 1.4\n",
    "## 3\n",
    "def not_avail(conn,date):\n",
    "    sql = '''\n",
    "        SELECT cubicle_no FROM cubicle\n",
    "        WHERE cubicle_no NOT IN (\n",
    "        (SELECT cubicle.cubicle_no\n",
    "            FROM cubicle \n",
    "        LEFT JOIN booking\n",
    "            ON cubicle.cubicle_no = booking.cubicle_no\n",
    "        WHERE date = ? OR maintenance = 1))\n",
    "    ''' #2\n",
    "    cur = conn.execute(sql,(date,))\n",
    "    unavail_list = [i[0] for i in cur.fetchall()] #1\n",
    "    return unavail_list"
   ]
  },
  {
   "cell_type": "code",
   "execution_count": 19,
   "id": "433979f6",
   "metadata": {},
   "outputs": [
    {
     "name": "stdout",
     "output_type": "stream",
     "text": [
      "['c01', 'c03', 'c04', 'c05', 'c06', 'c07', 'c08', 'c09', 'c10', 'c11', 'c12']\n"
     ]
    }
   ],
   "source": [
    "conn = connect_db(db_filename)\n",
    "lst = not_avail(conn,\"17112024\")\n",
    "print(lst)\n",
    "conn.close()"
   ]
  },
  {
   "cell_type": "code",
   "execution_count": null,
   "id": "3cf8bd2f",
   "metadata": {},
   "outputs": [],
   "source": []
  }
 ],
 "metadata": {
  "kernelspec": {
   "display_name": "Python 3 (ipykernel)",
   "language": "python",
   "name": "python3"
  },
  "language_info": {
   "codemirror_mode": {
    "name": "ipython",
    "version": 3
   },
   "file_extension": ".py",
   "mimetype": "text/x-python",
   "name": "python",
   "nbconvert_exporter": "python",
   "pygments_lexer": "ipython3",
   "version": "3.7.7"
  }
 },
 "nbformat": 4,
 "nbformat_minor": 5
}
