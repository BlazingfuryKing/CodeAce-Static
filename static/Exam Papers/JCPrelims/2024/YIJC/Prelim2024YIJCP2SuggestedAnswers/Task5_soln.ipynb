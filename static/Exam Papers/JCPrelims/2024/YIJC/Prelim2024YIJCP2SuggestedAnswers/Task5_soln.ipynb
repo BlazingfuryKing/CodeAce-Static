{
 "cells": [
  {
   "cell_type": "markdown",
   "metadata": {},
   "source": [
    "# Question 5"
   ]
  },
  {
   "cell_type": "markdown",
   "metadata": {},
   "source": [
    "# Task 5.1 (2m)"
   ]
  },
  {
   "cell_type": "code",
   "execution_count": null,
   "metadata": {},
   "outputs": [],
   "source": [
    "class Node:\n",
    "    def __init__(self, data):\n",
    "        self.data = data\n",
    "        self.next = None                       #[1] constructor with attributes\n",
    "        \n",
    "    def get_next(self):\n",
    "        return self.next\n",
    "   \n",
    "    def get_data(self):\n",
    "        return self.data                       #[1] getters and setters\n",
    "\n",
    "    def set_next(self, ptr):\n",
    "        self.next = ptr\n",
    "        \n",
    "    def set_data(self, data):\n",
    "        self.data = data        \n"
   ]
  },
  {
   "cell_type": "markdown",
   "metadata": {},
   "source": [
    "# Task 5.2 (8m)"
   ]
  },
  {
   "cell_type": "code",
   "execution_count": null,
   "metadata": {},
   "outputs": [],
   "source": [
    "class Queue:\n",
    "    def __init__(self):\n",
    "        self.root = None                            #[1] constructor\n",
    "        \n",
    "    def enqueue(self, new_data):\n",
    "        new_node = Node(new_data)\n",
    "        if self.root == None:\n",
    "            self.root = new_node                    #[1] single node\n",
    "        else:\n",
    "            this_node = self.root\n",
    "            while this_node.get_next() != None:\n",
    "                this_node = this_node.get_next()\n",
    "            this_node.set_next(new_node)            #[1] append new node\n",
    "           \n",
    "    def dequeue(self):\n",
    "        if self.root == None:\n",
    "            print('Cannot remove from an empty queue.') \n",
    "        else:\n",
    "            data = self.root.get_data()\n",
    "            self.root = self.root.get_next()        #[1] remove node\n",
    "            return data                             #[1] return deleted data\n",
    "            \n",
    "    def peek(self):\n",
    "        if self.root == None:\n",
    "            print('Empty queue.')\n",
    "        else:\n",
    "            return self.root.get_data()             #[1] return first data\n",
    "\n",
    "    def display(self):\n",
    "        #self.lst = []\n",
    "        if self.root == None:\n",
    "            print('There is no element in the queue.')\n",
    "        else:\n",
    "            this_node = self.root\n",
    "            #self.lst.append(this_node.get_data())\n",
    "            print(this_node.get_data(), end=' <- ')\n",
    "            \n",
    "            while this_node.get_next():                   #[1] iterate thru the queue\n",
    "                this_node = this_node.get_next()\n",
    "                #self.lst.append(this_node.get_data())\n",
    "                print(this_node.get_data(), end=' <- ')   #[1] display the data\n",
    "        print()\n",
    "        #return self.lst\n",
    "    \n"
   ]
  },
  {
   "cell_type": "markdown",
   "metadata": {},
   "source": [
    "# Task 5.3 (5m)"
   ]
  },
  {
   "cell_type": "code",
   "execution_count": null,
   "metadata": {},
   "outputs": [
    {
     "name": "stdout",
     "output_type": "stream",
     "text": [
      "('2342', ['Fish Burger', 'Apple Pie', 'Coke Zero']) <- ('3534', ['Chicken Burger', 'French Flies']) <- \n"
     ]
    }
   ],
   "source": [
    "order1 = ('2342', ['Fish Burger', 'Apple Pie', 'Coke Zero'])\n",
    "order2 = ('3534', ['Chicken Burger', 'French Flies'])\n",
    "order3 = ('8574', ['Mocha Frappe', 'Strawberry Sundae'])\n",
    "\n",
    "MacQ = Queue()                 #[1] create empty queue\n",
    "MacQ.enqueue(order1)           #[1] test enqueue()\n",
    "MacQ.enqueue(order2)\n",
    "\n",
    "MacQ.display()                 #[1] test display()"
   ]
  },
  {
   "cell_type": "code",
   "execution_count": null,
   "metadata": {},
   "outputs": [
    {
     "name": "stdout",
     "output_type": "stream",
     "text": [
      "('3534', ['Chicken Burger', 'French Flies']) <- \n"
     ]
    }
   ],
   "source": [
    "MacQ.dequeue()                 #[1] test dequeue()\n",
    "MacQ.display()"
   ]
  },
  {
   "cell_type": "code",
   "execution_count": null,
   "metadata": {},
   "outputs": [
    {
     "name": "stdout",
     "output_type": "stream",
     "text": [
      "('3534', ['Chicken Burger', 'French Flies']) <- ('8574', ['Mocha Frappe', 'Strawberry Sundae']) <- \n"
     ]
    }
   ],
   "source": [
    "MacQ.enqueue(order3)           #[1] enqueue all 3 orders\n",
    "\n",
    "MacQ.display()"
   ]
  },
  {
   "cell_type": "markdown",
   "metadata": {},
   "source": [
    "# Task 5.4 (1m)"
   ]
  },
  {
   "cell_type": "code",
   "execution_count": null,
   "metadata": {},
   "outputs": [
    {
     "name": "stdout",
     "output_type": "stream",
     "text": [
      "(80, '2024/7/18') <- (100, '2024/7/26') <- (50, '2024/8/5') <- \n"
     ]
    }
   ],
   "source": [
    "reward1 = (80, '2024/7/18')     #expiry: '2024/8/15'\n",
    "reward2 = (100, '2024/7/26')    #expiry: '2024/8/23'\n",
    "reward3 = (50, '2024/8/5')      #expiry: '2024/9/2'\n",
    "\n",
    "RewardQ = Queue()\n",
    "RewardQ.enqueue(reward1)\n",
    "RewardQ.enqueue(reward2)\n",
    "RewardQ.enqueue(reward3)\n",
    "RewardQ.display()              #[1] enqueue all rewards"
   ]
  },
  {
   "cell_type": "markdown",
   "metadata": {},
   "source": [
    "# Given in module.py"
   ]
  },
  {
   "cell_type": "code",
   "execution_count": null,
   "metadata": {},
   "outputs": [],
   "source": [
    "#module.py\n",
    "\n",
    "from datetime import *\n",
    "\n",
    "def convert(today):              #today: 'yyyy/mm/dd' string\n",
    "    return datetime.strptime(today, '%Y/%m/%d').date()\n",
    "\n",
    "def expirydate(today):            #today: 'yyyy/mm/dd' string\n",
    "    now = convert(today)\n",
    "    four_weeks = timedelta(weeks=4)\n",
    "    later = now + four_weeks\n",
    "    return later"
   ]
  },
  {
   "cell_type": "markdown",
   "metadata": {},
   "source": [
    "# Task 5.5 (4m)"
   ]
  },
  {
   "cell_type": "code",
   "execution_count": null,
   "metadata": {},
   "outputs": [],
   "source": [
    "class Node:\n",
    "    def __init__(self, data):\n",
    "        self.data = data\n",
    "        self.next = None\n",
    "        \n",
    "    def get_next(self):\n",
    "        return self.next\n",
    "   \n",
    "    def get_data(self):\n",
    "        return self.data\n",
    "\n",
    "    def set_next(self, ptr):\n",
    "        self.next = ptr\n",
    "        \n",
    "    def set_data(self, data):\n",
    "        self.data = data\n",
    "\n",
    "class Queue:\n",
    "    def __init__(self):\n",
    "        self.root = None\n",
    "        \n",
    "    def enqueue(self, new_data):\n",
    "        new_node = Node(new_data)\n",
    "        if self.root == None:\n",
    "            self.root = new_node\n",
    "        else:\n",
    "            this_node = self.root\n",
    "            while this_node.get_next() != None:\n",
    "                this_node = this_node.get_next()\n",
    "            this_node.set_next(new_node)\n",
    "\n",
    "    def dequeue(self):\n",
    "        if self.root == None:\n",
    "            print('Cannot remove from an empty queue.')\n",
    "        else:\n",
    "            data = self.root.get_data()\n",
    "            self.root = self.root.get_next()\n",
    "            return data\n",
    "\n",
    "    def peek(self):\n",
    "        if self.root == None:\n",
    "            print('Empty queue.')\n",
    "        else:\n",
    "            return self.root.get_data()   \n",
    "\n",
    "    def display(self):\n",
    "        self.lst = []\n",
    "        if self.root == None:\n",
    "            print('There is no element in the queue.')\n",
    "        else:\n",
    "            this_node = self.root\n",
    "            self.lst.append(this_node.get_data())\n",
    "            print(this_node.get_data(), end=' <- ')\n",
    "            \n",
    "            while this_node.get_next():\n",
    "                this_node = this_node.get_next()\n",
    "                self.lst.append(this_node.get_data())\n",
    "                print(this_node.get_data(), end=' <- ')\n",
    "        print()\n",
    "        #return self.lst\n",
    "    \n",
    "    def update(self, string):         #string: date in 'yyyy/mm/dd' format\n",
    "        while self.root != None:                               #[1] iterate thru the queue\n",
    "            if expirydate(self.peek()[1]) < convert(string):   #[1] check against expiry date\n",
    "                self.dequeue()                                 #[1] remove expired node\n",
    "            else:\n",
    "                break\n",
    "                                                               #[1] run test case: update('2024/8/21')"
   ]
  },
  {
   "cell_type": "markdown",
   "metadata": {},
   "source": [
    "# Task 5.6 (5m)"
   ]
  },
  {
   "cell_type": "code",
   "execution_count": null,
   "metadata": {},
   "outputs": [],
   "source": [
    "class Node:\n",
    "    def __init__(self, data):\n",
    "        self.data = data\n",
    "        self.next = None\n",
    "        \n",
    "    def get_next(self):\n",
    "        return self.next\n",
    "   \n",
    "    def get_data(self):\n",
    "        return self.data\n",
    "\n",
    "    def set_next(self, ptr):\n",
    "        self.next = ptr\n",
    "        \n",
    "    def set_data(self, data):\n",
    "        self.data = data\n",
    "\n",
    "class Queue:\n",
    "    def __init__(self):\n",
    "        self.root = None\n",
    "        \n",
    "    def enqueue(self, new_data):\n",
    "        new_node = Node(new_data)\n",
    "        if self.root == None:\n",
    "            self.root = new_node\n",
    "        else:\n",
    "            this_node = self.root\n",
    "            while this_node.get_next() != None:\n",
    "                this_node = this_node.get_next()\n",
    "            this_node.set_next(new_node)\n",
    "\n",
    "    def dequeue(self):\n",
    "        if self.root == None:\n",
    "            print('Cannot remove from an empty queue.')\n",
    "        else:\n",
    "            data = self.root.get_data()\n",
    "            self.root = self.root.get_next()\n",
    "            return data\n",
    "\n",
    "    def peek(self):\n",
    "        if self.root == None:\n",
    "            print('Empty queue.')\n",
    "        else:\n",
    "            return self.root.get_data()   \n",
    "\n",
    "    def display(self):\n",
    "        self.lst = []\n",
    "        if self.root == None:\n",
    "            print('There is no element in the queue.')\n",
    "        else:\n",
    "            this_node = self.root\n",
    "            self.lst.append(this_node.get_data())\n",
    "            print(this_node.get_data(), end=' <- ')\n",
    "            \n",
    "            while this_node.get_next():\n",
    "                this_node = this_node.get_next()\n",
    "                self.lst.append(this_node.get_data())\n",
    "                print(this_node.get_data(), end=' <- ')\n",
    "        print()\n",
    "        #return self.lst\n",
    "    \n",
    "    def update(self, string):         #string: date in 'yyyy/mm/dd' format\n",
    "        while self.root != None:                               #[1] iterate thru the queue\n",
    "            if expirydate(self.peek()[1]) < convert(string):   #[1] check against expiry date\n",
    "                self.dequeue()                                 #[1] remove expired node\n",
    "            else:\n",
    "                break\n",
    "                                                               #[1] run test case: update('2024/8/21')\n",
    "        \n",
    "    def use(self, n):  \n",
    "        if self.root == None:                    #[1] display msg for insufficient point\n",
    "            print('There is insufficient reward point,', n, 'points not deducted.')\n",
    "            return \n",
    "        else:\n",
    "            if self.peek()[0] >= n:      \n",
    "                tup = self.root.get_data()             #tup: (points, datetime)\n",
    "                tup = (tup[0] - n, tup[1])\n",
    "                self.root.set_data(tup)          #[1] deduct reward point\n",
    "                self.display()\n",
    "                return\n",
    "            else:\n",
    "                balance = n - self.peek()[0]\n",
    "                self.dequeue()                   #[1] remove node after deducting all points\n",
    "                self.use(balance)                #[1] recursive call using balance\n",
    "                \n",
    "                                                 #[1] run test case: use(50), use(75), use(30)\n",
    "                "
   ]
  },
  {
   "cell_type": "code",
   "execution_count": null,
   "metadata": {},
   "outputs": [
    {
     "name": "stdout",
     "output_type": "stream",
     "text": [
      "(80, '2024/7/18') <- (100, '2024/7/26') <- (50, '2024/8/5') <- \n"
     ]
    }
   ],
   "source": [
    "reward1 = (80, '2024/7/18')     #expiry: '2024/8/15'\n",
    "reward2 = (100, '2024/7/26')    #expiry: '2024/8/23'\n",
    "reward3 = (50, '2024/8/5')      #expiry: '2024/9/2'\n",
    "\n",
    "RewardQ = Queue()\n",
    "RewardQ.enqueue(reward1)\n",
    "RewardQ.enqueue(reward2)\n",
    "RewardQ.enqueue(reward3)\n",
    "RewardQ.display()"
   ]
  },
  {
   "cell_type": "code",
   "execution_count": null,
   "metadata": {},
   "outputs": [
    {
     "name": "stdout",
     "output_type": "stream",
     "text": [
      "(100, '2024/7/26') <- (50, '2024/8/5') <- \n"
     ]
    }
   ],
   "source": [
    "RewardQ.update('2024/8/21')\n",
    "RewardQ.display()"
   ]
  },
  {
   "cell_type": "code",
   "execution_count": null,
   "metadata": {},
   "outputs": [
    {
     "name": "stdout",
     "output_type": "stream",
     "text": [
      "(50, '2024/7/26') <- (50, '2024/8/5') <- \n",
      "(50, '2024/7/26') <- (50, '2024/8/5') <- \n"
     ]
    }
   ],
   "source": [
    "RewardQ.use(50)\n",
    "RewardQ.display()"
   ]
  },
  {
   "cell_type": "code",
   "execution_count": null,
   "metadata": {},
   "outputs": [
    {
     "name": "stdout",
     "output_type": "stream",
     "text": [
      "(25, '2024/8/5') <- \n",
      "(25, '2024/8/5') <- \n"
     ]
    }
   ],
   "source": [
    "RewardQ.use(75)\n",
    "RewardQ.display()"
   ]
  },
  {
   "cell_type": "code",
   "execution_count": null,
   "metadata": {},
   "outputs": [
    {
     "name": "stdout",
     "output_type": "stream",
     "text": [
      "There is insufficient reward point, 5 points not deducted.\n",
      "There is no element in the queue.\n",
      "\n"
     ]
    }
   ],
   "source": [
    "RewardQ.use(30)\n",
    "RewardQ.display()"
   ]
  }
 ],
 "metadata": {
  "language_info": {
   "name": "python"
  }
 },
 "nbformat": 4,
 "nbformat_minor": 2
}
