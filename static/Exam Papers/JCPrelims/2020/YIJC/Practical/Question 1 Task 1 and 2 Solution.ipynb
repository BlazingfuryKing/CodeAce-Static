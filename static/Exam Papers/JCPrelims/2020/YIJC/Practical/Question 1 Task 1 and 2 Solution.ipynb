{
 "cells": [
  {
   "cell_type": "markdown",
   "metadata": {},
   "source": [
    "# 2020 J2 Prelim Practical Solution - Task 1.1 & 1.2"
   ]
  },
  {
   "cell_type": "markdown",
   "metadata": {},
   "source": [
    "### Method 1: Read data from file and store into a Data Structure "
   ]
  },
  {
   "cell_type": "code",
   "execution_count": 6,
   "metadata": {},
   "outputs": [
    {
     "name": "stdout",
     "output_type": "stream",
     "text": [
      "[['.', '.', '.', '.', '.', '.'], ['.', '.', '.', '.', 'X', '.'], ['X', 'X', 'X', '.', 'X', '.'], ['.', '.', '.', '.', 'X', '.'], ['.', 'X', 'X', 'X', '.', '.'], ['.', '.', '.', '.', '.', '.']]\n",
      "......\n",
      "....X.\n",
      "XXX.X.\n",
      "....X.\n",
      ".XXX..\n",
      "......\n",
      "\n"
     ]
    }
   ],
   "source": [
    "game = []\n",
    "\n",
    "with open('GAME.TXT', 'r') as f:\n",
    "    content = f.readlines()\n",
    "    for line in content: \n",
    "        game.append(list(line.strip()))\n",
    "print(game)\n",
    "\n",
    "\n",
    "string = ''\n",
    "for row in game:\n",
    "    for col in row:\n",
    "        string += col\n",
    "    string += '\\n'\n",
    "\n",
    "print(string)"
   ]
  },
  {
   "cell_type": "markdown",
   "metadata": {},
   "source": [
    "### Method 1: Hit or Miss the Ships "
   ]
  },
  {
   "cell_type": "code",
   "execution_count": 7,
   "metadata": {},
   "outputs": [
    {
     "name": "stdout",
     "output_type": "stream",
     "text": [
      "......\n",
      "....X.\n",
      "XXX.X.\n",
      "....X.\n",
      ".XXX..\n",
      "......\n",
      "\n",
      "Enter the x position (0-5) :0\n",
      "Enter the y position (0-5) :0\n",
      "O.....\n",
      "....X.\n",
      "XXX.X.\n",
      "....X.\n",
      ".XXX..\n",
      "......\n",
      "\n"
     ]
    }
   ],
   "source": [
    "def display(grid):\n",
    "    string = ''\n",
    "    for row in grid:\n",
    "        for col in row:\n",
    "            string += col\n",
    "        string += '\\n'\n",
    "    return string\n",
    "\n",
    "print(display(game))\n",
    "\n",
    "x = int(input('Enter the x position (0-5) :'))\n",
    "y = int(input('Enter the y position (0-5) :'))\n",
    "\n",
    "if game[y][x] == 'X':\n",
    "    game[y][x] = 'S'\n",
    "elif game[y][x] == '.':\n",
    "    game[y][x] = 'O'\n",
    "    \n",
    "print(display(game))"
   ]
  },
  {
   "cell_type": "markdown",
   "metadata": {},
   "source": [
    "### Method 2: Read data from file and store into a Data Structure\n"
   ]
  },
  {
   "cell_type": "code",
   "execution_count": 4,
   "metadata": {},
   "outputs": [
    {
     "name": "stdout",
     "output_type": "stream",
     "text": [
      "[[4, 1], [0, 2], [1, 2], [2, 2], [4, 2], [4, 3], [1, 4], [2, 4], [3, 4]]\n",
      "......\n",
      "....X.\n",
      "XXX.X.\n",
      "....X.\n",
      ".XXX..\n",
      "......\n",
      "\n"
     ]
    }
   ],
   "source": [
    "#Task 1.1  (6 marks)\n",
    "\n",
    "# read in to data struture (3 marks)\n",
    "\n",
    "def readgame():\n",
    "    ship = []\n",
    "\n",
    "    with open('GAME.TXT', 'r') as f:          #open file [1]\n",
    "        content = f.readlines()\n",
    "        row = 0\n",
    "        for line in content:                  #read rows and columns [1]\n",
    "            line = line.strip()               \n",
    "            for col in range(len(line)):\n",
    "                if line[col] == 'X':\n",
    "                    ship.append([col,row])    #store ship positions in a data structure[1]\n",
    "            row += 1\n",
    "\n",
    "    return ship\n",
    "\n",
    "ship = readgame()        \n",
    "print(ship)\n",
    "\n",
    "# display grid and ships (3 marks)\n",
    "\n",
    "string = ''\n",
    "for row in range(6):                      #print 6 rows and 6 columns [1]\n",
    "    for col in range(6):\n",
    "        if [col,row] in ship:             #check for ship position in the data structure and print 'X'[1]\n",
    "            string += 'X'                 \n",
    "        else:\n",
    "            string += '.'                 #print '.' and '\\n' [1]\n",
    "    string += '\\n'\n",
    "\n",
    "print(string)\n"
   ]
  },
  {
   "cell_type": "markdown",
   "metadata": {},
   "source": [
    "### Method 2: Hit or Miss the Ships "
   ]
  },
  {
   "cell_type": "code",
   "execution_count": 6,
   "metadata": {},
   "outputs": [
    {
     "name": "stdout",
     "output_type": "stream",
     "text": [
      "Enter your target location : (x, y) \n",
      "Enter x location (0-5) : 0\n",
      "Enter y location (0-5) : 0\n",
      "O.....\n",
      "......\n",
      "......\n",
      "......\n",
      "......\n",
      "......\n",
      "\n",
      "Enter your target location : (x, y) \n",
      "Enter x location (0-5) : 1\n",
      "Enter y location (0-5) : 1\n",
      "O.....\n",
      ".O....\n",
      "......\n",
      "......\n",
      "......\n",
      "......\n",
      "\n",
      "Enter your target location : (x, y) \n",
      "Enter x location (0-5) : 2\n",
      "Enter y location (0-5) : 2\n",
      "O.....\n",
      ".O....\n",
      "..S...\n",
      "......\n",
      "......\n",
      "......\n",
      "\n",
      "Enter your target location : (x, y) \n",
      "Enter x location (0-5) : 3\n",
      "Enter y location (0-5) : 3\n",
      "O.....\n",
      ".O....\n",
      "..S...\n",
      "...O..\n",
      "......\n",
      "......\n",
      "\n",
      "Enter your target location : (x, y) \n",
      "Enter x location (0-5) : 4\n",
      "Enter y location (0-5) : 4\n",
      "O.....\n",
      ".O..X.\n",
      "XXS.X.\n",
      "...OX.\n",
      ".XXXO.\n",
      "......\n",
      "\n"
     ]
    }
   ],
   "source": [
    "#Task 1.2 (7 marks)\n",
    "\n",
    "ship = readgame()\n",
    "sunk = []\n",
    "missed = []\n",
    "\n",
    "for i in range(5):                                    #accept 5 user inputs [1]\n",
    "    print('Enter your target location : (x, y) ')\n",
    "    xloc = int(input('Enter x location (0-5) : '))    #validate: isdigit [1] and 0-5 [1]\n",
    "    yloc = int(input('Enter y location (0-5) : '))\n",
    "            \n",
    "    if [xloc,yloc] in ship:                           #store sunk position [1]\n",
    "        ship.remove([xloc,yloc])\n",
    "        sunk.append([xloc,yloc])\n",
    "    else:\n",
    "        missed.append([xloc,yloc])                    #store missed position [1]\n",
    "\n",
    "        \n",
    "    string = ''\n",
    "    for row in range(6):\n",
    "        for col in range(6):                          #output display after each user input [1]\n",
    "            if i==4 and [col,row] in ship:\n",
    "                string += 'X'             \n",
    "            elif [col,row] in sunk:\n",
    "                string += 'S'\n",
    "            elif [col,row] in missed:\n",
    "                string += 'O'\n",
    "            else:\n",
    "                string += '.'\n",
    "        string += '\\n'\n",
    "    print(string)                                    #output final display with ship positions [1]\n"
   ]
  },
  {
   "cell_type": "code",
   "execution_count": 7,
   "metadata": {},
   "outputs": [
    {
     "name": "stdout",
     "output_type": "stream",
     "text": [
      "Enter your target location : (x, y) \n",
      "Enter x location (0-5) : 0\n",
      "Enter y location (0-5) : 0\n",
      "O.....\n",
      "......\n",
      "......\n",
      "......\n",
      "......\n",
      "......\n",
      "\n",
      "Enter your target location : (x, y) \n",
      "Enter x location (0-5) : 1\n",
      "Enter y location (0-5) : 1\n",
      "O.....\n",
      ".O....\n",
      "......\n",
      "......\n",
      "......\n",
      "......\n",
      "\n",
      "Enter your target location : (x, y) \n",
      "Enter x location (0-5) : 2\n",
      "Enter y location (0-5) : 2\n",
      "O.....\n",
      ".O....\n",
      "..S...\n",
      "......\n",
      "......\n",
      "......\n",
      "\n",
      "Enter your target location : (x, y) \n",
      "Enter x location (0-5) : 3\n",
      "Enter y location (0-5) : 3\n",
      "O.....\n",
      ".O....\n",
      "..S...\n",
      "...O..\n",
      "......\n",
      "......\n",
      "\n",
      "Enter your target location : (x, y) \n",
      "Enter x location (0-5) : 4\n",
      "Enter y location (0-5) : 4\n",
      "O.....\n",
      ".O..X.\n",
      "XXS.X.\n",
      "...OX.\n",
      ".XXXO.\n",
      "......\n",
      "\n"
     ]
    }
   ],
   "source": [
    "#Task 1.2 - with validity check on user inputs\n",
    "\n",
    "ship = readgame()\n",
    "sunk = []\n",
    "missed = []\n",
    "\n",
    "for i in range(5):\n",
    "    print('Enter your target location : (x, y) ')\n",
    "    while True:\n",
    "        xloc = input('Enter x location (0-5) : ')\n",
    "        if xloc.isdigit() and 0<=int(xloc)<=5:\n",
    "            xloc = int(xloc) \n",
    "            break\n",
    "    \n",
    "    while True:\n",
    "        yloc = input('Enter y location (0-5) : ')\n",
    "        if yloc.isdigit() and 0<=int(yloc)<=5:\n",
    "            yloc = int(yloc) \n",
    "            break\n",
    "        \n",
    "    if [xloc,yloc] in ship:\n",
    "        ship.remove([xloc,yloc])\n",
    "        sunk.append([xloc,yloc])\n",
    "    else:\n",
    "        missed.append([xloc,yloc])\n",
    "\n",
    "        \n",
    "    string = ''\n",
    "    for row in range(6):\n",
    "        for col in range(6):\n",
    "            if i==4 and [col,row] in ship:\n",
    "                string += 'X'             \n",
    "            elif [col,row] in sunk:\n",
    "                string += 'S'\n",
    "            elif [col,row] in missed:\n",
    "                string += 'O'\n",
    "            else:\n",
    "                string += '.'\n",
    "        string += '\\n'\n",
    "    print(string)"
   ]
  }
 ],
 "metadata": {
  "kernelspec": {
   "display_name": "Python 3",
   "language": "python",
   "name": "python3"
  },
  "language_info": {
   "codemirror_mode": {
    "name": "ipython",
    "version": 3
   },
   "file_extension": ".py",
   "mimetype": "text/x-python",
   "name": "python",
   "nbconvert_exporter": "python",
   "pygments_lexer": "ipython3",
   "version": "3.6.4"
  }
 },
 "nbformat": 4,
 "nbformat_minor": 2
}
