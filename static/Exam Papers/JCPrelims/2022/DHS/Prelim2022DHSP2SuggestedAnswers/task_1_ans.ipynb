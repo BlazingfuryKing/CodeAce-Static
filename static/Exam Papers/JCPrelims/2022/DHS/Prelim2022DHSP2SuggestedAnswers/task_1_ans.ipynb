{
 "cells": [
  {
   "cell_type": "code",
   "execution_count": 1,
   "metadata": {
    "colab": {
     "base_uri": "https://localhost:8080/"
    },
    "id": "w5FM_s_zstS5",
    "outputId": "d77293ee-bd20-4e6e-d42f-55e58d799e0e"
   },
   "outputs": [
    {
     "name": "stdout",
     "output_type": "stream",
     "text": [
      "[152, 175, 160, 158, 178, 167, 177, 165, 179, 175, 154, 153, 168, 160, 154, 176, 174, 166, 174, 163]\n"
     ]
    }
   ],
   "source": [
    "import random\n",
    "\n",
    "\n",
    "# Task 1.1\n",
    "def generate_heights(size): # 1m\n",
    "\n",
    "    heights = [] \n",
    "    \n",
    "    for item in range(size): # 1m\n",
    "        heights.append(random.randint(150,180)) # 1m\n",
    "    return heights # 1m\n",
    "\n",
    "print(generate_heights(20)) # 1m\n",
    "\n"
   ]
  },
  {
   "cell_type": "code",
   "execution_count": 2,
   "metadata": {
    "colab": {
     "base_uri": "https://localhost:8080/"
    },
    "id": "AaqcRyASq46o",
    "outputId": "2dc444f5-36c0-4c69-ca42-f18da2f3c9d1"
   },
   "outputs": [
    {
     "name": "stdout",
     "output_type": "stream",
     "text": [
      "[150, 151, 151, 153, 153, 154, 155, 155, 158, 161, 164, 168, 169, 169, 172, 173, 175, 177, 178, 178]\n"
     ]
    }
   ],
   "source": [
    "\n",
    "# Task 1.2\n",
    "\n",
    "def mergesort(input_list):\n",
    "    if len(input_list) > 1: # 1m\n",
    "\n",
    "        # Finding the mid of the input_list # 1m\n",
    "        mid = len(input_list)//2 \n",
    "\n",
    "        # Dividing the input_list elements\n",
    "        left = input_list[:mid]\n",
    "\n",
    "        # into 2 halves \n",
    "        right = input_list[mid:]\n",
    "\n",
    "        # Sorting the first half\n",
    "        mergesort(left)\n",
    "\n",
    "        # Sorting the second half # 1m\n",
    "        mergesort(right)\n",
    "\n",
    "        index_left = index_right = k = 0\n",
    "\n",
    "        # Copy data to temp input_list left[] and right[] # 1m\n",
    "        while index_left < len(left) and index_right < len(right):\n",
    "            if left[index_left] < right[index_right]:\n",
    "                input_list[k] = left[index_left]\n",
    "                index_left += 1\n",
    "            else:\n",
    "                input_list[k] = right[index_right]\n",
    "                index_right += 1\n",
    "            k += 1\n",
    "\n",
    "        # Checking if any element was left # 1m\n",
    "        while index_left < len(left):\n",
    "            input_list[k] = left[index_left]\n",
    "            index_left += 1\n",
    "            k += 1\n",
    "\n",
    "        while index_right < len(right):\n",
    "            input_list[k] = right[index_right]\n",
    "            index_right += 1\n",
    "            k += 1\n",
    "    return input_list\n",
    "\n",
    "\n",
    "print(mergesort(generate_heights(20))) # 1m"
   ]
  },
  {
   "cell_type": "code",
   "execution_count": 3,
   "metadata": {
    "colab": {
     "base_uri": "https://localhost:8080/"
    },
    "id": "KqVFv0kT_ZJ4",
    "outputId": "c8863b18-e891-4e96-b8a7-2966cd9e50c8"
   },
   "outputs": [
    {
     "name": "stdout",
     "output_type": "stream",
     "text": [
      "[[[178, 'T0281099B'], [168, 'T0254885I'], [171, 'T0482309S'], [179, 'T0663758C']], [[178, 'T0442131M'], [164, 'S7457420P'], [167, 'T0867787F'], [178, 'T0340912U']], [[175, 'S6528694I'], [159, 'S7245932B'], [161, 'T0574412P'], [175, 'T0198720F']], [[174, 'T0849104E'], [155, 'S8547302F'], [157, 'S6254881Y'], [174, 'S7696370P']], [[172, 'T0320135V'], [150, 'S7166399M'], [150, 'S7572379E'], [172, 'T0230412W']]]\n",
      "OR\n",
      "[[178, 'T0281099B'], [168, 'T0254885I'], [171, 'T0482309S'], [179, 'T0663758C']]\n",
      "[[178, 'T0442131M'], [164, 'S7457420P'], [167, 'T0867787F'], [178, 'T0340912U']]\n",
      "[[175, 'S6528694I'], [159, 'S7245932B'], [161, 'T0574412P'], [175, 'T0198720F']]\n",
      "[[174, 'T0849104E'], [155, 'S8547302F'], [157, 'S6254881Y'], [174, 'S7696370P']]\n",
      "[[172, 'T0320135V'], [150, 'S7166399M'], [150, 'S7572379E'], [172, 'T0230412W']]\n"
     ]
    }
   ],
   "source": [
    "import copy\n",
    "\n",
    "# Task 1.3\n",
    "\n",
    "sorted_heights_nrics = [[150, 'S7166399M'], [150, 'S7572379E'], [155, 'S8547302F'], [157, 'S6254881Y'], [159, 'S7245932B'], [161, 'T0574412P'], [164, 'S7457420P'], [167, 'T0867787F'], [168, 'T0254885I'], [171, 'T0482309S'], [172, 'T0320135V'], [172, 'T0230412W'], [174, 'T0849104E'], [174, 'S7696370P'], [175, 'S6528694I'], [175, 'T0198720F'], [178, 'T0442131M'], [178, 'T0340912U'], [178, 'T0281099B'], [179, 'T0663758C']]\n",
    "# arr_of_30 = [[150, 'S6043657K'], [150, 'S6395844J'] , [150, 'S7166399M'], [150, 'S7572379E'], [151, 'S5324433F'], [152, 'S2352434Y'], [153, 'S5334545B'], [155, 'S8547302F'], [157, 'S6254881Y'], [159, 'S7245932B'], [161, 'T0574412P'], [164, 'S7457420P'], [167, 'T0867787F'], [168, 'T0254885I'], [171, 'T0482309S'], [172, 'T0320135V'], [172, 'T0230412W'], [174, 'T0434342F'], [174, 'T0849104E'], [174, 'S7696370P'], [175, 'S6528694I'], [175, 'T0198720F'], [177, 'T0433322M'], [178, 'T0442131M'], [178, 'T0340912U'], [178, 'T0281099B'], [178, 'T0223232U'], [178, 'T0343233B'], [179, 'T0663758C'],[180, 'T2333665L']]\n",
    "# sorted_heights_nrics = arr_of_30\n",
    "\n",
    "def arrange(sorted_heights_nrics):\n",
    "\n",
    "    row = [ \"holder\" for x in range(int(len(sorted_heights_nrics)/5))] # 1m\n",
    "    contingent_2darr = [ copy.deepcopy(row) for x in range(5)]  \n",
    "    pos_marker = int(len(sorted_heights_nrics)/5/2)-1 # position marker as the starting coordinate for shortest person   # 1m\n",
    "    row_counter = 0\n",
    " \n",
    "    next_side = \"left\"\n",
    "\n",
    "    for item in sorted_heights_nrics:\n",
    "        \n",
    "        if next_side == \"left\":\n",
    "            insertion_coord = pos_marker\n",
    "            next_side = \"right\"               \n",
    "\n",
    "        else:\n",
    "            midpoint = (int(len(sorted_heights_nrics)/5/2)) - 1  # the middle coordinate of the row\n",
    "            insertion_coord = midpoint + (midpoint - pos_marker  + 1) # ensure right coordinate is same distance from midpoint as the left  \n",
    "            next_side = \"left\"                # 1m\n",
    "\n",
    "        contingent_2darr[4-row_counter][insertion_coord]  = item   # '4' because max row index is 4   # 1m \n",
    "             \n",
    "\n",
    "        if next_side == \"left\" :\n",
    "            row_counter += 1\n",
    "\n",
    "        if row_counter == 5: # shift to a new column \n",
    "            row_counter = 0 # reset counter\n",
    "            pos_marker -= 1   # Shift position marker one more column closer to left-most column  # 1m\n",
    "    return contingent_2darr\n",
    "\n",
    "print(arrange(sorted_heights_nrics))    # 1m\n",
    "print(\"OR\")\n",
    "for item in arrange(sorted_heights_nrics):\n",
    "  print(item)"
   ]
  },
  {
   "cell_type": "code",
   "execution_count": 4,
   "metadata": {
    "colab": {
     "base_uri": "https://localhost:8080/"
    },
    "id": "6ThZGvT88-CD",
    "outputId": "094744b5-6b34-4134-cd2f-092d1edf28d8"
   },
   "outputs": [
    {
     "name": "stdout",
     "output_type": "stream",
     "text": [
      "[-1, -1, [178, [0, 0]], [174, [3, 3]], [168, [0, 1]], [172, [4, 0]], [179, [0, 3]], [150, [4, 1]], [172, [4, 3]], [161, [2, 2]], [171, [0, 2]], [175, [2, 0]], [164, [1, 1]], [175, [2, 3]], [174, [3, 0]], [150, [4, 2]], [155, [3, 1]], [178, [1, 3]], [157, [3, 2]], -1, [167, [1, 2]], [159, [2, 1]], -1, -1, -1, -1, [178, [1, 0]], -1, -1]\n"
     ]
    }
   ],
   "source": [
    "# Task 1.4\n",
    "\n",
    "mod_array = [[[178, 'T0281099B', [0, 0]], [168, 'T0254885I', [0, 1]], [171, 'T0482309S', [0, 2]], [179, 'T0663758C', [0, 3]]], [[178, 'T0442131M', [1, 0]], [164, 'S7457420P', [1, 1]], [167, 'T0867787F', [1, 2]], [178, 'T0340912U', [1, 3]]], [[175, 'S6528694I', [2, 0]], [159, 'S7245932B', [2, 1]], [161, 'T0574412P', [2, 2]], [175, 'T0198720F', [2, 3]]], [[174, 'T0849104E', [3, 0]], [155, 'S8547302F', [3, 1]], [157, 'S6254881Y', [3, 2]], [174, 'S7696370P', [3, 3]]], [[172, 'T0320135V', [4, 0]], [150, 'S7166399M', [4, 1]], [150, 'S7572379E', [4, 2]], [172, 'T0230412W', [4, 3]]]]\n",
    "\n",
    "\n",
    "def hash_funct(key):\n",
    "    return int(key[1:-1]) % tablesize # 1m\n",
    "\n",
    "\n",
    "def insert(key, data):\n",
    "  \n",
    "  index = hash_funct(key) # 1m\n",
    "   \n",
    "  if hash_table[index] == -1: # available\n",
    "    hash_table[index] = data # 1m\n",
    "    \n",
    "  else: # collision\n",
    "    i = (index) % tablesize #  # 1m\n",
    "    while hash_table[i] != -1: # linear probing\n",
    "      i = (i + 1)% tablesize # 1m\n",
    "       \n",
    "    hash_table[i] = data # 1m\n",
    "    \n",
    "\n",
    "def search(key, data):\n",
    "  index = hash_funct(key) \n",
    " \n",
    "  if hash_table[index] == -1:\n",
    "    return \"Not found (no collision resolution)\"  # 1m\n",
    "\n",
    "  if hash_table[index][0] == data: # found \n",
    "    return \"Found (no collision resolution): Row \" + str(hash_table[index][1][0]) + \" Col \"+ str(hash_table[index][1][1])  # 1m\n",
    "\n",
    "  else: # collided records\n",
    "    index = (index) % tablesize #  \n",
    "    if index<len(hash_table): # 1m\n",
    "        while hash_table[index][0] != -1: # 1m\n",
    "          \n",
    "          if hash_table[index][0] == data: # found in collided records \n",
    "             \n",
    "            return \"Found (with collision resolution): Row \" + str(hash_table[index][1][0]) + \" Col \"+ str(hash_table[index][1][1]) # 1m\n",
    "          else:\n",
    "            index = (index + 1)% tablesize \n",
    "            if hash_table[index] == -1: \n",
    "                return \"Not found (with collision resolution)\" # 1m\n",
    "             \n",
    "    return \"Not found (with collision resolution)\"  # 1m\n",
    "\n",
    "tablesize = 29\n",
    "hash_table = [-1 for i in range(tablesize)] # 1m\n",
    "\n",
    "for item in mod_array:\n",
    "    for part in item:\n",
    "        insert(part[1],[part[0],part[2]]) # 1m\n",
    "\n",
    "print(hash_table)\n",
    "\n",
    "# if hashed the ord of each char, then total % self.size then hashtable looks like\n",
    "# [[179, [0, 3]], [161, [2, 2]], [178, [1, 3]], [168, [0, 1]], -1, -1, \n",
    "# [164, [1, 1]], [171, [0, 2]], [150, [4, 2]], -1, [175, [2, 0]], [167, [1, 2]], \n",
    "# -1, -1, -1, [174, [3, 3]], [150, [4, 1]], -1, -1, [178, [1, 0]], [157, [3, 2]], \n",
    "# -1, [178, [0, 0]], [174, [3, 0]], [159, [2, 1]], [175, [2, 3]], [155, [3, 1]], \n",
    "# [172, [4, 0]], [172, [4, 3]]]\n",
    "\n",
    "        "
   ]
  },
  {
   "cell_type": "code",
   "execution_count": 5,
   "metadata": {
    "colab": {
     "base_uri": "https://localhost:8080/"
    },
    "id": "f2-6NObirD1R",
    "outputId": "71535a9a-1709-48bc-a658-a27018890f7c"
   },
   "outputs": [
    {
     "name": "stdout",
     "output_type": "stream",
     "text": [
      "\n",
      "Input your NRIC: 123\n",
      "Input your height(cm): 123\n",
      "Not found (with collision resolution)\n"
     ]
    }
   ],
   "source": [
    "\n",
    "# Task 1.5\n",
    "\n",
    "print()\n",
    "nric_input = input(\"Input your NRIC: \")\n",
    "height_input = int(input(\"Input your height(cm): \"))\n",
    "print(search(nric_input,height_input)) # 1m\n",
    "\n"
   ]
  },
  {
   "cell_type": "code",
   "execution_count": 6,
   "metadata": {
    "colab": {
     "base_uri": "https://localhost:8080/"
    },
    "id": "TSVS2ANhrGfW",
    "outputId": "69a4da7c-d06d-4491-d4d4-9d240dcee3fd"
   },
   "outputs": [
    {
     "name": "stdout",
     "output_type": "stream",
     "text": [
      "True\n",
      "True\n",
      "True\n",
      "True\n"
     ]
    }
   ],
   "source": [
    "# Task 1.6\n",
    "print(search(\"S7166399M\", 150) == \"Found (with collision resolution): Row 4 Col 1\")\n",
    "print(search(\"T0281099B\", 178) == \"Found (no collision resolution): Row 0 Col 0\")\n",
    "print(search(\"123123123123\", 123) == \"Not found (with collision resolution)\")\n",
    "print(search(\"S7245933B\", 111) == \"Not found (no collision resolution)\")\n",
    "\n",
    "\n",
    "# if hashed the ord of each char, then\n",
    "# print(search(\"T0254885I\", 168) == \"Found (with no collision resolution): Row 0 Col 1\")\n",
    "# print(search(\"T0230412W\", 172) == \"Found (with collision resolution): Row 4 Col 0\")\n",
    "# print(search(\"123\", 123) == \"Not found (with no collision resolution)\")\n",
    "# print(search(\"S7166399M\", 2323) == \"Not found (with collision resolution)\")"
   ]
  }
 ],
 "metadata": {
  "colab": {
   "collapsed_sections": [],
   "provenance": []
  },
  "kernelspec": {
   "display_name": "Python 3",
   "language": "python",
   "name": "python3"
  },
  "language_info": {
   "codemirror_mode": {
    "name": "ipython",
    "version": 3
   },
   "file_extension": ".py",
   "mimetype": "text/x-python",
   "name": "python",
   "nbconvert_exporter": "python",
   "pygments_lexer": "ipython3",
   "version": "3.6.4"
  }
 },
 "nbformat": 4,
 "nbformat_minor": 1
}
