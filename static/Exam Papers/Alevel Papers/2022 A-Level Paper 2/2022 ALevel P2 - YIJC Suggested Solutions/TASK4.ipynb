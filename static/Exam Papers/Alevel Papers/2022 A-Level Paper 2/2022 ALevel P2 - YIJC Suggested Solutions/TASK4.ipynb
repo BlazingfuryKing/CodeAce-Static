{
 "cells": [
  {
   "cell_type": "markdown",
   "metadata": {},
   "source": [
    "# 2022 ALevel Paper 2 Question 4"
   ]
  },
  {
   "cell_type": "markdown",
   "metadata": {},
   "source": [
    "Task 4.1 and 4.2\n",
    "- not specified that BookID, MemberNumber and LoanID are integers\n"
   ]
  },
  {
   "cell_type": "code",
   "execution_count": 19,
   "metadata": {},
   "outputs": [],
   "source": [
    "#Task 4.1   \n",
    "# Create database with 3 tables (6m)\n",
    "\n",
    "from sqlite3 import *\n",
    "\n",
    "open('LIBRARY.db', 'w').close()  #overwrite existing db\n",
    "\n",
    "db = connect('LIBRARY.db')\n",
    "c = db.cursor()\n",
    "\n",
    "c.execute('''CREATE TABLE Book (\n",
    "    BookID INTEGER NOT NULL PRIMARY KEY, \n",
    "    Title TEXT NOT NULL, \n",
    "    Genre TEXT NOT NULL);''')\n",
    "\n",
    "c.execute('''CREATE TABLE Member (\n",
    "    MemberNumber INTEGER NOT NULL PRIMARY KEY, \n",
    "    FamilyName TEXT NOT NULL, \n",
    "    GivenName TEXT NOT NULL);''')\n",
    "\n",
    "c.execute('''CREATE TABLE Loan (\n",
    "    LoanID INTEGER NOT NULL PRIMARY KEY, \n",
    "    MemberNumber INTEGER NOT NULL, \n",
    "    BookID INTEGER NOT NULL,\n",
    "    DateLoaned TEXT NOT NULL,\n",
    "    Returned TEXT NOT NULL,\n",
    "    FOREIGN KEY(MemberNumber) REFERENCES Member(MemberNumber),\n",
    "    FOREIGN KEY(BookID) REFERENCES Member(BookID));''')\n",
    "\n",
    "\n",
    "db.commit()\n",
    "db.close()"
   ]
  },
  {
   "cell_type": "code",
   "execution_count": 20,
   "metadata": {},
   "outputs": [],
   "source": [
    "#Task 4.2  \n",
    "# Populate the 3 tables (5m)\n",
    "\n",
    "\n",
    "db = connect('LIBRARY.db')\n",
    "c = db.cursor()\n",
    "\n",
    "file = open(\"BOOK.txt\")\n",
    "lines = file.readlines()\n",
    "for line in lines:\n",
    "    [id, title, genre] = line.strip().split(',')\n",
    "\n",
    "    c.execute('''INSERT INTO Book (BookID, Title, Genre)\n",
    "    VALUES(?,?,?)''', (int(id), title, genre))\n",
    "\n",
    "file.close()\n",
    "\n",
    "\n",
    "file = open(\"MEMBER.txt\")\n",
    "lines = file.readlines()\n",
    "for line in lines:\n",
    "    [num, fname, gname] = line.strip().split(',')\n",
    "\n",
    "    c.execute('''INSERT INTO Member (MemberNumber, FamilyName, GivenName)\n",
    "    VALUES(?,?,?)''', (int(num), fname, gname))\n",
    "\n",
    "file.close()\n",
    "\n",
    "\n",
    "file = open(\"LOAN.txt\")\n",
    "lines = file.readlines()\n",
    "for line in lines:\n",
    "    [id, num, bookid, loandate, returned] = line.strip().split(',')\n",
    "\n",
    "    c.execute('''INSERT INTO Loan (LoanID, MemberNumber, BookID, DateLoaned, Returned)\n",
    "    VALUES(?,?,?,?,?)''', (int(id), int(num), int(bookid), loandate, returned))\n",
    "\n",
    "file.close()\n",
    "\n",
    "\n",
    "db.commit()\n",
    "db.close()\n"
   ]
  },
  {
   "cell_type": "code",
   "execution_count": 28,
   "metadata": {},
   "outputs": [
    {
     "name": "stdout",
     "output_type": "stream",
     "text": [
      "Enter the member's number: 200\n",
      "Book Title                    Returned Status\n",
      "Monkey puzzle                 FALSE          \n",
      "Contemplating Camelias        FALSE          \n",
      "Sandy shores                  FALSE          \n",
      "Propogation                   TRUE           \n"
     ]
    }
   ],
   "source": [
    "#Task 4.3  \n",
    "# Query for book loaned by a member (5m + 2m)\n",
    "\n",
    "userinput = input(\"Enter the member's number: \")      #validation not required\n",
    "\n",
    "db = connect('LIBRARY.db')\n",
    "c = db.cursor()\n",
    "\n",
    "c.execute('''SELECT Title, Returned from Loan, Book \\\n",
    "WHERE MemberNumber = ? \\\n",
    "AND Loan.BookID = Book.BookID;''', (int(userinput),))\n",
    "\n",
    "data = c.fetchall()\n",
    "\n",
    "print('{0:30}{1:15}'.format('Book Title', 'Returned Status'))\n",
    "for (book, status) in data:\n",
    "    print('{0:30}{1:15}'.format(book, status))\n",
    "\n",
    "db.close()\n",
    "\n"
   ]
  },
  {
   "cell_type": "code",
   "execution_count": null,
   "metadata": {},
   "outputs": [],
   "source": []
  }
 ],
 "metadata": {
  "kernelspec": {
   "display_name": "Python 3",
   "language": "python",
   "name": "python3"
  },
  "language_info": {
   "codemirror_mode": {
    "name": "ipython",
    "version": 3
   },
   "file_extension": ".py",
   "mimetype": "text/x-python",
   "name": "python",
   "nbconvert_exporter": "python",
   "pygments_lexer": "ipython3",
   "version": "3.6.4"
  }
 },
 "nbformat": 4,
 "nbformat_minor": 2
}
