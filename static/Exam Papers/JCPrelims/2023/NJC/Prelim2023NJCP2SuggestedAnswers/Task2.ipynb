{
 "cells": [
  {
   "cell_type": "markdown",
   "metadata": {},
   "source": [
    "StopSequence,Direction,BusStopCode,Distance,ArrivalTime\n",
    "_____"
   ]
  },
  {
   "cell_type": "code",
   "execution_count": null,
   "metadata": {},
   "outputs": [],
   "source": [
    "## Task 2.1\n",
    "## Solution by sorting dir1 and dir2 lists\n",
    "import csv\n",
    "lines =  list(csv.reader(open(\"arrivals.txt\", \"r\")))[1:] \n",
    "#read file \n",
    "# - read lines into a list \n",
    "# - parse each line into a list\n",
    "# - skip header line [2] \n",
    "\n",
    "## StopSequence,Direction,BusStopCode,Distance,ArrivalTime\n",
    "## seperate into Direction 1 and Direction 2 [1m]\n",
    "dir_1=[]\n",
    "dir_2=[]\n",
    "for line in lines:\n",
    "    if line[1] == \"1\": #[1]\n",
    "        dir_1.append(line)\n",
    "    else:\n",
    "        dir_2.append(line)\n",
    "## this can be used in Task 2.2\n",
    "\n",
    "dir_1.sort(key= lambda x: int(x[0])) # sort based on sequence number or time [1]\n",
    "dir_2.sort(key= lambda x: int(x[0]))\n",
    "directions = {1:dir_1, 2:dir_2} ## for task 2,3,4 to loop"
   ]
  },
  {
   "cell_type": "code",
   "execution_count": null,
   "metadata": {},
   "outputs": [],
   "source": [
    "# Task 2.1\n",
    "print( dir_2[0][2], dir_2[-1][2])"
   ]
  },
  {
   "cell_type": "code",
   "execution_count": null,
   "metadata": {},
   "outputs": [],
   "source": [
    "## Task 2.1\n",
    "## Solution by linear search\n",
    "\n",
    "import csv\n",
    "lines =  list(csv.reader(open(\"arrivals.txt\", \"r\")))[1:] \n",
    "#read file \n",
    "# - read lines into a list \n",
    "# - parse each line into a list\n",
    "# - skip header line [2] \n",
    "\n",
    "for line in lines: #[1] linear search\n",
    "    if line[0] == '1': \n",
    "        print(line[2])"
   ]
  },
  {
   "cell_type": "markdown",
   "metadata": {},
   "source": [
    "##### Task 2.2\n",
    "without using datetime , time difference is computed by converting into a common unit minutes before they can be subtrated\n",
    "\n",
    "for 2.2 to 2.4 compute for both directions [1m]"
   ]
  },
  {
   "cell_type": "code",
   "execution_count": null,
   "metadata": {},
   "outputs": [],
   "source": [
    "def time_difference( start:str, end:str)-> int :\n",
    "    ## input 'HHMM' -> diff in minutes\n",
    "    start_hour = start[:2]\n",
    "    start_minute = start[2:]\n",
    "    end_hour = end[:2]\n",
    "    end_minute = end[2:]\n",
    " \n",
    "    ## convert to minutes\n",
    "    start_minute = int(start_minute) + int(start_hour)*60\n",
    "    end_minute = int(end_minute) + int(end_hour)* 60\n",
    "    return end_minute - start_minute "
   ]
  },
  {
   "cell_type": "code",
   "execution_count": null,
   "metadata": {},
   "outputs": [],
   "source": [
    "## find the total travelling time of the 2 buses, inhours and minutes\n",
    "import csv\n",
    "#lines =  csv.reader(open(\"BusArrivals.txt\", \"r\"))\n",
    "lines =  csv.reader(open(\"arrivals.txt\", \"r\"))\n",
    "next(lines)\n",
    "\n",
    "#direction1 = []\n",
    "#direction2 = []\n",
    "directions = {1:[], 2:[]}\n",
    "\n",
    "for line in lines:\n",
    "    if line[1] == \"1\":\n",
    "        directions[1].append(line)\n",
    "    else:\n",
    "        directions[2].append(line)\n",
    "\n",
    "for d in directions.keys():\n",
    "    directions[d] = sorted(directions[d], key=lambda x: int(x[4]))"
   ]
  },
  {
   "cell_type": "code",
   "execution_count": null,
   "metadata": {},
   "outputs": [],
   "source": [
    "for d in directions.keys():\n",
    "    diff = time_difference(directions[d][0][4], directions[d][-1][4])\n",
    "    print(directions[d][0][4], directions[d][-1][4],diff,f\"{divmod(diff, 60)[0]}H,{divmod(diff, 60)[1]}M\")\n"
   ]
  },
  {
   "cell_type": "code",
   "execution_count": null,
   "metadata": {},
   "outputs": [],
   "source": [
    "### Task 2.2 [5]\n",
    "## using datetime\n",
    "\n",
    "# dir_1, dir_2 can be either list of list or a dict of two lists\n",
    "# [1]\n",
    "# [seq,dir,bus_stop,dist, time]\n",
    "\n",
    "import datetime\n",
    "print(f\"{'Direction':10}{'Start':6}{'End':5}{'Total'}\")\n",
    "for d in (dir_1, dir_2):\n",
    "    start = d[0][-1] # extract start, end time [1m]\n",
    "    end = d[-1][-1]\n",
    "    # find time difference [2m] either using datetime or custoem diff\n",
    "    diff = datetime.datetime.strptime(end,\"%H%M\") - datetime.datetime.strptime(start,\"%H%M\")\n",
    "    hour, mins = divmod(diff.seconds, 3600)[0], divmod(diff.seconds, 3600)[1]//60\n",
    "    print(f\"{d[0][1]:^10}{start:<6}{end:<5}{hour}H,{mins}m\") # correct output [1m]\n"
   ]
  },
  {
   "cell_type": "code",
   "execution_count": null,
   "metadata": {},
   "outputs": [],
   "source": [
    "## Using datetime\n",
    "## find the average travel time between adjacent bus stops in minutes\n",
    "# [seq,dir,bus_stop,dist, time]\n",
    "import datetime\n",
    "for d in directions.keys(): ## or using (dir_1, dir_2)\n",
    "     print(f\"Direction {d}\")\n",
    "     time_intervals=[] #[1m]\n",
    "     for i in range(1, len(directions[d])): #[1m]\n",
    "          diff = datetime.datetime.strptime(directions[d][i][4], \"%H%M\") - datetime.datetime.strptime(directions[d][i-1][4],\"%H%M\")\n",
    "          time_intervals.append( diff.seconds // 60) #[1m] \n",
    "     print( f\"Average time for Direction {d} is { round(sum(time_intervals)/ len(time_intervals),2)} mins\") #[1m]"
   ]
  },
  {
   "cell_type": "markdown",
   "metadata": {},
   "source": [
    "#### Task 2.3"
   ]
  },
  {
   "cell_type": "code",
   "execution_count": null,
   "metadata": {},
   "outputs": [],
   "source": [
    "## find the adj bus tops whose travelleing time > 2 mins\n",
    "# [seq,dir,bus_stop,dist, time]\n",
    "import datetime\n",
    "for d in directions.keys(): ## or using (dir_1, dir_2)\n",
    "    print(f\"Direction {d}\")\n",
    "    for i in range(1, len(directions[d])): #[1m]\n",
    "        diff = datetime.datetime.strptime(directions[d][i][4], \"%H%M\") - datetime.datetime.strptime(directions[d][i-1][4],\"%H%M\") #2m\n",
    "        if diff.seconds > 120: #[1]\n",
    "            print(f\"{directions[d][i-1][2]} to {directions[d][i][2]}: {diff.seconds//60}m\")\n",
    "            \n",
    "     "
   ]
  },
  {
   "cell_type": "code",
   "execution_count": null,
   "metadata": {},
   "outputs": [],
   "source": [
    "## Task 2.4\n",
    "##maximum distance between 2 adj bus stops\n",
    "\n",
    "for d in directions.keys(): ## or using (dir_1, dir_2)\n",
    "    print(f\"Direction {d}\")\n",
    "    max_dist = 0\n",
    "    for i in range(1, len(directions[d])): #[1m]\n",
    "        dist = float(directions[d][i][3]) - float(directions[d][i-1][3])\n",
    "        if dist > max_dist : #[1m]\n",
    "            max_dist = dist \n",
    "\n",
    "    print( f\"longest distance between two adjacent bus stops is {max_dist:.2f} km\")"
   ]
  },
  {
   "cell_type": "code",
   "execution_count": null,
   "metadata": {},
   "outputs": [],
   "source": [
    "# dir_n contains [StopSequence,Direction,BusStopCode,Distance,ArrivalTime]\n",
    "## create a vector of ( time_delta, distance_delta, ... )\n",
    "vectors=[] ## ( time_diff, dist_diff, bus_stop1, bus_stop2, time) #[1m]\n",
    "dist = 31.8 \n",
    "#dist = float(dir_1[-1][3]) \n",
    "\n",
    "## need to consider only the records when they are at the same time\n",
    "for bus1 in dir_1: # [2m] cartesian product of the two lists\n",
    "    for bus2 in dir_2:\n",
    "       dist_delta = abs (dist - ( float(bus1[3])+ float(bus2[3])))#[1m] formula to calculate abs distance between buses\n",
    "       vectors.append( ( abs( int(bus1[-1]) - int(bus2[-1])), dist_delta, bus1[2], bus2[2], bus1[-1]) ) #[1m]\n",
    "\n",
    "vectors.sort() #[1m] sort  to get the time delta of 0 from vectors+\n",
    "print(f'''The time in which the two buses is closest to each other is at {vectors[0][4]} \n",
    "at bus stops {vectors[0][2]} and {vectors[0][3]} \n",
    "       ''') #"
   ]
  }
 ],
 "metadata": {
  "kernelspec": {
   "display_name": "Python 3",
   "language": "python",
   "name": "python3"
  },
  "language_info": {
   "codemirror_mode": {
    "name": "ipython",
    "version": 3
   },
   "file_extension": ".py",
   "mimetype": "text/x-python",
   "name": "python",
   "nbconvert_exporter": "python",
   "pygments_lexer": "ipython3",
   "version": "3.6.4"
  }
 },
 "nbformat": 4,
 "nbformat_minor": 2
}
