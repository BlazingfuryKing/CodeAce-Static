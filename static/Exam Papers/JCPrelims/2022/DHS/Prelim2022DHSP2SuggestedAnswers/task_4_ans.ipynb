{
 "cells": [
  {
   "cell_type": "code",
   "execution_count": 3,
   "metadata": {
    "id": "UgZJX8WiQkOv"
   },
   "outputs": [
    {
     "name": "stdout",
     "output_type": "stream",
     "text": [
      "\n",
      "\n",
      "All documents in collection:\n",
      "{'_id': ObjectId('633affd67c918b88d4cc3c08'), 'citizenship': 'Singaporean', 'height': 1.8, 'medical_history': ['heart issues', 'asthma', 'eczema'], 'name': 'Shen Rui Lin', 'suitability': 'Pending'}\n",
      "{'_id': ObjectId('633affd67c918b88d4cc3c09'), 'citizenship': 'PR', 'height': 1.4, 'medical_history': ['G6PD', 'heat exhaustion'], 'name': 'Chee Jun Ming', 'suitability': 'Pending'}\n",
      "{'_id': ObjectId('633affd67c918b88d4cc3c0a'), 'citizenship': 'Foreigner', 'height': 1.7, 'medical_history': ['heat exhaustion', 'sweaty palms'], 'name': 'Yeung Jun Feng', 'suitability': 'Pending'}\n",
      "{'_id': ObjectId('633affd67c918b88d4cc3c0b'), 'citizenship': 'Singaporean', 'medical_history': ['asthma'], 'name': 'Deng Kai De', 'suitability': 'Pending'}\n",
      "\n",
      "\n",
      "All documents in collection after updating all:\n",
      "{'_id': ObjectId('633affd67c918b88d4cc3c08'), 'citizenship': 'Singaporean', 'height': 1.8, 'medical_history': ['heart issues', 'asthma', 'eczema'], 'name': 'Shen Rui Lin', 'suitability': 'Pending'}\n",
      "{'_id': ObjectId('633affd67c918b88d4cc3c09'), 'citizenship': 'PR', 'height': 1.4, 'medical_history': ['G6PD', 'heat exhaustion'], 'name': 'Chee Jun Ming', 'suitability': 'Pending'}\n",
      "{'_id': ObjectId('633affd67c918b88d4cc3c0a'), 'citizenship': 'Foreigner', 'height': 1.7, 'medical_history': ['heat exhaustion', 'sweaty palms'], 'name': 'Yeung Jun Feng', 'suitability': 'Pending'}\n",
      "{'_id': ObjectId('633affd67c918b88d4cc3c0b'), 'citizenship': 'Singaporean', 'medical_history': ['asthma'], 'name': 'Deng Kai De', 'suitability': 'High'}\n",
      "\n"
     ]
    }
   ],
   "source": [
    "# Task 4\n",
    "\n",
    "#import the pymongo package. Also, the CSV and JSON packages for reading files\n",
    "import pymongo, csv, json\n",
    "\n",
    "#connects to the local MongoDB database which is usually at port 27017\n",
    "#(Creates a MongoClient connected to the MongoDB server at the given hostname\n",
    "#or IPv4 address and port number)\n",
    "client = pymongo.MongoClient(\"127.0.0.1\", 27017) # 1m\n",
    "\n",
    "#remove any database named \"applicants\".\n",
    "#If existing, then it will remove all the collections and the documents within it.\n",
    "client.drop_database(\"applicants\")\n",
    "\n",
    "\n",
    "#If the file is in JSON (JavaScript Object Notation),\n",
    "#the data can also be imported using the load() function. \n",
    "with open('contingents.json') as file:\n",
    "    data = json.load(file) # 1m\n",
    "# close file # 1m \n",
    "\n",
    "client['applicants']['contingents'].insert_many(data) # 1m #Note: This is another way to select the collection within the db. No need to write coll = db.get_collection(\"fruits\")\n",
    "\n",
    "print()\n",
    "print()\n",
    "\n",
    "\n",
    "db = client.get_database(\"applicants\") \n",
    "\n",
    "coll = db.get_collection(\"contingents\") # 1m\n",
    "result = coll.find() \n",
    "print(\"All documents in collection:\")\n",
    "for document in result: \n",
    "    print(document) # 1m\n",
    "\n",
    "print()\n",
    "print()\n",
    "\n",
    "\n",
    "\n",
    "\n",
    "\n",
    "result = coll.find()\n",
    "\n",
    "prev = {'$or':[{'height': {'$exists':False}}, {'height':{'$gt':1.5}}]} # 1m\n",
    "part = {'$and':[{'citizenship':'Singaporean'}, prev]} # 1m\n",
    "query = {'$and':[{'medical_history':{'$nin':['heart issues']}}, part]} # 1m\n",
    "\n",
    "update = {'$set':{'suitability':'High'}} # 1m\n",
    "coll.update_many(query, update) # 1m\n",
    "\n",
    "result = coll.find()\n",
    "\n",
    "print(\"All documents in collection after updating all:\")\n",
    "for document in result:\n",
    "    print(document)\n",
    "print()\n",
    "\n",
    "client.close()\n"
   ]
  }
 ],
 "metadata": {
  "colab": {
   "collapsed_sections": [],
   "provenance": []
  },
  "kernelspec": {
   "display_name": "Python 3",
   "language": "python",
   "name": "python3"
  },
  "language_info": {
   "codemirror_mode": {
    "name": "ipython",
    "version": 3
   },
   "file_extension": ".py",
   "mimetype": "text/x-python",
   "name": "python",
   "nbconvert_exporter": "python",
   "pygments_lexer": "ipython3",
   "version": "3.6.4"
  }
 },
 "nbformat": 4,
 "nbformat_minor": 1
}
