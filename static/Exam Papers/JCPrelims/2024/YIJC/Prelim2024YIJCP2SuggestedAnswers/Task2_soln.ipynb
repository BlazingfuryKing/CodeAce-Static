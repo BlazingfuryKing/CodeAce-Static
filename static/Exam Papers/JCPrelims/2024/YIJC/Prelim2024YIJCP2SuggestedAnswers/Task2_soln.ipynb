{
 "cells": [
  {
   "cell_type": "code",
   "execution_count": 1,
   "metadata": {},
   "outputs": [],
   "source": [
    "#Task 2.1\n",
    "def QuickSort(scores):\n",
    "    QuickSortHelper(scores, 0, len(scores) - 1)\n",
    "    return scores\n",
    "\n",
    "def QuickSortHelper(scores, first, last):\n",
    "    if first < last:\n",
    "        pivot = Partition(scores, first, last)\n",
    "        QuickSortHelper(scores, first, pivot - 1)\n",
    "        QuickSortHelper(scores, pivot + 1, last)\n",
    "    return scores\n",
    "\n",
    "def Partition(scores, first, last):\n",
    "    pivotvalue = scores[first]\n",
    "    lo = first + 1\n",
    "    hi = last\n",
    "\n",
    "    done = False\n",
    "    while done == False:\n",
    "        while lo <= hi and scores[lo] <= pivotvalue:\n",
    "            lo += 1                                             #[1m] correct code\n",
    "        while scores[hi] >= pivotvalue and hi >= lo:\n",
    "            hi -= 1                                             #[1m] correct code\n",
    "        if hi < lo:\n",
    "            done = True\n",
    "        else:\n",
    "            temp = scores[lo]\n",
    "            scores[lo] = scores[hi]\n",
    "            scores[hi] = temp\n",
    "    scores[first], scores[hi] = scores[hi], scores[first]       #[1m] correct code\n",
    "    return hi                                                   \n",
    "                                                                #[1m] correct implementation\n",
    "\n",
    "                                       "
   ]
  },
  {
   "cell_type": "code",
   "execution_count": 4,
   "metadata": {},
   "outputs": [
    {
     "name": "stdout",
     "output_type": "stream",
     "text": [
      "[838503, 848993, 852132, 267364, 718890]\n"
     ]
    }
   ],
   "source": [
    "#Task 2.2\n",
    "\n",
    "postal_codes = []\n",
    "file = open('POSTALCODES.TXT')              #[1m] file open, read, close\n",
    "data = file.readlines()\n",
    "for line in data:\n",
    "    line = line.strip()                     \n",
    "    postal_codes.append(line)               #[1m] append to list\n",
    "file.close()\n",
    "\n",
    "QuickSort(postal_codes)                                         \n",
    "print(postal_codes[:5])                     #[1m] QuickSort and print\n"
   ]
  },
  {
   "cell_type": "code",
   "execution_count": null,
   "metadata": {},
   "outputs": [],
   "source": []
  },
  {
   "cell_type": "code",
   "execution_count": 9,
   "metadata": {},
   "outputs": [
    {
     "name": "stdout",
     "output_type": "stream",
     "text": [
      "[988900, 986871, 982725, 980050, 977487]\n"
     ]
    }
   ],
   "source": [
    "#Task 2.3\n",
    "def insertion_sort(seq):\n",
    "    for i in range(len(seq) - 1):                       #[1m] correct outer loop\n",
    "        j = i + 1\n",
    "        while j > 0 and seq[j] > seq[j - 1]:            #[1m] correct inner while loop\n",
    "            seq[j], seq[j - 1] = seq[j - 1], seq[j]     #[1m] correct swap\n",
    "            j -= 1\n",
    "    return seq\n",
    "\n",
    "insertion_sort(postal_codes)\n",
    "print(postal_codes[:5]) \n",
    "\n",
    "f = open('TASK2_2.TXT', 'w')\n",
    "for line in postal_codes:\n",
    "    f.write(f'{line}\\n')                                #[1m] correct write\n",
    "\n",
    "f.close()"
   ]
  }
 ],
 "metadata": {
  "kernelspec": {
   "display_name": ".venv",
   "language": "python",
   "name": "python3"
  },
  "language_info": {
   "codemirror_mode": {
    "name": "ipython",
    "version": 3
   },
   "file_extension": ".py",
   "mimetype": "text/x-python",
   "name": "python",
   "nbconvert_exporter": "python",
   "pygments_lexer": "ipython3",
   "version": "3.9.6"
  }
 },
 "nbformat": 4,
 "nbformat_minor": 2
}
