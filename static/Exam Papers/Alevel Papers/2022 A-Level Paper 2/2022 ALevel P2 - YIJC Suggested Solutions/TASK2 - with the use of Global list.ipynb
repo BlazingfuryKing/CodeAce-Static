{
 "cells": [
  {
   "cell_type": "markdown",
   "metadata": {},
   "source": [
    "# 2022 ALevel Paper 2 Question 2"
   ]
  },
  {
   "cell_type": "markdown",
   "metadata": {},
   "source": [
    "Task 2.1 comments: Normally global variables are defined in the global domain. The task requires students to write a function that defines a global list, so this seems unusual. Perhaps the question requirements should be changed for the function to return a list of 100 random integers."
   ]
  },
  {
   "cell_type": "code",
   "execution_count": 7,
   "metadata": {},
   "outputs": [],
   "source": [
    "#Task 2.1 [2m]\n",
    "\n",
    "from random import randint\n",
    "\n",
    "def task2_1():\n",
    "    global lst                       # initialise global 1-d list\n",
    "    lst = []\n",
    "    for i in range(100):\n",
    "        lst.append(randint(1,100))   # generate/store\n",
    "    print(\"Contents (100 random numbers):\", lst)      # output contents\n"
   ]
  },
  {
   "cell_type": "code",
   "execution_count": 6,
   "metadata": {},
   "outputs": [
    {
     "name": "stdout",
     "output_type": "stream",
     "text": [
      "Contents (100 random numbers): [94, 99, 55, 13, 32, 100, 22, 60, 22, 81, 64, 79, 70, 46, 7, 36, 2, 84, 47, 82, 98, 83, 68, 58, 81, 20, 9, 16, 94, 27, 25, 28, 82, 10, 34, 11, 21, 83, 39, 54, 59, 42, 21, 26, 36, 87, 5, 80, 86, 84, 95, 70, 46, 22, 53, 94, 63, 99, 33, 84, 71, 22, 63, 6, 39, 61, 65, 78, 90, 21, 92, 35, 93, 28, 6, 47, 94, 97, 66, 82, 4, 69, 24, 87, 41, 52, 89, 35, 98, 61, 25, 5, 60, 8, 98, 51, 61, 12, 56, 40]\n"
     ]
    }
   ],
   "source": [
    "#Testing Task 2.1 [1m]\n",
    "task2_1()\n"
   ]
  },
  {
   "cell_type": "code",
   "execution_count": 7,
   "metadata": {},
   "outputs": [],
   "source": [
    "#Alternative Solution for Task 2.1 [2m]\n",
    "\n",
    "from random import randint\n",
    "\n",
    "def task2_1():\n",
    "    lst = []\n",
    "    for i in range(100):\n",
    "        lst.append(randint(1,100))   \n",
    "        \n",
    "    print(lst)       #output the contents of the list   \n",
    "    return lst"
   ]
  },
  {
   "cell_type": "markdown",
   "metadata": {},
   "source": [
    "Task 2.2 comments: There was no mention of an input argument. Perhaps this task could be more clearer/more conventional if the bubble sort function takes in a list as an input, and not work on a particular global variable.\n",
    "There are 2 'write program' questions in this task. The question could have been more specific by providing function names like bubble_sort() or task2_2(), which was present in 2021 paper."
   ]
  },
  {
   "cell_type": "code",
   "execution_count": 8,
   "metadata": {},
   "outputs": [
    {
     "name": "stdout",
     "output_type": "stream",
     "text": [
      "Contents (100 random numbers): [72, 77, 34, 16, 6, 62, 33, 28, 61, 99, 12, 91, 15, 87, 2, 91, 14, 96, 7, 94, 83, 96, 64, 75, 18, 29, 80, 30, 18, 90, 85, 63, 93, 51, 3, 50, 78, 12, 27, 19, 58, 69, 94, 26, 97, 60, 60, 65, 46, 17, 97, 53, 25, 98, 73, 57, 100, 75, 57, 96, 50, 59, 12, 100, 28, 76, 68, 27, 3, 85, 88, 29, 7, 60, 72, 27, 99, 8, 74, 85, 9, 36, 88, 79, 79, 22, 2, 43, 11, 22, 63, 98, 5, 96, 100, 100, 2, 67, 59, 16]\n"
     ]
    }
   ],
   "source": [
    "#Task 2.2 [5m]\n",
    "\n",
    "def bubble_sort():                   # procedure to bubble sort a list\n",
    "    for i in range(1,len(lst)):      # that sorts the global 1-d list from Task 2.1\n",
    "        for j in range(1, len(lst)-i+1):\n",
    "            if lst[j-1] > lst[j]:\n",
    "                lst[j], lst[j-1] = lst[j-1], lst[j]\n",
    "\n",
    "task2_1()              # calls Task 2.1\n",
    "bubble_sort()          # call bubble sort procedure (Tests the program)"
   ]
  },
  {
   "cell_type": "code",
   "execution_count": 9,
   "metadata": {},
   "outputs": [
    {
     "name": "stdout",
     "output_type": "stream",
     "text": [
      "Contents (100 random numbers): [88, 21, 63, 58, 77, 96, 41, 3, 11, 36, 34, 93, 21, 59, 29, 35, 40, 90, 22, 52, 9, 25, 70, 4, 2, 60, 74, 77, 47, 52, 71, 88, 25, 67, 18, 1, 79, 59, 68, 17, 49, 95, 48, 82, 54, 14, 41, 98, 15, 95, 56, 22, 64, 94, 71, 80, 29, 13, 17, 75, 40, 3, 23, 36, 55, 58, 23, 100, 51, 85, 58, 97, 19, 74, 26, 40, 40, 38, 6, 20, 20, 34, 34, 97, 13, 49, 51, 44, 24, 87, 44, 29, 91, 35, 22, 49, 24, 45, 99, 69]\n",
      "[1, 2, 3, 3, 4, 6, 9, 11, 13, 13, 14, 15, 17, 17, 18, 19, 20, 20, 21, 21, 22, 22, 22, 23, 23, 24, 24, 25, 25, 26, 29, 29, 29, 34, 34, 34, 35, 35, 36, 36, 38, 40, 40, 40, 40, 41, 41, 44, 44, 45, 47, 48, 49, 49, 49, 51, 51, 52, 52, 54, 55, 56, 58, 58, 58, 59, 59, 60, 63, 64, 67, 68, 69, 70, 71, 71, 74, 74, 75, 77, 77, 79, 80, 82, 85, 87, 88, 88, 90, 91, 93, 94, 95, 95, 96, 97, 97, 98, 99, 100]\n"
     ]
    }
   ],
   "source": [
    "#Task 2.2 [5m]\n",
    "\n",
    "def bubble_sort():                   # procedure to bubble sort a list\n",
    "    for i in range(1,len(lst)):      # that sorts the global 1-d list from Task 2.1\n",
    "        for j in range(1, len(lst)-i+1):\n",
    "            if lst[j-1] > lst[j]:\n",
    "                lst[j], lst[j-1] = lst[j-1], lst[j]\n",
    "                \n",
    "                \n",
    "def task2_2():                \n",
    "    task2_1()\n",
    "    bubble_sort()\n",
    "    print(lst)\n",
    "\n",
    "    \n",
    "task2_2()          #[1m]"
   ]
  },
  {
   "cell_type": "code",
   "execution_count": 23,
   "metadata": {},
   "outputs": [
    {
     "name": "stdout",
     "output_type": "stream",
     "text": [
      "[2, 3, 4, 5, 6, 7, 7, 9, 10, 10, 12, 17, 17, 18, 20, 21, 22, 22, 23, 23, 24, 24, 24, 24, 26, 26, 28, 28, 29, 30, 30, 31, 34, 35, 36, 36, 40, 41, 42, 42, 43, 46, 46, 46, 47, 47, 48, 48, 50, 50, 51, 52, 52, 53, 55, 56, 57, 58, 59, 60, 60, 61, 63, 65, 66, 66, 67, 67, 68, 69, 69, 69, 70, 71, 72, 73, 76, 77, 77, 77, 78, 79, 80, 80, 81, 83, 83, 83, 84, 85, 85, 86, 87, 88, 89, 90, 91, 96, 96, 100]\n"
     ]
    }
   ],
   "source": [
    "#Testing Task 2.2 [1m]\n",
    "print(lst)             # output the sorted list (show the output)"
   ]
  },
  {
   "cell_type": "code",
   "execution_count": 26,
   "metadata": {},
   "outputs": [
    {
     "name": "stdout",
     "output_type": "stream",
     "text": [
      "[30, 52, 22, 92, 82, 28, 23, 16, 86, 73, 45, 32, 2, 43, 93, 89, 63, 15, 88, 80, 68, 10, 41, 39, 27, 7, 38, 18, 84, 90, 74, 1, 94, 51, 78, 41, 2, 37, 94, 53, 7, 44, 100, 54, 53, 100, 88, 89, 98, 98, 80, 78, 20, 23, 34, 36, 72, 77, 27, 6, 29, 80, 31, 8, 30, 45, 9, 2, 65, 49, 62, 80, 13, 37, 34, 18, 5, 20, 33, 13, 66, 93, 96, 7, 29, 56, 32, 54, 92, 41, 63, 72, 86, 9, 2, 72, 94, 82, 42, 17]\n",
      "[1, 2, 2, 2, 2, 5, 6, 7, 7, 7, 8, 9, 9, 10, 13, 13, 15, 16, 17, 18, 18, 20, 20, 22, 23, 23, 27, 27, 28, 29, 29, 30, 30, 31, 32, 32, 33, 34, 34, 36, 37, 37, 38, 39, 41, 41, 41, 42, 43, 44, 45, 45, 49, 51, 52, 53, 53, 54, 54, 56, 62, 63, 63, 65, 66, 68, 72, 72, 72, 73, 74, 77, 78, 78, 80, 80, 80, 80, 82, 82, 84, 86, 86, 88, 88, 89, 89, 90, 92, 92, 93, 93, 94, 94, 94, 96, 98, 98, 100, 100]\n"
     ]
    }
   ],
   "source": [
    "#Alternative Solution to Task 2.2 [5m]\n",
    "\n",
    "def bubble_sort(lst):                # bubble sort procedure\n",
    "    for i in range(1,len(lst)):      \n",
    "        for j in range(1, len(lst)-i+1):\n",
    "            if lst[j-1] > lst[j]:\n",
    "                lst[j], lst[j-1] = lst[j-1], lst[j]\n",
    "    #print(lst)\n",
    "    return lst\n",
    "\n",
    "\n",
    "                \n",
    "def task2_2():                \n",
    "    randomlst = task2_1() \n",
    "    sortedlst = bubble_sort(randomlst)\n",
    "    print(sortedlst)\n",
    "\n",
    "#print(bubble_sort(task2_1()))"
   ]
  },
  {
   "cell_type": "markdown",
   "metadata": {},
   "source": [
    "Task 2.3 comments: The question requirements could be clearer by providing the function name for the sort, the function name for the menu, and include a sample output of the menu options (like Specimen Paper Task 1.3). It is unusual to choose options by typing 'bubble' or 'merge' when numbers are normally used instead."
   ]
  },
  {
   "cell_type": "code",
   "execution_count": 16,
   "metadata": {},
   "outputs": [],
   "source": [
    "#Task 2.3 [7m]\n",
    "def merge_sort(lst):       # merge sort procedure\n",
    "    if len(lst) < 2: \n",
    "        return lst\n",
    "    mid = len(lst)//2\n",
    "    left = merge_sort(lst[:mid])\n",
    "    right = merge_sort(lst[mid:])\n",
    "    result = []\n",
    "    while left and right:\n",
    "        if left[0] <= right[0]:\n",
    "            result.append(left.pop(0))\n",
    "        else:\n",
    "            result.append(right.pop(0))\n",
    "    result += left + right\n",
    "    return result\n",
    "\n",
    "def task2_3():            # Program code to test the sorting algorithms\n",
    "    global lst\n",
    "    userinp = \"empty\"\n",
    "    while not (userinp == \"1\" or userinp == \"2\"):  #loop until valid choice is input\n",
    "        print(\"1. Bubble Sort\")\n",
    "        print(\"2. Merge Sort\")\n",
    "        userinp = input(\"Which sorting algorithm do you want to use (1 or 2):\")  #ask user to select\n",
    "    task2_1()             # calls Task 2.1 to reset a list of random numbers\n",
    "    if userinp == \"1\":    # if-condition to use chosen sorting procedure\n",
    "        bubble_sort()\n",
    "        print(lst)        # mutate and output the sorted list\n",
    "    elif userinp == \"2\":\n",
    "        result = merge_sort(lst) # implement merge sort on the unsorted 1-d list from Task 2.1\n",
    "        print(result)     # output the sorted result"
   ]
  },
  {
   "cell_type": "code",
   "execution_count": null,
   "metadata": {},
   "outputs": [],
   "source": [
    "#Testing Task 2.3 [1m]\n",
    "task2_3() # Test with one invalid choice and one sorting method"
   ]
  },
  {
   "cell_type": "code",
   "execution_count": 27,
   "metadata": {},
   "outputs": [],
   "source": [
    "#Alternative solution for Task 2.3 [7m]\n",
    "def merge_sort(lst):       # merge sort procedure\n",
    "    if len(lst) < 2: \n",
    "        return lst\n",
    "    mid = len(lst)//2\n",
    "    left = merge_sort(lst[:mid])\n",
    "    right = merge_sort(lst[mid:])\n",
    "    \n",
    "    result = []\n",
    "    while left and right:\n",
    "        if left[0] <= right[0]:\n",
    "            result.append(left.pop(0))\n",
    "        else:\n",
    "            result.append(right.pop(0))\n",
    "    result += left + right\n",
    "    return result\n",
    "\n",
    "def task2_3():            # Program code to test the sorting algorithms\n",
    "    userinp = \"empty\"\n",
    "    \n",
    "    while not (userinp == \"bubble\" or userinp == \"merge\"):  #loop until a valid choice\n",
    "        print(\"1. Bubble Sort\")\n",
    "        print(\"2. Merge Sort\")\n",
    "        userinp = input(\"Type 'bubble' or 'merge' to choose the algorithm for sorting:\")\n",
    "        \n",
    "    randomlst = task2_1()             # calls Task 2.1 to reset a list of random numbers\n",
    "    \n",
    "    if userinp == \"bubble\":\n",
    "        print(bubble_sort(randomlst))\n",
    "\n",
    "    elif userinp == \"merge\":\n",
    "        print(merge_sort(randomlst)) "
   ]
  },
  {
   "cell_type": "code",
   "execution_count": 28,
   "metadata": {},
   "outputs": [
    {
     "name": "stdout",
     "output_type": "stream",
     "text": [
      "1. Bubble Sort\n",
      "2. Merge Sort\n",
      "Type 'bubble' or 'merge' to choose the algorithm for sorting:no\n",
      "1. Bubble Sort\n",
      "2. Merge Sort\n",
      "Type 'bubble' or 'merge' to choose the algorithm for sorting:bubble\n",
      "[87, 38, 81, 30, 15, 88, 29, 90, 46, 24, 68, 26, 1, 8, 83, 69, 57, 52, 65, 56, 98, 94, 2, 93, 84, 41, 70, 57, 50, 100, 37, 29, 59, 75, 71, 34, 28, 8, 78, 96, 11, 47, 23, 4, 5, 54, 28, 85, 79, 38, 31, 3, 28, 99, 67, 11, 92, 37, 84, 8, 5, 11, 41, 77, 42, 83, 86, 7, 66, 43, 84, 91, 28, 16, 89, 29, 45, 31, 14, 70, 7, 89, 1, 6, 51, 1, 99, 26, 17, 73, 98, 96, 50, 32, 100, 17, 93, 18, 95, 38]\n",
      "[1, 1, 1, 2, 3, 4, 5, 5, 6, 7, 7, 8, 8, 8, 11, 11, 11, 14, 15, 16, 17, 17, 18, 23, 24, 26, 26, 28, 28, 28, 28, 29, 29, 29, 30, 31, 31, 32, 34, 37, 37, 38, 38, 38, 41, 41, 42, 43, 45, 46, 47, 50, 50, 51, 52, 54, 56, 57, 57, 59, 65, 66, 67, 68, 69, 70, 70, 71, 73, 75, 77, 78, 79, 81, 83, 83, 84, 84, 84, 85, 86, 87, 88, 89, 89, 90, 91, 92, 93, 93, 94, 95, 96, 96, 98, 98, 99, 99, 100, 100]\n"
     ]
    }
   ],
   "source": [
    "task2_3()"
   ]
  },
  {
   "cell_type": "code",
   "execution_count": 25,
   "metadata": {},
   "outputs": [
    {
     "name": "stdout",
     "output_type": "stream",
     "text": [
      "1. Bubble Sort\n",
      "2. Merge Sort\n",
      "Type 'bubble' or 'merge' to choose the algorithm for sorting:no\n",
      "1. Bubble Sort\n",
      "2. Merge Sort\n",
      "Type 'bubble' or 'merge' to choose the algorithm for sorting:merge\n",
      "[47, 89, 39, 30, 38, 62, 78, 46, 91, 72, 18, 16, 2, 21, 89, 72, 99, 63, 40, 23, 41, 82, 52, 32, 98, 14, 37, 89, 62, 98, 15, 20, 19, 60, 16, 52, 39, 35, 16, 33, 3, 98, 29, 43, 93, 29, 23, 91, 100, 61, 97, 69, 89, 92, 98, 85, 18, 92, 7, 61, 50, 58, 71, 19, 61, 66, 12, 8, 78, 57, 33, 29, 44, 53, 74, 85, 18, 10, 73, 29, 84, 82, 78, 32, 33, 7, 90, 88, 57, 55, 70, 1, 12, 1, 76, 98, 60, 91, 68, 10]\n",
      "[1, 1, 2, 3, 7, 7, 8, 10, 10, 12, 12, 14, 15, 16, 16, 16, 18, 18, 18, 19, 19, 20, 21, 23, 23, 29, 29, 29, 29, 30, 32, 32, 33, 33, 33, 35, 37, 38, 39, 39, 40, 41, 43, 44, 46, 47, 50, 52, 52, 53, 55, 57, 57, 58, 60, 60, 61, 61, 61, 62, 62, 63, 66, 68, 69, 70, 71, 72, 72, 73, 74, 76, 78, 78, 78, 82, 82, 84, 85, 85, 88, 89, 89, 89, 89, 90, 91, 91, 91, 92, 92, 93, 97, 98, 98, 98, 98, 98, 99, 100]\n"
     ]
    }
   ],
   "source": [
    "task2_3()"
   ]
  },
  {
   "cell_type": "markdown",
   "metadata": {},
   "source": [
    "Task 2.4 comments: (1) Similar comments as Task 2.3. With the requirement to write 2 programs, question should be clearer by providing function names, and sample outputs. (2) You can't implement a recursive binary search directly on the list from Task 2.1. The question should have stated that the list from Task 2.1 has to be sorted first."
   ]
  },
  {
   "cell_type": "code",
   "execution_count": 26,
   "metadata": {},
   "outputs": [],
   "source": [
    "#Task 2.4 [7m]\n",
    "\n",
    "def bin_search(key, lo = 0, hi = None):   # program code that implements recursive binary search\n",
    "    if hi == None:\n",
    "        hi = len(lst) - 1\n",
    "    if lo > hi:\n",
    "        return -1\n",
    "    mid = (lo+hi) // 2\n",
    "    if lst[mid] == key:\n",
    "        return mid\n",
    "    elif lst[mid] < key:\n",
    "        return bin_search(key, mid+1, hi)\n",
    "    else:\n",
    "        return bin_search(key, lo, mid-1)"
   ]
  },
  {
   "cell_type": "code",
   "execution_count": 27,
   "metadata": {},
   "outputs": [
    {
     "name": "stdout",
     "output_type": "stream",
     "text": [
      "Current list: [2, 2, 3, 4, 4, 5, 5, 6, 6, 7, 7, 8, 11, 12, 14, 15, 15, 15, 16, 20, 21, 22, 22, 23, 25, 28, 33, 33, 34, 34, 35, 36, 38, 38, 41, 41, 42, 42, 42, 43, 44, 44, 45, 47, 47, 48, 49, 49, 49, 49, 50, 51, 52, 53, 53, 54, 55, 55, 56, 56, 56, 56, 57, 58, 59, 60, 60, 61, 63, 65, 67, 68, 68, 68, 68, 71, 71, 72, 72, 73, 73, 74, 77, 77, 78, 79, 81, 81, 82, 84, 86, 87, 89, 90, 91, 93, 94, 94, 95, 99]\n"
     ]
    }
   ],
   "source": [
    "#Testing Task 2.4 [2m]\n",
    "print(\"Current list:\", lst)\n",
    "\n",
    "def task2_4():\n",
    "    global lst\n",
    "    userinp = \"empty\"\n",
    "    while not (userinp.isdigit()):\n",
    "        userinp = input(\"Please enter an integer value:\")  # read in an integer value\n",
    "    searchkey = int(userinp)\n",
    "    result = bin_search(searchkey)                         # call bin search with user input\n",
    "    if result == -1:\n",
    "        print(\"Not found\")                                 # -1 means not found\n",
    "    else:\n",
    "        print(\"Found at index:\", result)                   # output index if found"
   ]
  },
  {
   "cell_type": "code",
   "execution_count": 38,
   "metadata": {},
   "outputs": [],
   "source": [
    "#Alternative solution for Task 2.4 [7m]\n",
    "\n",
    "def bin_search(lst, key, lo = 0, hi = None):   # recursive function for binary search\n",
    "    if hi == None:\n",
    "        hi = len(lst) - 1\n",
    "    \n",
    "    if lo > hi:\n",
    "        return -1\n",
    "    mid = (lo+hi) // 2\n",
    "    if lst[mid] == key:\n",
    "        return mid\n",
    "    elif lst[mid] < key:\n",
    "        return bin_search(lst, key, mid+1, hi)\n",
    "    else:\n",
    "        return bin_search(lst, key, lo, mid-1)\n",
    "    \n",
    "def task2_4():\n",
    "    randomlst = task2_1()\n",
    "    sortedlst = bubble_sort(randomlst)                      #use bubble sort to sort the list from Task 2.1\n",
    "    print(sortedlst)\n",
    "    \n",
    "    userinput = \"empty\"\n",
    "    while not (userinput.isdigit()):                         # read in an integer input\n",
    "        userinput = input(\"Please enter an integer value:\")\n",
    "    \n",
    "    userinput = int(userinput)\n",
    "        \n",
    "    result = bin_search(sortedlst, userinput)                #binary search must be done on a sorted list\n",
    "    \n",
    "    if result == -1:\n",
    "        print(\"Not found\")                                 # -1 means not found\n",
    "    else:\n",
    "        print(result)                                      # output the returned position if integer is in the list\n",
    "        "
   ]
  },
  {
   "cell_type": "code",
   "execution_count": 41,
   "metadata": {},
   "outputs": [
    {
     "name": "stdout",
     "output_type": "stream",
     "text": [
      "[23, 57, 34, 22, 54, 63, 75, 41, 48, 49, 45, 67, 89, 45, 52, 68, 35, 74, 32, 73, 13, 58, 23, 19, 73, 48, 22, 16, 34, 32, 77, 38, 100, 76, 36, 70, 90, 24, 22, 84, 22, 25, 44, 69, 40, 92, 3, 57, 92, 66, 44, 72, 69, 41, 87, 56, 70, 59, 64, 88, 55, 93, 86, 98, 86, 100, 67, 14, 80, 27, 91, 29, 13, 91, 3, 31, 21, 24, 94, 90, 55, 83, 42, 73, 88, 80, 16, 90, 58, 50, 59, 59, 57, 70, 77, 54, 45, 95, 48, 6]\n",
      "[3, 3, 6, 13, 13, 14, 16, 16, 19, 21, 22, 22, 22, 22, 23, 23, 24, 24, 25, 27, 29, 31, 32, 32, 34, 34, 35, 36, 38, 40, 41, 41, 42, 44, 44, 45, 45, 45, 48, 48, 48, 49, 50, 52, 54, 54, 55, 55, 56, 57, 57, 57, 58, 58, 59, 59, 59, 63, 64, 66, 67, 67, 68, 69, 69, 70, 70, 70, 72, 73, 73, 73, 74, 75, 76, 77, 77, 80, 80, 83, 84, 86, 86, 87, 88, 88, 89, 90, 90, 90, 91, 91, 92, 92, 93, 94, 95, 98, 100, 100]\n",
      "Please enter an integer value:3\n",
      "0\n"
     ]
    }
   ],
   "source": [
    "task2_4() #test with smallest integer in the list"
   ]
  },
  {
   "cell_type": "code",
   "execution_count": 43,
   "metadata": {},
   "outputs": [
    {
     "name": "stdout",
     "output_type": "stream",
     "text": [
      "[90, 12, 16, 24, 42, 50, 95, 29, 20, 98, 47, 22, 13, 83, 51, 68, 7, 78, 58, 84, 46, 9, 71, 100, 90, 1, 88, 5, 76, 74, 44, 52, 56, 97, 75, 26, 43, 74, 60, 29, 82, 2, 44, 4, 96, 83, 13, 62, 67, 57, 6, 85, 31, 78, 64, 94, 62, 68, 51, 100, 74, 6, 50, 86, 4, 78, 68, 32, 14, 82, 56, 15, 68, 23, 48, 13, 38, 100, 30, 6, 53, 32, 44, 66, 85, 40, 46, 52, 77, 14, 10, 29, 37, 14, 49, 11, 12, 35, 97, 80]\n",
      "[1, 2, 4, 4, 5, 6, 6, 6, 7, 9, 10, 11, 12, 12, 13, 13, 13, 14, 14, 14, 15, 16, 20, 22, 23, 24, 26, 29, 29, 29, 30, 31, 32, 32, 35, 37, 38, 40, 42, 43, 44, 44, 44, 46, 46, 47, 48, 49, 50, 50, 51, 51, 52, 52, 53, 56, 56, 57, 58, 60, 62, 62, 64, 66, 67, 68, 68, 68, 68, 71, 74, 74, 74, 75, 76, 77, 78, 78, 78, 80, 82, 82, 83, 83, 84, 85, 85, 86, 88, 90, 90, 94, 95, 96, 97, 97, 98, 100, 100, 100]\n",
      "Please enter an integer value:101\n",
      "Not found\n"
     ]
    }
   ],
   "source": [
    "task2_4() #test with one integer not in the list"
   ]
  }
 ],
 "metadata": {
  "kernelspec": {
   "display_name": "Python 3",
   "language": "python",
   "name": "python3"
  },
  "language_info": {
   "codemirror_mode": {
    "name": "ipython",
    "version": 3
   },
   "file_extension": ".py",
   "mimetype": "text/x-python",
   "name": "python",
   "nbconvert_exporter": "python",
   "pygments_lexer": "ipython3",
   "version": "3.6.4"
  }
 },
 "nbformat": 4,
 "nbformat_minor": 2
}
