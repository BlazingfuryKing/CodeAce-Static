{
 "cells": [
  {
   "cell_type": "code",
   "execution_count": 5,
   "metadata": {},
   "outputs": [
    {
     "name": "stdout",
     "output_type": "stream",
     "text": [
      "['we', 'have', 'a', 'vision', 'for', 'tomorrow', 'just', 'believe', 'just', 'believe', 'we', 'have', 'a', 'goal', 'for', 'singapore', 'we', 'can', 'achieve', 'we', 'can', 'achieve', 'you', 'and', 'me', 'will', 'do', 'our', 'part', 'stand', 'together', 'heart', 'to', 'heart', 'we', 'are', 'going', 'to', 'show', 'the', 'world', 'what', 'singapore', 'can', 'be', 'we', 'can', 'achieve', 'we', 'can', 'achieve', 'there', 'is', 'something', 'down', 'the', 'road', 'that', 'we', 'can', 'strive', 'for', 'we', 'are', 'told', 'no', 'dreams', 'too', 'bold', 'that', 'we', \"can't\", 'try', 'for', \"there's\", 'a', 'spirit', 'in', 'the', 'air', \"it's\", 'a', 'feeling', 'we', 'all', 'share', \"we're\", 'going', 'to', 'build', 'a', 'better', 'life', 'for', 'you', 'and', 'me', 'we', 'can', 'achieve', 'we', 'can', 'achieve', 'count', 'on', 'me', 'singapore', 'count', 'on', 'me', 'to', 'give', 'my', 'best', 'and', 'more', 'you', 'and', 'me', 'will', 'do', 'our', 'part', 'stand', 'together', 'heart', 'to', 'heart', \"we're\", 'going', 'to', 'show', 'the', 'world', 'what', 'singapore', 'can', 'be', 'we', 'can', 'achieve', 'we', 'can', 'achieve', 'count', 'on', 'me', 'singaproe', 'count', 'on', 'me', 'to', 'give', 'my', 'best', 'and', 'more', 'you', 'and', 'me', 'will', 'do', 'our', 'part', 'stand', 'together', 'heart', 'to', 'heart', \"we'll\", 'going', 'to', 'show', 'the', 'world', 'what', 'singapore', 'can', 'be', 'we', 'can', 'achieve', 'we', 'can', 'achieve', 'count', 'on', 'me', 'singapore', 'count', 'on', 'me', 'singapore', 'count', 'on', 'me', 'to', 'give', 'my', 'best', 'and', 'more', 'count', 'on', 'me', 'singapore', 'count', 'on', 'me', 'singapore', 'count', 'on', 'me', 'singapore', 'count', 'on', 'me', 'to', 'give', 'my', 'best', 'and', 'more', 'count', 'on', 'me', 'singapore', 'count', 'on', 'me', 'singapore', 'we', 'can', 'achieve', 'together', 'singapore', 'count', 'on', 'me', 'singapore', 'we', 'can', 'achieve', 'singapore', 'my', 'best', 'and', 'more', 'together', 'singapore', 'singapore', 'together', 'singapore', 'singapore', 'together', 'singapore', 'singapore']\n"
     ]
    }
   ],
   "source": [
    "#Task 2.1                   \n",
    "file=open('SONG.TXT')\n",
    "lines=file.readlines()  #correct opening of text file [1]\n",
    "#print(lines)\n",
    "words=[]                #use of array to store the words [1]\n",
    "for line in lines:\n",
    "    #print(line.strip().split(' '))\n",
    "    for word in line.strip().split(' '):  #correct processing of the content of the textfile [1]\n",
    "        words.append(word)\n",
    "print(words)  "
   ]
  },
  {
   "cell_type": "code",
   "execution_count": 6,
   "metadata": {},
   "outputs": [],
   "source": [
    "def QuickSort(ThisArray,First,Last): #4 marks (in-place implementation)\n",
    "    Low=First               #initialize range of sort and pivot [1]\n",
    "    High=Last\n",
    "    Pivot=ThisArray[Low]\n",
    "    while Low<=High:     #correct loop mechanism and comparison for scanning array [1]\n",
    "        while ThisArray[Low]<Pivot:  ##scanning left \n",
    "            Low=Low+1\n",
    "        while ThisArray[High]>Pivot:##scanning right\n",
    "            High=High-1\n",
    "        if Low<=High:    #checking for correct relative indexes before swapping [1]\n",
    "            ThisArray[Low],ThisArray[High]=ThisArray[High], ThisArray[Low]\n",
    "            Low=Low+1\n",
    "            High=High-1\n",
    "    if First<High:\n",
    "        QuickSort(ThisArray,First,High)   #correct recursive call for left and right subarrays[1]     \n",
    "    if Low<Last:\n",
    "        QuickSort(ThisArray,Low,Last)"
   ]
  },
  {
   "cell_type": "code",
   "execution_count": 7,
   "metadata": {},
   "outputs": [],
   "source": [
    "QuickSort(words,0,len(words)-1)"
   ]
  },
  {
   "cell_type": "code",
   "execution_count": null,
   "metadata": {},
   "outputs": [],
   "source": [
    "def QuickSort(ThisArray): #4 marks (non-in place implementation)\n",
    "    if ThisArray==[]:   #base case [1]\n",
    "        return []\n",
    "    Pivot=ThisArray[0]    #correct use of partitioning [1]\n",
    "    Left=[]\n",
    "    Right=[]\n",
    "    for i in range(1,len(ThisArray)): #use of loop and comparison [1]\n",
    "        if ThisArray[i]<Pivot:\n",
    "            Left.append(ThisArray[i])\n",
    "        else:\n",
    "            Right.append(ThisArray[i])\n",
    "    return QuickSort(Left)+[Pivot]+QuickSort(Right) #correct recursive call [1]"
   ]
  },
  {
   "cell_type": "code",
   "execution_count": null,
   "metadata": {},
   "outputs": [],
   "source": [
    "words=QuickSort(words)"
   ]
  },
  {
   "cell_type": "code",
   "execution_count": 8,
   "metadata": {},
   "outputs": [
    {
     "name": "stdout",
     "output_type": "stream",
     "text": [
      "['a', 'a', 'a', 'a', 'a', 'achieve', 'achieve', 'achieve', 'achieve', 'achieve', 'achieve', 'achieve', 'achieve', 'achieve', 'achieve', 'achieve', 'achieve', 'air', 'all', 'and', 'and', 'and', 'and', 'and', 'and', 'and', 'and', 'and', 'are', 'are', 'be', 'be', 'be', 'believe', 'believe', 'best', 'best', 'best', 'best', 'best', 'better', 'bold', 'build', 'can', 'can', 'can', 'can', 'can', 'can', 'can', 'can', 'can', 'can', 'can', 'can', 'can', 'can', 'can', 'can', \"can't\", 'count', 'count', 'count', 'count', 'count', 'count', 'count', 'count', 'count', 'count', 'count', 'count', 'count', 'count', 'do', 'do', 'do', 'down', 'dreams', 'feeling', 'for', 'for', 'for', 'for', 'for', 'give', 'give', 'give', 'give', 'goal', 'going', 'going', 'going', 'going', 'have', 'have', 'heart', 'heart', 'heart', 'heart', 'heart', 'heart', 'in', 'is', \"it's\", 'just', 'just', 'life', 'me', 'me', 'me', 'me', 'me', 'me', 'me', 'me', 'me', 'me', 'me', 'me', 'me', 'me', 'me', 'me', 'me', 'me', 'more', 'more', 'more', 'more', 'more', 'my', 'my', 'my', 'my', 'my', 'no', 'on', 'on', 'on', 'on', 'on', 'on', 'on', 'on', 'on', 'on', 'on', 'on', 'on', 'on', 'our', 'our', 'our', 'part', 'part', 'part', 'road', 'share', 'show', 'show', 'show', 'singapore', 'singapore', 'singapore', 'singapore', 'singapore', 'singapore', 'singapore', 'singapore', 'singapore', 'singapore', 'singapore', 'singapore', 'singapore', 'singapore', 'singapore', 'singapore', 'singapore', 'singapore', 'singapore', 'singapore', 'singapore', 'singaproe', 'something', 'spirit', 'stand', 'stand', 'stand', 'strive', 'that', 'that', 'the', 'the', 'the', 'the', 'the', 'there', \"there's\", 'to', 'to', 'to', 'to', 'to', 'to', 'to', 'to', 'to', 'to', 'to', 'together', 'together', 'together', 'together', 'together', 'together', 'together', 'told', 'tomorrow', 'too', 'try', 'vision', 'we', 'we', 'we', 'we', 'we', 'we', 'we', 'we', 'we', 'we', 'we', 'we', 'we', 'we', 'we', 'we', 'we', 'we', 'we', \"we'll\", \"we're\", \"we're\", 'what', 'what', 'what', 'will', 'will', 'will', 'world', 'world', 'world', 'you', 'you', 'you', 'you']\n"
     ]
    }
   ],
   "source": [
    "print(words)"
   ]
  },
  {
   "cell_type": "code",
   "execution_count": 9,
   "metadata": {},
   "outputs": [],
   "source": [
    "#5 marks\n",
    "file=open('wordcount.txt','w')   #create new file for writing, using correct w mode [1]\n",
    "word=''\n",
    "count=0     #correct initial variables for counting mechanism [1]            \n",
    "for i in range(len(words)): #loop through the sorted words [1]\n",
    "    if i==0:\n",
    "        word=words[i]\n",
    "    if words[i]!=word:   #correct conditional checks and increment for counting mechanism[1]\n",
    "        #print(word,count)\n",
    "        file.write(word+' '+str(count)+'\\n') #write word and count with proper formatting[1]\n",
    "        word=words[i]\n",
    "        count=0\n",
    "    count+=1\n",
    "    if i==len(words)-1:\n",
    "        file.write(word+' '+str(count))\n",
    "file.close()"
   ]
  },
  {
   "cell_type": "code",
   "execution_count": 10,
   "metadata": {},
   "outputs": [
    {
     "name": "stdout",
     "output_type": "stream",
     "text": [
      "Select option:\n",
      "1. Search for a word\n",
      "2. Search for words based on the count\n",
      "3. Quit\n",
      "Please enter option:1\n",
      "Please enter word:count\n",
      "count 14\n",
      "Please enter a valid option\n",
      "Select option:\n",
      "1. Search for a word\n",
      "2. Search for words based on the count\n",
      "3. Quit\n",
      "Please enter option:1\n",
      "Please enter word:singapore\n",
      "singapore 21\n",
      "Please enter a valid option\n",
      "Select option:\n",
      "1. Search for a word\n",
      "2. Search for words based on the count\n",
      "3. Quit\n",
      "Please enter option:1\n",
      "Please enter word:a\n",
      "a 5\n",
      "Please enter a valid option\n",
      "Select option:\n",
      "1. Search for a word\n",
      "2. Search for words based on the count\n",
      "3. Quit\n",
      "Please enter option:6\n",
      "Please enter a valid option\n",
      "Select option:\n",
      "1. Search for a word\n",
      "2. Search for words based on the count\n",
      "3. Quit\n",
      "Please enter option:1\n",
      "Please enter word:hello\n",
      "Not found\n",
      "Please enter a valid option\n",
      "Select option:\n",
      "1. Search for a word\n",
      "2. Search for words based on the count\n",
      "3. Quit\n",
      "Please enter option:2\n",
      "Please enter count:1\n",
      "air 1\n",
      "all 1\n",
      "better 1\n",
      "bold 1\n",
      "build 1\n",
      "can't 1\n",
      "down 1\n",
      "dreams 1\n",
      "feeling 1\n",
      "goal 1\n",
      "in 1\n",
      "is 1\n",
      "it's 1\n",
      "life 1\n",
      "no 1\n",
      "road 1\n",
      "share 1\n",
      "singaproe 1\n",
      "something 1\n",
      "spirit 1\n",
      "strive 1\n",
      "there 1\n",
      "there's 1\n",
      "told 1\n",
      "tomorrow 1\n",
      "too 1\n",
      "try 1\n",
      "vision 1\n",
      "we'll 1\n",
      "Please enter a valid option\n",
      "Select option:\n",
      "1. Search for a word\n",
      "2. Search for words based on the count\n",
      "3. Quit\n",
      "Please enter option:2\n",
      "Please enter count:5\n",
      "a 5\n",
      "best 5\n",
      "for 5\n",
      "more 5\n",
      "my 5\n",
      "the 5\n",
      "Please enter a valid option\n",
      "Select option:\n",
      "1. Search for a word\n",
      "2. Search for words based on the count\n",
      "3. Quit\n",
      "Please enter option:2\n",
      "Please enter count:7\n",
      "together 7\n",
      "Please enter a valid option\n",
      "Select option:\n",
      "1. Search for a word\n",
      "2. Search for words based on the count\n",
      "3. Quit\n",
      "Please enter option:2\n",
      "Please enter count:1000\n",
      "Not found\n",
      "Please enter a valid option\n",
      "Select option:\n",
      "1. Search for a word\n",
      "2. Search for words based on the count\n",
      "3. Quit\n",
      "Please enter option:3\n"
     ]
    }
   ],
   "source": [
    "#Task 2.2\n",
    "while True:   #6 marks: \n",
    "    print('Select option:')\n",
    "    print('1. Search for a word')\n",
    "    print('2. Search for words based on the count')\n",
    "    print('3. Quit')\n",
    "    option=input('Please enter option:')\n",
    "    if option == '1':\n",
    "        input_word=input('Please enter word:')\n",
    "        #correct input handling [1]\n",
    "        file=open('wordcount.txt') #correct use of wordcount.txt [1]\n",
    "        lines=file.readlines()\n",
    "        found=False\n",
    "        for line in lines: #correct iteration [1]\n",
    "            [word,count]=line.strip().split(' ')\n",
    "            if word == input_word: #correct conditional check [1]\n",
    "                found=True\n",
    "                print(word, count)  \n",
    "                file.close()  \n",
    "                break\n",
    "        if found==False:\n",
    "            print('Not found')\n",
    "    if option == '2':  #correct option 2 for the case of count[1]\n",
    "        input_count=input('Please enter count:')\n",
    "        file=open('wordcount.txt')\n",
    "        lines=file.readlines()\n",
    "        found=False\n",
    "        for line in lines:\n",
    "            [word,count]=line.strip().split(' ')\n",
    "            if count == input_count:\n",
    "                found=True\n",
    "                print(word, count)\n",
    "        if found==False:\n",
    "            print('Not found')\n",
    "        file.close()\n",
    "    if option == '3':\n",
    "        break\n",
    "    else:\n",
    "        print('Please enter a valid option') #correct menu [1]\n",
    "    "
   ]
  },
  {
   "cell_type": "code",
   "execution_count": null,
   "metadata": {},
   "outputs": [],
   "source": []
  }
 ],
 "metadata": {
  "kernelspec": {
   "display_name": "Python 3",
   "language": "python",
   "name": "python3"
  },
  "language_info": {
   "codemirror_mode": {
    "name": "ipython",
    "version": 3
   },
   "file_extension": ".py",
   "mimetype": "text/x-python",
   "name": "python",
   "nbconvert_exporter": "python",
   "pygments_lexer": "ipython3",
   "version": "3.6.4"
  }
 },
 "nbformat": 4,
 "nbformat_minor": 2
}
