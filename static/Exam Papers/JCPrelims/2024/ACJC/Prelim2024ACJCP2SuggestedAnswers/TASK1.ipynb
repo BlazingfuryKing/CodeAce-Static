{
 "cells": [
  {
   "cell_type": "code",
   "execution_count": 1,
   "id": "8229c494",
   "metadata": {},
   "outputs": [
    {
     "name": "stdout",
     "output_type": "stream",
     "text": [
      "8\n"
     ]
    }
   ],
   "source": [
    "#Task 1_1\n",
    "def string_value(s1):\n",
    "    vowels = \"aeiouAEIOU\"\n",
    "    \n",
    "    count = 0\n",
    "    for item in s1:\n",
    "        if item in vowels:\n",
    "            count += 1\n",
    "    return count * len(s1)\n",
    "\n",
    "\n",
    "print(string_value(\"Haha\"))\n",
    "\n",
    "#1 count vowels\n",
    "#1 count length\n",
    "#1 return correct value"
   ]
  },
  {
   "cell_type": "code",
   "execution_count": 13,
   "id": "6ffdf406",
   "metadata": {},
   "outputs": [
    {
     "data": {
      "text/plain": [
       "['bbbb', 'Hi', 'ah', 'BYE', 'Josh', 'Hello', 'Peter']"
      ]
     },
     "execution_count": 13,
     "metadata": {},
     "output_type": "execute_result"
    }
   ],
   "source": [
    "#task 1_2\n",
    "def StalinSort(lst):\n",
    "    unsorted = True #flag becomes true when lst is sorted\n",
    "    no_of_iters = len(lst)-1 #number of iterates per pass\n",
    "    while unsorted:\n",
    "        unsorted = False\n",
    "        for i in range(no_of_iters):\n",
    "#             print(lst)\n",
    "            if string_value(lst[i]) > string_value(lst[i+1]):\n",
    "                lst.insert(0,lst.pop(i+1))\n",
    "                unsorted = True\n",
    "            elif (string_value(lst[i]) == string_value(lst[i+1])) and lst[i] > lst[i+1]:\n",
    "                lst.insert(0,lst.pop(i+1))\n",
    "                unsorted = True\n",
    "                \n",
    "                \n",
    "    return lst\n",
    "\n",
    "lst1 = [\"Peter\", \"Josh\", \"See\", \"Hi\" ] #all strings have unique values, vowels all lower case\n",
    "lst2 = [\"PetEr\", \"JOsh\", \"Hi\", \"See\" ]#upper case vowels\n",
    "lst3 = [\"Peter\", \"Josh\", \"Hello\", \"BYE\", \"Hi\", \"ah\", \"bbbb\" ] #contains ties\n",
    "\n",
    "StalinSort(lst3)\n",
    "\n",
    "#1 correct outer loop\n",
    "#1 correct way to control number of inner loops\n",
    "#1 correct use of string_value to determine need to pop and insert\n",
    "#1 correct method to remove and insert at the front\n",
    "#1 correct method to sort in alphabetical order when values tie\n",
    "#1 correct way to check that list of sorted and end the function\n",
    "\n",
    "#2 marks for 3 correct cases\n",
    "#1 mark for 2 correct cases"
   ]
  },
  {
   "cell_type": "code",
   "execution_count": 9,
   "id": "bc2c8985",
   "metadata": {},
   "outputs": [
    {
     "name": "stdout",
     "output_type": "stream",
     "text": [
      "[5, 1, 2, 4, 3]\n",
      "[1, 5, 2, 4, 3]\n",
      "[2, 1, 5, 4, 3]\n",
      "[4, 2, 1, 5, 3]\n",
      "[3, 4, 2, 1, 5]\n",
      "[3, 4, 2, 1, 5]\n",
      "[2, 3, 4, 1, 5]\n",
      "[1, 2, 3, 4, 5]\n",
      "[1, 2, 3, 4, 5]\n",
      "[1, 2, 3, 4, 5]\n",
      "[1, 2, 3, 4, 5]\n",
      "[1, 2, 3, 4, 5]\n"
     ]
    },
    {
     "data": {
      "text/plain": [
       "[1, 2, 3, 4, 5]"
      ]
     },
     "execution_count": 9,
     "metadata": {},
     "output_type": "execute_result"
    }
   ],
   "source": [
    "#stalinsort for list of integers\n",
    "def StalinSort(lst):\n",
    "    unsorted = True #flag becomes true when lst is sorted\n",
    "    no_of_iters = len(lst)-1 #number of iterates per pass\n",
    "    while unsorted:\n",
    "        unsorted = False\n",
    "        for i in range(no_of_iters):\n",
    "            print(lst)\n",
    "            if lst[i] > lst[i+1]:\n",
    "                lst.insert(0,lst.pop(i+1))\n",
    "                unsorted = True\n",
    "                \n",
    "    return lst\n",
    "\n",
    "StalinSort([5,1,2,4,3])"
   ]
  },
  {
   "cell_type": "code",
   "execution_count": 14,
   "id": "62f75890",
   "metadata": {},
   "outputs": [
    {
     "name": "stdout",
     "output_type": "stream",
     "text": [
      "['Hi', 'Josh', 'See', 'Peter']\n",
      "['Hi', 'JOsh', 'See', 'PetEr']\n",
      "['bbbb', 'Hi', 'ah', 'BYE', 'Josh', 'Hello', 'Peter']\n"
     ]
    }
   ],
   "source": [
    "print(StalinSort([\"Peter\", \"Josh\", \"See\", \"Hi\" ]))\n",
    "print(StalinSort([\"PetEr\", \"JOsh\", \"Hi\", \"See\" ]))\n",
    "print(StalinSort([\"Peter\", \"Josh\", \"Hello\", \"BYE\", \"Hi\", \"ah\", \"bbbb\" ]))"
   ]
  },
  {
   "cell_type": "code",
   "execution_count": 38,
   "id": "f88a5dd3",
   "metadata": {},
   "outputs": [
    {
     "name": "stdout",
     "output_type": "stream",
     "text": [
      "['Cat', 'dOG', 'lion', 'Tiger', 'WhaLe', 'zebrA', 'monkeY', 'Dolphin', 'moUSe', 'Cheetah', 'goRilla', 'aeiou', 'kangarOO', 'Chimpazee']\n"
     ]
    }
   ],
   "source": [
    "#task 1_3\n",
    "f1 = open(\"words.txt\")\n",
    "lst = []\n",
    "for line in f1:\n",
    "    lst.append(line.strip())\n",
    "    \n",
    "print(StalinSort(lst))\n",
    "f1.close()\n",
    "\n",
    "#1 open and close file\n",
    "#1 add to list\n",
    "#1 call stalinsort and display list"
   ]
  },
  {
   "cell_type": "code",
   "execution_count": 36,
   "id": "065d8657",
   "metadata": {},
   "outputs": [
    {
     "name": "stdout",
     "output_type": "stream",
     "text": [
      "['bbbb', 'Hi', 'ah', 'BYE', 'Josh', 'Hello', 'Peter']\n"
     ]
    }
   ],
   "source": [
    "def partition(lst, left, right):\n",
    "    p1 = left\n",
    "    p2 = left\n",
    "    while p2 < right:\n",
    "        if string_value(lst[p2]) < string_value(lst[right]):\n",
    "            lst[p1], lst[p2] = lst[p2], lst[p1]\n",
    "            p1 += 1\n",
    "            p2 += 1\n",
    "        elif string_value(lst[p2]) == string_value(lst[right]) and lst[p2] < lst[right]:\n",
    "            lst[p1], lst[p2] = lst[p2], lst[p1]\n",
    "            p1 += 1\n",
    "            p2 += 1\n",
    "        else:\n",
    "            p2 += 1\n",
    "    lst[p1], lst[right] = lst[right], lst[p1]\n",
    "    return p1\n",
    "\n",
    "\n",
    "\n",
    "def quick_sort(lst, left, right):\n",
    "    if left < right:\n",
    "        pivot = partition(lst, left, right)\n",
    "        quick_sort(lst, left, pivot-1)\n",
    "        quick_sort(lst, pivot+1, right)\n",
    "\n",
    "def quicksort(lst):\n",
    "    quick_sort(lst, 0, len(lst)-1)\n",
    "\n",
    "lst3 = [\"Peter\", \"Josh\", \"Hello\", \"BYE\", \"Hi\", \"ah\", \"bbbb\" ]\n",
    "quicksort(lst3)\n",
    "print(lst3)\n",
    "\n",
    "#quick sort function\n",
    "#1 correct base case for quick sort\n",
    "#1 correct use of partition function to find pivot\n",
    "#1 correct recursive cases\n",
    "\n",
    "#partition function\n",
    "#1 correct use of string_value to determine need for swapping\n",
    "#1 correct sorting in lexicographic order for tie in values\n",
    "#1 correct control of pointers\n",
    "#1 correct return of pivot index value"
   ]
  },
  {
   "cell_type": "code",
   "execution_count": 51,
   "id": "d56ecf70",
   "metadata": {},
   "outputs": [
    {
     "name": "stdout",
     "output_type": "stream",
     "text": [
      "4\n"
     ]
    }
   ],
   "source": [
    "#Task 1.5\n",
    "def binary_helper(lst, value, left, right):\n",
    "    if left > right:\n",
    "#         print(\"here 0\")\n",
    "        return False\n",
    "    else:\n",
    "#         print(\"here\")\n",
    "        mid = (left+right) //2\n",
    "#         print(lst[mid], string_value(lst[mid]))\n",
    "        if string_value(lst[mid]) == value:\n",
    "            return mid\n",
    "        elif value < string_value(lst[mid]):\n",
    "            return binary_helper(lst, value, left, mid-1)\n",
    "        else:\n",
    "            return binary_helper(lst, value, mid+1, right)\n",
    "\n",
    "def binary_search(lst, value):\n",
    "    return binary_helper(lst, value, 0, len(lst)-1)\n",
    "    \n",
    "print(binary_search(lst, 10))\n",
    "\n",
    "#1 base case\n",
    "#1 if values match\n",
    "#1 value is smallet\n",
    "#1 value is larger\n",
    "\n"
   ]
  },
  {
   "cell_type": "code",
   "execution_count": 39,
   "id": "7ec8824e",
   "metadata": {},
   "outputs": [
    {
     "data": {
      "text/plain": [
       "['Cat',\n",
       " 'dOG',\n",
       " 'lion',\n",
       " 'Tiger',\n",
       " 'WhaLe',\n",
       " 'zebrA',\n",
       " 'monkeY',\n",
       " 'Dolphin',\n",
       " 'moUSe',\n",
       " 'Cheetah',\n",
       " 'goRilla',\n",
       " 'aeiou',\n",
       " 'kangarOO',\n",
       " 'Chimpazee']"
      ]
     },
     "execution_count": 39,
     "metadata": {},
     "output_type": "execute_result"
    }
   ],
   "source": [
    "lst"
   ]
  },
  {
   "cell_type": "code",
   "execution_count": null,
   "id": "5320348b",
   "metadata": {},
   "outputs": [],
   "source": []
  }
 ],
 "metadata": {
  "kernelspec": {
   "display_name": "Python 3 (ipykernel)",
   "language": "python",
   "name": "python3"
  },
  "language_info": {
   "codemirror_mode": {
    "name": "ipython",
    "version": 3
   },
   "file_extension": ".py",
   "mimetype": "text/x-python",
   "name": "python",
   "nbconvert_exporter": "python",
   "pygments_lexer": "ipython3",
   "version": "3.10.9"
  }
 },
 "nbformat": 4,
 "nbformat_minor": 5
}
