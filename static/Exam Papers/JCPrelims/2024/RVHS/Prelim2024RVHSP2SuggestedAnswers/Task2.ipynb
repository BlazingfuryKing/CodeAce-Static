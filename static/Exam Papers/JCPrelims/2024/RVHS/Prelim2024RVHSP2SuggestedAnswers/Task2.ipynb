{
 "cells": [
  {
   "cell_type": "code",
   "execution_count": 1,
   "id": "08e705ab",
   "metadata": {
    "scrolled": true
   },
   "outputs": [
    {
     "name": "stdout",
     "output_type": "stream",
     "text": [
      "['-', ' ', '(', '(', 'c', ' ', '-', '-', '-', '-', '-', '-', '-', ' ', ')', ' ', ' ', ' ', '-', '-', '-', '-', '-', '-', ' ', '\\\\', ' ', '(', ' ', ' ', ' ', ' ', ' ', '\"', ' ', ' ', ' ', ' ', ' ', ' ', '/', '.', '\"', ')', '(', ')', ' ', ')', '.']\n"
     ]
    }
   ],
   "source": [
    "# Task 2.1 #[3]\n",
    "def task_2_1(filename):\n",
    "    f = open(filename, 'r')\n",
    "    line = f.readline()\n",
    "    f.close()\n",
    "    lst = line.split(',')\n",
    "    for i in range(len(lst)):\n",
    "        lst[i] = chr(int(lst[i]))\n",
    "    return lst\n",
    "\n",
    "print(task_2_1(\"example.txt\"))\n",
    "#print(task_2_1(\"inputA.txt\"))"
   ]
  },
  {
   "cell_type": "code",
   "execution_count": 3,
   "id": "03bd85dc",
   "metadata": {},
   "outputs": [
    {
     "name": "stdout",
     "output_type": "stream",
     "text": [
      "Char  Freq\n",
      " ' '    20\n",
      " '-'    14\n",
      " ')'     4\n",
      " '('     4\n",
      " '.'     2\n",
      " '\"'     2\n",
      " '/'     1\n",
      " '\\'     1\n",
      " 'c'     1\n",
      "Char  Freq\n",
      " ' '   109\n",
      " ')'    50\n",
      " '('    47\n",
      " '-'    18\n",
      " '_'    18\n",
      " '^'     6\n",
      " '\\'     3\n",
      " '.'     2\n",
      " 'v'     1\n",
      " '<'     1\n",
      " '>'     1\n"
     ]
    }
   ],
   "source": [
    "# Task 2.2 #[9]\n",
    "def helper(lst, i, temp):\n",
    "    if temp[1] < lst[i-1][1]:\n",
    "        lst[i] = temp\n",
    "    elif i < 0:\n",
    "        lst[0] = temp\n",
    "    else:\n",
    "        lst[i] = lst[i-1]\n",
    "        helper(lst, i-1, temp)\n",
    "\n",
    "def insertionSort(lst):\n",
    "    for i in range(1, len(lst)):\n",
    "        helper(lst, i, lst[i])\n",
    "    \n",
    "\n",
    "def task_2_2(char_lst):\n",
    "    freq_dict = {}\n",
    "    for char in char_lst:\n",
    "        if char not in freq_dict:\n",
    "            freq_dict[char] = 1\n",
    "        else:\n",
    "            freq_dict[char] += 1\n",
    "    result = []\n",
    "    for key in freq_dict.keys():\n",
    "        result.append([key, freq_dict[key]])\n",
    "    \n",
    "    insertionSort(result)\n",
    "    \n",
    "    print(\"{:>4}{:>6}\".format(\"Char\", \"Freq\"))\n",
    "    for item in result:\n",
    "        print(\" \\'{:>}\\'{:>6}\".format(item[0], item[1]))\n",
    "\n",
    "task_2_2(task_2_1(\"example.txt\"))      \n",
    "task_2_2(task_2_1(\"inputA.txt\"))"
   ]
  },
  {
   "cell_type": "code",
   "execution_count": 4,
   "id": "d52e7d2b",
   "metadata": {
    "scrolled": false
   },
   "outputs": [
    {
     "name": "stdout",
     "output_type": "stream",
     "text": [
      "-------\n",
      "       \n",
      "(\\/)   \n",
      "( ..)  \n",
      "c(\")(\")\n",
      "       \n",
      "-------\n"
     ]
    }
   ],
   "source": [
    "# Task 2.3 #[6]\n",
    "def task_2_3(char_lst):\n",
    "    sq_len = int(len(char_lst) ** 0.5)\n",
    "    # initialise array\n",
    "    result = []\n",
    "    for i in range(sq_len):\n",
    "        result.append(['',]*sq_len)\n",
    "    #print(result)\n",
    "        \n",
    "    curr = [0,0]\n",
    "    move = {\"U\":(-1,0), \"D\":(1,0), \"L\":(0,-1), \"R\":(0,1)} # Order is DRUL\n",
    "    \n",
    "    result[0][0] = char_lst[0]\n",
    "    index = 1\n",
    "    \n",
    "    # first round is Down\n",
    "    for i in range(sq_len - 1):\n",
    "        curr[0] += move[\"D\"][0]\n",
    "        curr[1] += move[\"D\"][1]\n",
    "        result[curr[0]][curr[1]] = char_lst[index]\n",
    "        index += 1\n",
    "    \n",
    "    # Repeat till count is 0\n",
    "    \n",
    "    count = sq_len\n",
    "    while count > 0:\n",
    "        if count != 0:\n",
    "            # DO RU wiht count - 1\n",
    "            count -= 1\n",
    "            for i in range(count):\n",
    "                curr[0] += move[\"R\"][0]\n",
    "                curr[1] += move[\"R\"][1]\n",
    "                result[curr[0]][curr[1]] = char_lst[index]\n",
    "                index += 1\n",
    "            \n",
    "            for i in range(count):\n",
    "                curr[0] += move[\"U\"][0]\n",
    "                curr[1] += move[\"U\"][1]\n",
    "                result[curr[0]][curr[1]] = char_lst[index]\n",
    "                index += 1\n",
    "        \n",
    "        if count != 0:\n",
    "            # DO LD wiht count - 1\n",
    "            count -= 1\n",
    "            for i in range(count):\n",
    "                curr[0] += move[\"L\"][0]\n",
    "                curr[1] += move[\"L\"][1]\n",
    "                result[curr[0]][curr[1]] = char_lst[index]\n",
    "                index += 1\n",
    "            for i in range(count):\n",
    "                curr[0] += move[\"D\"][0]\n",
    "                curr[1] += move[\"D\"][1]\n",
    "                result[curr[0]][curr[1]] = char_lst[index]\n",
    "                index += 1        \n",
    "    return result\n",
    "    \n",
    "result = task_2_3(task_2_1(\"example.txt\"))\n",
    "for row in result:\n",
    "    for symbol in row:\n",
    "        print(symbol, end = \"\")\n",
    "    print()"
   ]
  },
  {
   "cell_type": "code",
   "execution_count": 5,
   "id": "3b16dbb7",
   "metadata": {},
   "outputs": [],
   "source": [
    "# Task 2.4 #[4]\n",
    "def task_2_4(inputfile, outputfile):\n",
    "    result = task_2_3(task_2_1(inputfile))\n",
    "    f = open(outputfile, 'w')\n",
    "    for line in result:\n",
    "        for item in line:\n",
    "            f.write(item)\n",
    "        f.write('\\n')\n",
    "    f.close()\n",
    "\n",
    "task_2_4(\"example.txt\", \"output.txt\")\n",
    "task_2_4(\"inputA.txt\", \"outputA.txt\")\n",
    "task_2_4(\"inputB.txt\", \"outputB.txt\")"
   ]
  },
  {
   "cell_type": "code",
   "execution_count": null,
   "id": "233337a0",
   "metadata": {},
   "outputs": [],
   "source": []
  },
  {
   "cell_type": "code",
   "execution_count": null,
   "id": "e949291f",
   "metadata": {},
   "outputs": [],
   "source": []
  },
  {
   "cell_type": "code",
   "execution_count": null,
   "id": "9053a332",
   "metadata": {},
   "outputs": [],
   "source": []
  }
 ],
 "metadata": {
  "kernelspec": {
   "display_name": "Python 3 (ipykernel)",
   "language": "python",
   "name": "python3"
  },
  "language_info": {
   "codemirror_mode": {
    "name": "ipython",
    "version": 3
   },
   "file_extension": ".py",
   "mimetype": "text/x-python",
   "name": "python",
   "nbconvert_exporter": "python",
   "pygments_lexer": "ipython3",
   "version": "3.7.7"
  }
 },
 "nbformat": 4,
 "nbformat_minor": 5
}
