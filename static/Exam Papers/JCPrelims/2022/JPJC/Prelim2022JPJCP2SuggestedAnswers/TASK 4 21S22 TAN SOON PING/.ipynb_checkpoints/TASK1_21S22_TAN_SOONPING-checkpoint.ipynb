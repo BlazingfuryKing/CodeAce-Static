{
 "cells": [
  {
   "cell_type": "code",
   "execution_count": 1,
   "metadata": {},
   "outputs": [],
   "source": [
    "#Task 1.1\n",
    "def JumpSearch(arr, x, m): #x is key\n",
    "    prev_i = 0\n",
    "    for i in range(0,len(arr),m):\n",
    "        if arr[i]<x: # iterative code to find range\n",
    "            prev_i = i\n",
    "        else:\n",
    "            break\n",
    "    \n",
    "    if i == prev_i: #end of list\n",
    "        i = len(arr) -1\n",
    "    \n",
    "    for index in range(prev_i,i): #iterates thru the range\n",
    "        if arr[index] == x:\n",
    "            return index\n",
    "    \n",
    "    return -1"
   ]
  },
  {
   "cell_type": "code",
   "execution_count": 2,
   "metadata": {},
   "outputs": [
    {
     "name": "stdout",
     "output_type": "stream",
     "text": [
      "9\n",
      "-1\n"
     ]
    }
   ],
   "source": [
    "#Case 1\n",
    "result1 = JumpSearch([0,1,2,3,5,8,13,21,34,55,89,144,233,377,610,999],55,4)\n",
    "print(result1)\n",
    "#Case 2\n",
    "result2 = JumpSearch([0,1,2,3,5,8,13,21,34,55,89,144,233,377,610,999],1000,4)\n",
    "print(result2)"
   ]
  },
  {
   "cell_type": "code",
   "execution_count": 3,
   "metadata": {},
   "outputs": [],
   "source": [
    "#Task 1.2\n",
    "def JumpSearchRecursive(arr,x,m,currentLastIndex):\n",
    "    index = currentLastIndex + m\n",
    "    if currentLastIndex == len(arr) -1:\n",
    "        return -1\n",
    "    \n",
    "    if index>len(arr)-1: #end of list\n",
    "        index = len(arr)-1\n",
    "    \n",
    "    if arr[index] > x: \n",
    "        #iterative code to find x\n",
    "        for i in range(currentLastIndex,index):\n",
    "            if arr[i] == x:\n",
    "                return i\n",
    "        return -1\n",
    "    else:\n",
    "        #recussive code to find range of x\n",
    "        return JumpSearchRecursive(arr,x,m,index)"
   ]
  },
  {
   "cell_type": "code",
   "execution_count": 4,
   "metadata": {},
   "outputs": [
    {
     "name": "stdout",
     "output_type": "stream",
     "text": [
      "9\n",
      "-1\n"
     ]
    }
   ],
   "source": [
    "#Case 1\n",
    "result1 = JumpSearchRecursive([0,1,2,3,5,8,13,21,34,55,89,144,233,377,610,999],55,4,0)\n",
    "print(result1)\n",
    "#Case 2\n",
    "result2 = JumpSearchRecursive([0,1,2,3,5,8,13,21,34,55,89,144,233,377,610,999],1000,4,0)\n",
    "print(result2)"
   ]
  },
  {
   "cell_type": "code",
   "execution_count": null,
   "metadata": {},
   "outputs": [],
   "source": []
  }
 ],
 "metadata": {
  "kernelspec": {
   "display_name": "Python 3",
   "language": "python",
   "name": "python3"
  },
  "language_info": {
   "codemirror_mode": {
    "name": "ipython",
    "version": 3
   },
   "file_extension": ".py",
   "mimetype": "text/x-python",
   "name": "python",
   "nbconvert_exporter": "python",
   "pygments_lexer": "ipython3",
   "version": "3.6.4"
  }
 },
 "nbformat": 4,
 "nbformat_minor": 2
}
