{
 "cells": [
  {
   "cell_type": "code",
   "execution_count": 7,
   "metadata": {},
   "outputs": [
    {
     "name": "stdout",
     "output_type": "stream",
     "text": [
      "True\n",
      "True\n"
     ]
    }
   ],
   "source": [
    "def JumpSearch(arr, x, m):\n",
    "    #purpose is to perform jump search on a sorted array with steps of size m\n",
    "    #with x being the key of the search. Returns the index of x\n",
    "    #returns -1 if not found\n",
    "    current_index = 0\n",
    "    prev_index = 0\n",
    "    while True:\n",
    "        if current_index >= len(arr):#pointer lies outside of array\n",
    "            current_index = len(arr) - 1\n",
    "            break\n",
    "        elif arr[current_index] < x:\n",
    "            prev_index = current_index\n",
    "            current_index += m\n",
    "        elif arr[current_index] == x: #found\n",
    "            return current_index\n",
    "        else: #case when the index of x is in between current_index and prev_index\n",
    "            break\n",
    "    for index in range(prev_index+1, current_index + 1): #do not include prev_index and current_index as it is not there\n",
    "        if arr[index] == x:\n",
    "            return index\n",
    "        \n",
    "    #if after traversing x is not found\n",
    "    return -1\n",
    "\n",
    "#========test cases============\n",
    "arr = [0,1,2,3,5,8,13,21,34,55,89,144,233,377,610,999]\n",
    "x = 55\n",
    "m = 4\n",
    "print(JumpSearch(arr,x,m) == arr.index(x)) #arr.index(x) will return the index of x in arr. This is to check if our JumpSearch works\n",
    "\n",
    "arr = [0,1,2,3,5,8,13,21,34,55,89,144,233,377,610,999]\n",
    "x = 1000\n",
    "m = 4\n",
    "print(JumpSearch(arr,x,m) == -1) #Since x does not lie in the array, JumpSearch() should return -1"
   ]
  },
  {
   "cell_type": "code",
   "execution_count": 10,
   "metadata": {},
   "outputs": [
    {
     "name": "stdout",
     "output_type": "stream",
     "text": [
      "True\n",
      "True\n"
     ]
    }
   ],
   "source": [
    "def JumpSearchRecursive(arr, x, m, currentLastIndex):\n",
    "    #goal: use recursion to as a method of traversal to get the index where currentLastIndex is above the index of x\n",
    "    #base cases\n",
    "    #1: when currentLastIndex lies outside of the arr\n",
    "    if currentLastIndex >= len(arr):\n",
    "        prev_index = currentLastIndex - m\n",
    "        cur_index = len(arr) - 1\n",
    "        for index in range(prev_index + 1, cur_index+1): #do not include the 2 boundaries\n",
    "            if arr[index] == x: #found\n",
    "                return index\n",
    "        return -1 #if not found after the traversal\n",
    "    #2: when currentLastIndex is above the index of x\n",
    "    if arr[currentLastIndex] > x:\n",
    "        prev_index = currentLastIndex - m\n",
    "        for index in range(prev_index + 1, currentLastIndex): #do not include the boundaries as we know x is not there\n",
    "            if arr[index] == x: #found\n",
    "                return index\n",
    "        return -1 #if not found after linear serach\n",
    "    return JumpSearchRecursive(arr, x, m, currentLastIndex + m)\n",
    "    \n",
    "    \n",
    "#========test cases============\n",
    "arr = [0,1,2,3,5,8,13,21,34,55,89,144,233,377,610,999]\n",
    "x = 55\n",
    "m = 4\n",
    "currentLastIndex = 0\n",
    "print(JumpSearchRecursive(arr, x, m, currentLastIndex) == arr.index(x)) #arr.index(x) will return the index of x in arr. This is to check if our JumpSearch works\n",
    "\n",
    "arr = [0,1,2,3,5,8,13,21,34,55,89,144,233,377,610,999]\n",
    "x = 1000\n",
    "m = 4\n",
    "currentLastIndex = 0\n",
    "print(JumpSearchRecursive(arr, x, m, currentLastIndex) == -1) #Since x does not lie in the array, JumpSearch() should return -1\n",
    "        "
   ]
  }
 ],
 "metadata": {
  "kernelspec": {
   "display_name": "Python 3",
   "language": "python",
   "name": "python3"
  },
  "language_info": {
   "codemirror_mode": {
    "name": "ipython",
    "version": 3
   },
   "file_extension": ".py",
   "mimetype": "text/x-python",
   "name": "python",
   "nbconvert_exporter": "python",
   "pygments_lexer": "ipython3",
   "version": "3.6.4"
  }
 },
 "nbformat": 4,
 "nbformat_minor": 2
}
